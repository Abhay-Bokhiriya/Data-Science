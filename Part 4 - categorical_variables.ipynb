{
 "cells": [
  {
   "cell_type": "markdown",
   "metadata": {},
   "source": [
    "# Part 4 - Categorically Speaking\n",
    "\n",
    "**Notice: This notebook is a modification of [cats.ipynb and targetencode.ipynb](https://mlbook.explained.ai/notebooks/index.html) by Terence Parr and Jeremy Howard, which were used by permission of the author.**\n",
    "\n",
    "Please use this notebook to follow along with the lectures this week. Feel free to modify the code in any way. \n",
    "\n",
    "There may be minor differences between the notebook seen in the lecture videos and this one. "
   ]
  },
  {
   "cell_type": "markdown",
   "metadata": {},
   "source": [
    "### Reestablish Baseline"
   ]
  },
  {
   "cell_type": "code",
   "execution_count": 31,
   "metadata": {
    "id": "6P6fbYCnN7vH"
   },
   "outputs": [],
   "source": [
    "from sklearn.model_selection import train_test_split\n",
    "from sklearn.ensemble import RandomForestRegressor\n",
    "from sklearn.metrics import mean_absolute_error, r2_score\n",
    "import numpy as np\n",
    "import pandas as pd\n",
    "from rfpimp import *\n",
    "import category_encoders as ce"
   ]
  },
  {
   "cell_type": "code",
   "execution_count": 32,
   "metadata": {},
   "outputs": [],
   "source": [
    "def evaluate(X, y):\n",
    "    rf = RandomForestRegressor(n_estimators=100, n_jobs=-1, oob_score=True)\n",
    "    rf.fit(X, y)\n",
    "    oob = rf.oob_score_\n",
    "    n = rfnnodes(rf)\n",
    "    h = np.median(rfmaxdepths(rf))\n",
    "    print(f\"OOB R^2 is {oob:.5f} using {n:,d} tree nodes with {h} median tree depth\")\n",
    "    return rf, oob"
   ]
  },
  {
   "cell_type": "code",
   "execution_count": 33,
   "metadata": {},
   "outputs": [],
   "source": [
    "def showimp(rf, X, y):\n",
    "    features = list(X.columns)\n",
    "    features.remove('latitude')\n",
    "    features.remove('longitude')\n",
    "    features += [['latitude','longitude']]\n",
    "\n",
    "    I = importances(rf, X, y, features=features)\n",
    "    plot_importances(I, color='#4575b4')"
   ]
  },
  {
   "cell_type": "code",
   "execution_count": 34,
   "metadata": {
    "colab": {
     "base_uri": "https://localhost:8080/",
     "height": 142
    },
    "id": "dJ83sz4UN7vR",
    "outputId": "f604b55c-b267-42a2-b595-b460360679e0"
   },
   "outputs": [],
   "source": [
    "rent = pd.read_csv('rent.csv')\n",
    "\n",
    "rent_clean = rent[(rent['price'] > 1000) & (rent['price'] < 10000)]\n",
    "rent_clean = rent_clean[(rent_clean['longitude'] !=0) | (rent_clean['latitude']!=0)]\n",
    "rent_clean = rent_clean[(rent_clean['latitude']>40.55) &\n",
    "                        (rent_clean['latitude']<40.94) &\n",
    "                        (rent_clean['longitude']>-74.1) &\n",
    "                        (rent_clean['longitude']<-73.67)]"
   ]
  },
  {
   "cell_type": "code",
   "execution_count": 35,
   "metadata": {},
   "outputs": [],
   "source": [
    "numfeatures = ['bathrooms', 'bedrooms', 'longitude', 'latitude']\n",
    "\n",
    "X = rent_clean[numfeatures]\n",
    "y = rent_clean['price']"
   ]
  },
  {
   "cell_type": "code",
   "execution_count": 36,
   "metadata": {},
   "outputs": [
    {
     "name": "stdout",
     "output_type": "stream",
     "text": [
      "OOB R^2 is 0.86773 using 2,432,376 tree nodes with 35.0 median tree depth\n"
     ]
    }
   ],
   "source": [
    "rf, oob = evaluate(X, y)"
   ]
  },
  {
   "cell_type": "code",
   "execution_count": 37,
   "metadata": {},
   "outputs": [
    {
     "data": {
      "image/png": "[encoded data removed]",
      "text/plain": [
       "<Figure size 288x108 with 1 Axes>"
      ]
     },
     "metadata": {
      "needs_background": "light"
     },
     "output_type": "display_data"
    }
   ],
   "source": [
    "showimp(rf, X, y)"
   ]
  },
  {
   "cell_type": "markdown",
   "metadata": {},
   "source": [
    "### Feature Engineering Continued"
   ]
  },
  {
   "cell_type": "markdown",
   "metadata": {},
   "source": [
    "#### Combining Existing Features\n",
    "\n",
    "Another thing we can do is mix features that we have in our data to create new ones. To give an example of this, let's create a new feature that combines the number of bedrooms with the number of bathrooms. What we are interested in is the ratio of bedroooms to bathrooms as this may an important predictor as well. The reasoning is that the more bedrooms you have, presumably the more people, and the more people you have can determine how long you have to wait for a bathroom to get ready, say for work or school. So, maybe the ratio of bedrooms to bathrooms would be a good feature to have. "
   ]
  },
  {
   "cell_type": "code",
   "execution_count": 38,
   "metadata": {},
   "outputs": [
    {
     "data": {
      "text/html": [
       "<div>\n",
       "<style scoped>\n",
       "    .dataframe tbody tr th:only-of-type {\n",
       "        vertical-align: middle;\n",
       "    }\n",
       "\n",
       "    .dataframe tbody tr th {\n",
       "        vertical-align: top;\n",
       "    }\n",
       "\n",
       "    .dataframe thead th {\n",
       "        text-align: right;\n",
       "    }\n",
       "</style>\n",
       "<table border=\"1\" class=\"dataframe\">\n",
       "  <thead>\n",
       "    <tr style=\"text-align: right;\">\n",
       "      <th></th>\n",
       "      <th>0</th>\n",
       "      <th>1</th>\n",
       "      <th>2</th>\n",
       "    </tr>\n",
       "  </thead>\n",
       "  <tbody>\n",
       "    <tr>\n",
       "      <th>bathrooms</th>\n",
       "      <td>1</td>\n",
       "      <td>1</td>\n",
       "      <td>1</td>\n",
       "    </tr>\n",
       "    <tr>\n",
       "      <th>bedrooms</th>\n",
       "      <td>1</td>\n",
       "      <td>2</td>\n",
       "      <td>2</td>\n",
       "    </tr>\n",
       "    <tr>\n",
       "      <th>building_id</th>\n",
       "      <td>8579a0b0d54db803821a35a4a615e97a</td>\n",
       "      <td>b8e75fc949a6cd8225b455648a951712</td>\n",
       "      <td>cd759a988b8f23924b5a2058d5ab2b49</td>\n",
       "    </tr>\n",
       "    <tr>\n",
       "      <th>created</th>\n",
       "      <td>2016-06-16 05:55:27</td>\n",
       "      <td>2016-06-01 05:44:33</td>\n",
       "      <td>2016-06-14 15:19:59</td>\n",
       "    </tr>\n",
       "    <tr>\n",
       "      <th>description</th>\n",
       "      <td>Spacious 1 Bedroom 1 Bathroom in Williamsburg!...</td>\n",
       "      <td>BRAND NEW GUT RENOVATED TRUE 2 BEDROOMFind you...</td>\n",
       "      <td>**FLEX 2 BEDROOM WITH FULL PRESSURIZED WALL**L...</td>\n",
       "    </tr>\n",
       "    <tr>\n",
       "      <th>display_address</th>\n",
       "      <td>145 Borinquen Place</td>\n",
       "      <td>East 44th</td>\n",
       "      <td>East 56th Street</td>\n",
       "    </tr>\n",
       "    <tr>\n",
       "      <th>features</th>\n",
       "      <td>['Dining Room', 'Pre-War', 'Laundry in Buildin...</td>\n",
       "      <td>['Doorman', 'Elevator', 'Laundry in Building',...</td>\n",
       "      <td>['Doorman', 'Elevator', 'Laundry in Building',...</td>\n",
       "    </tr>\n",
       "    <tr>\n",
       "      <th>latitude</th>\n",
       "      <td>40.7108</td>\n",
       "      <td>40.7513</td>\n",
       "      <td>40.7575</td>\n",
       "    </tr>\n",
       "    <tr>\n",
       "      <th>listing_id</th>\n",
       "      <td>7170325</td>\n",
       "      <td>7092344</td>\n",
       "      <td>7158677</td>\n",
       "    </tr>\n",
       "    <tr>\n",
       "      <th>longitude</th>\n",
       "      <td>-73.9539</td>\n",
       "      <td>-73.9722</td>\n",
       "      <td>-73.9625</td>\n",
       "    </tr>\n",
       "    <tr>\n",
       "      <th>manager_id</th>\n",
       "      <td>a10db4590843d78c784171a107bdacb4</td>\n",
       "      <td>955db33477af4f40004820b4aed804a0</td>\n",
       "      <td>c8b10a317b766204f08e613cef4ce7a0</td>\n",
       "    </tr>\n",
       "    <tr>\n",
       "      <th>photos</th>\n",
       "      <td>['https://photos.renthop.com/2/7170325_3bb5ac8...</td>\n",
       "      <td>['https://photos.renthop.com/2/7092344_7663c19...</td>\n",
       "      <td>['https://photos.renthop.com/2/7158677_c897a13...</td>\n",
       "    </tr>\n",
       "    <tr>\n",
       "      <th>price</th>\n",
       "      <td>2400</td>\n",
       "      <td>3800</td>\n",
       "      <td>3495</td>\n",
       "    </tr>\n",
       "    <tr>\n",
       "      <th>street_address</th>\n",
       "      <td>145 Borinquen Place</td>\n",
       "      <td>230 East 44th</td>\n",
       "      <td>405 East 56th Street</td>\n",
       "    </tr>\n",
       "    <tr>\n",
       "      <th>interest_level</th>\n",
       "      <td>medium</td>\n",
       "      <td>low</td>\n",
       "      <td>medium</td>\n",
       "    </tr>\n",
       "    <tr>\n",
       "      <th>beds_to_baths</th>\n",
       "      <td>0.5</td>\n",
       "      <td>1</td>\n",
       "      <td>1</td>\n",
       "    </tr>\n",
       "  </tbody>\n",
       "</table>\n",
       "</div>"
      ],
      "text/plain": [
       "                                                                 0  \\\n",
       "bathrooms                                                        1   \n",
       "bedrooms                                                         1   \n",
       "building_id                       8579a0b0d54db803821a35a4a615e97a   \n",
       "created                                        2016-06-16 05:55:27   \n",
       "description      Spacious 1 Bedroom 1 Bathroom in Williamsburg!...   \n",
       "display_address                                145 Borinquen Place   \n",
       "features         ['Dining Room', 'Pre-War', 'Laundry in Buildin...   \n",
       "latitude                                                   40.7108   \n",
       "listing_id                                                 7170325   \n",
       "longitude                                                 -73.9539   \n",
       "manager_id                        a10db4590843d78c784171a107bdacb4   \n",
       "photos           ['https://photos.renthop.com/2/7170325_3bb5ac8...   \n",
       "price                                                         2400   \n",
       "street_address                                 145 Borinquen Place   \n",
       "interest_level                                              medium   \n",
       "beds_to_baths                                                  0.5   \n",
       "\n",
       "                                                                 1  \\\n",
       "bathrooms                                                        1   \n",
       "bedrooms                                                         2   \n",
       "building_id                       b8e75fc949a6cd8225b455648a951712   \n",
       "created                                        2016-06-01 05:44:33   \n",
       "description      BRAND NEW GUT RENOVATED TRUE 2 BEDROOMFind you...   \n",
       "display_address                                          East 44th   \n",
       "features         ['Doorman', 'Elevator', 'Laundry in Building',...   \n",
       "latitude                                                   40.7513   \n",
       "listing_id                                                 7092344   \n",
       "longitude                                                 -73.9722   \n",
       "manager_id                        955db33477af4f40004820b4aed804a0   \n",
       "photos           ['https://photos.renthop.com/2/7092344_7663c19...   \n",
       "price                                                         3800   \n",
       "street_address                                       230 East 44th   \n",
       "interest_level                                                 low   \n",
       "beds_to_baths                                                    1   \n",
       "\n",
       "                                                                 2  \n",
       "bathrooms                                                        1  \n",
       "bedrooms                                                         2  \n",
       "building_id                       cd759a988b8f23924b5a2058d5ab2b49  \n",
       "created                                        2016-06-14 15:19:59  \n",
       "description      **FLEX 2 BEDROOM WITH FULL PRESSURIZED WALL**L...  \n",
       "display_address                                   East 56th Street  \n",
       "features         ['Doorman', 'Elevator', 'Laundry in Building',...  \n",
       "latitude                                                   40.7575  \n",
       "listing_id                                                 7158677  \n",
       "longitude                                                 -73.9625  \n",
       "manager_id                        c8b10a317b766204f08e613cef4ce7a0  \n",
       "photos           ['https://photos.renthop.com/2/7158677_c897a13...  \n",
       "price                                                         3495  \n",
       "street_address                                405 East 56th Street  \n",
       "interest_level                                              medium  \n",
       "beds_to_baths                                                    1  "
      ]
     },
     "execution_count": 38,
     "metadata": {},
     "output_type": "execute_result"
    }
   ],
   "source": [
    "rent_clean['beds_to_baths'] = rent_clean['bedrooms'] / (rent_clean['bathrooms'] + 1)\n",
    "rent_clean.head(3).T"
   ]
  },
  {
   "cell_type": "markdown",
   "metadata": {},
   "source": [
    "Now we'll see if this has any impact on our model's performance. "
   ]
  },
  {
   "cell_type": "code",
   "execution_count": 39,
   "metadata": {},
   "outputs": [],
   "source": [
    "X = rent_clean[numfeatures + ['beds_to_baths']]\n",
    "y = rent_clean['price']"
   ]
  },
  {
   "cell_type": "code",
   "execution_count": 40,
   "metadata": {},
   "outputs": [
    {
     "name": "stdout",
     "output_type": "stream",
     "text": [
      "OOB R^2 is 0.86822 using 2,433,068 tree nodes with 35.0 median tree depth\n"
     ]
    }
   ],
   "source": [
    "rf, oob = evaluate(X, y)"
   ]
  },
  {
   "cell_type": "code",
   "execution_count": 41,
   "metadata": {},
   "outputs": [
    {
     "data": {
      "image/png": "[encoded data removed]",
      "text/plain": [
       "<Figure size 288x108 with 1 Axes>"
      ]
     },
     "metadata": {
      "needs_background": "light"
     },
     "output_type": "display_data"
    }
   ],
   "source": [
    "showimp(rf, X, y)"
   ]
  },
  {
   "cell_type": "markdown",
   "metadata": {},
   "source": [
    "Maybe total number of bedrooms plus bathrooms is what is important, as opposed to having them both listed separately. "
   ]
  },
  {
   "cell_type": "code",
   "execution_count": 42,
   "metadata": {},
   "outputs": [
    {
     "data": {
      "text/html": [
       "<div>\n",
       "<style scoped>\n",
       "    .dataframe tbody tr th:only-of-type {\n",
       "        vertical-align: middle;\n",
       "    }\n",
       "\n",
       "    .dataframe tbody tr th {\n",
       "        vertical-align: top;\n",
       "    }\n",
       "\n",
       "    .dataframe thead th {\n",
       "        text-align: right;\n",
       "    }\n",
       "</style>\n",
       "<table border=\"1\" class=\"dataframe\">\n",
       "  <thead>\n",
       "    <tr style=\"text-align: right;\">\n",
       "      <th></th>\n",
       "      <th>0</th>\n",
       "      <th>1</th>\n",
       "      <th>2</th>\n",
       "    </tr>\n",
       "  </thead>\n",
       "  <tbody>\n",
       "    <tr>\n",
       "      <th>bathrooms</th>\n",
       "      <td>1</td>\n",
       "      <td>1</td>\n",
       "      <td>1</td>\n",
       "    </tr>\n",
       "    <tr>\n",
       "      <th>bedrooms</th>\n",
       "      <td>1</td>\n",
       "      <td>2</td>\n",
       "      <td>2</td>\n",
       "    </tr>\n",
       "    <tr>\n",
       "      <th>building_id</th>\n",
       "      <td>8579a0b0d54db803821a35a4a615e97a</td>\n",
       "      <td>b8e75fc949a6cd8225b455648a951712</td>\n",
       "      <td>cd759a988b8f23924b5a2058d5ab2b49</td>\n",
       "    </tr>\n",
       "    <tr>\n",
       "      <th>created</th>\n",
       "      <td>2016-06-16 05:55:27</td>\n",
       "      <td>2016-06-01 05:44:33</td>\n",
       "      <td>2016-06-14 15:19:59</td>\n",
       "    </tr>\n",
       "    <tr>\n",
       "      <th>description</th>\n",
       "      <td>Spacious 1 Bedroom 1 Bathroom in Williamsburg!...</td>\n",
       "      <td>BRAND NEW GUT RENOVATED TRUE 2 BEDROOMFind you...</td>\n",
       "      <td>**FLEX 2 BEDROOM WITH FULL PRESSURIZED WALL**L...</td>\n",
       "    </tr>\n",
       "    <tr>\n",
       "      <th>display_address</th>\n",
       "      <td>145 Borinquen Place</td>\n",
       "      <td>East 44th</td>\n",
       "      <td>East 56th Street</td>\n",
       "    </tr>\n",
       "    <tr>\n",
       "      <th>features</th>\n",
       "      <td>['Dining Room', 'Pre-War', 'Laundry in Buildin...</td>\n",
       "      <td>['Doorman', 'Elevator', 'Laundry in Building',...</td>\n",
       "      <td>['Doorman', 'Elevator', 'Laundry in Building',...</td>\n",
       "    </tr>\n",
       "    <tr>\n",
       "      <th>latitude</th>\n",
       "      <td>40.7108</td>\n",
       "      <td>40.7513</td>\n",
       "      <td>40.7575</td>\n",
       "    </tr>\n",
       "    <tr>\n",
       "      <th>listing_id</th>\n",
       "      <td>7170325</td>\n",
       "      <td>7092344</td>\n",
       "      <td>7158677</td>\n",
       "    </tr>\n",
       "    <tr>\n",
       "      <th>longitude</th>\n",
       "      <td>-73.9539</td>\n",
       "      <td>-73.9722</td>\n",
       "      <td>-73.9625</td>\n",
       "    </tr>\n",
       "    <tr>\n",
       "      <th>manager_id</th>\n",
       "      <td>a10db4590843d78c784171a107bdacb4</td>\n",
       "      <td>955db33477af4f40004820b4aed804a0</td>\n",
       "      <td>c8b10a317b766204f08e613cef4ce7a0</td>\n",
       "    </tr>\n",
       "    <tr>\n",
       "      <th>photos</th>\n",
       "      <td>['https://photos.renthop.com/2/7170325_3bb5ac8...</td>\n",
       "      <td>['https://photos.renthop.com/2/7092344_7663c19...</td>\n",
       "      <td>['https://photos.renthop.com/2/7158677_c897a13...</td>\n",
       "    </tr>\n",
       "    <tr>\n",
       "      <th>price</th>\n",
       "      <td>2400</td>\n",
       "      <td>3800</td>\n",
       "      <td>3495</td>\n",
       "    </tr>\n",
       "    <tr>\n",
       "      <th>street_address</th>\n",
       "      <td>145 Borinquen Place</td>\n",
       "      <td>230 East 44th</td>\n",
       "      <td>405 East 56th Street</td>\n",
       "    </tr>\n",
       "    <tr>\n",
       "      <th>interest_level</th>\n",
       "      <td>medium</td>\n",
       "      <td>low</td>\n",
       "      <td>medium</td>\n",
       "    </tr>\n",
       "    <tr>\n",
       "      <th>beds_to_baths</th>\n",
       "      <td>0.5</td>\n",
       "      <td>1</td>\n",
       "      <td>1</td>\n",
       "    </tr>\n",
       "    <tr>\n",
       "      <th>total_rooms</th>\n",
       "      <td>2</td>\n",
       "      <td>3</td>\n",
       "      <td>3</td>\n",
       "    </tr>\n",
       "  </tbody>\n",
       "</table>\n",
       "</div>"
      ],
      "text/plain": [
       "                                                                 0  \\\n",
       "bathrooms                                                        1   \n",
       "bedrooms                                                         1   \n",
       "building_id                       8579a0b0d54db803821a35a4a615e97a   \n",
       "created                                        2016-06-16 05:55:27   \n",
       "description      Spacious 1 Bedroom 1 Bathroom in Williamsburg!...   \n",
       "display_address                                145 Borinquen Place   \n",
       "features         ['Dining Room', 'Pre-War', 'Laundry in Buildin...   \n",
       "latitude                                                   40.7108   \n",
       "listing_id                                                 7170325   \n",
       "longitude                                                 -73.9539   \n",
       "manager_id                        a10db4590843d78c784171a107bdacb4   \n",
       "photos           ['https://photos.renthop.com/2/7170325_3bb5ac8...   \n",
       "price                                                         2400   \n",
       "street_address                                 145 Borinquen Place   \n",
       "interest_level                                              medium   \n",
       "beds_to_baths                                                  0.5   \n",
       "total_rooms                                                      2   \n",
       "\n",
       "                                                                 1  \\\n",
       "bathrooms                                                        1   \n",
       "bedrooms                                                         2   \n",
       "building_id                       b8e75fc949a6cd8225b455648a951712   \n",
       "created                                        2016-06-01 05:44:33   \n",
       "description      BRAND NEW GUT RENOVATED TRUE 2 BEDROOMFind you...   \n",
       "display_address                                          East 44th   \n",
       "features         ['Doorman', 'Elevator', 'Laundry in Building',...   \n",
       "latitude                                                   40.7513   \n",
       "listing_id                                                 7092344   \n",
       "longitude                                                 -73.9722   \n",
       "manager_id                        955db33477af4f40004820b4aed804a0   \n",
       "photos           ['https://photos.renthop.com/2/7092344_7663c19...   \n",
       "price                                                         3800   \n",
       "street_address                                       230 East 44th   \n",
       "interest_level                                                 low   \n",
       "beds_to_baths                                                    1   \n",
       "total_rooms                                                      3   \n",
       "\n",
       "                                                                 2  \n",
       "bathrooms                                                        1  \n",
       "bedrooms                                                         2  \n",
       "building_id                       cd759a988b8f23924b5a2058d5ab2b49  \n",
       "created                                        2016-06-14 15:19:59  \n",
       "description      **FLEX 2 BEDROOM WITH FULL PRESSURIZED WALL**L...  \n",
       "display_address                                   East 56th Street  \n",
       "features         ['Doorman', 'Elevator', 'Laundry in Building',...  \n",
       "latitude                                                   40.7575  \n",
       "listing_id                                                 7158677  \n",
       "longitude                                                 -73.9625  \n",
       "manager_id                        c8b10a317b766204f08e613cef4ce7a0  \n",
       "photos           ['https://photos.renthop.com/2/7158677_c897a13...  \n",
       "price                                                         3495  \n",
       "street_address                                405 East 56th Street  \n",
       "interest_level                                              medium  \n",
       "beds_to_baths                                                    1  \n",
       "total_rooms                                                      3  "
      ]
     },
     "execution_count": 42,
     "metadata": {},
     "output_type": "execute_result"
    }
   ],
   "source": [
    "rent_clean['total_rooms'] = rent_clean['bathrooms'] + rent_clean['bedrooms']\n",
    "rent_clean.head(3).T"
   ]
  },
  {
   "cell_type": "code",
   "execution_count": 43,
   "metadata": {},
   "outputs": [],
   "source": [
    "X = rent_clean[['longitude', 'latitude', 'total_rooms']]\n",
    "y = rent_clean['price']"
   ]
  },
  {
   "cell_type": "code",
   "execution_count": 44,
   "metadata": {},
   "outputs": [
    {
     "name": "stdout",
     "output_type": "stream",
     "text": [
      "OOB R^2 is 0.85812 using 2,398,018 tree nodes with 36.0 median tree depth\n"
     ]
    }
   ],
   "source": [
    "rf, oob = evaluate(X, y)"
   ]
  },
  {
   "cell_type": "code",
   "execution_count": 45,
   "metadata": {},
   "outputs": [
    {
     "data": {
      "image/png": "[encoded data removed]",
      "text/plain": [
       "<Figure size 288x108 with 1 Axes>"
      ]
     },
     "metadata": {
      "needs_background": "light"
     },
     "output_type": "display_data"
    }
   ],
   "source": [
    "showimp(rf, X, y)"
   ]
  },
  {
   "cell_type": "markdown",
   "metadata": {},
   "source": [
    "Or, maybe not! \n",
    "\n",
    "We don't have a lot of raw numeric features to play around with here, but if you did, you would want to explore other combinations and measure their impact on how well the model generalizes. \n",
    "\n",
    "We do have another numeric variable to consider, which is the target, `price`. And yes, combining the target with other features is as dangerous as it sounds. Let's explore that next. "
   ]
  },
  {
   "cell_type": "markdown",
   "metadata": {},
   "source": [
    "##### Target Encoding\n",
    "\n",
    "Any new feature that includes information about the target is referred to as *target encoding*. This is a technique that can sometimes be used to encode categorical variables. The simplest way to do this would be to use the mean of the target for each unique category value. Let's see how this would work for `building_id`. "
   ]
  },
  {
   "cell_type": "code",
   "execution_count": 46,
   "metadata": {},
   "outputs": [
    {
     "data": {
      "text/html": [
       "<div>\n",
       "<style scoped>\n",
       "    .dataframe tbody tr th:only-of-type {\n",
       "        vertical-align: middle;\n",
       "    }\n",
       "\n",
       "    .dataframe tbody tr th {\n",
       "        vertical-align: top;\n",
       "    }\n",
       "\n",
       "    .dataframe thead th {\n",
       "        text-align: right;\n",
       "    }\n",
       "</style>\n",
       "<table border=\"1\" class=\"dataframe\">\n",
       "  <thead>\n",
       "    <tr style=\"text-align: right;\">\n",
       "      <th></th>\n",
       "      <th>price</th>\n",
       "    </tr>\n",
       "    <tr>\n",
       "      <th>building_id</th>\n",
       "      <th></th>\n",
       "    </tr>\n",
       "  </thead>\n",
       "  <tbody>\n",
       "    <tr>\n",
       "      <th>0</th>\n",
       "      <td>3195.9321</td>\n",
       "    </tr>\n",
       "    <tr>\n",
       "      <th>00005cb939f9986300d987652c933e15</th>\n",
       "      <td>3399.0000</td>\n",
       "    </tr>\n",
       "    <tr>\n",
       "      <th>00024d77a43f0606f926e2312513845c</th>\n",
       "      <td>2000.0000</td>\n",
       "    </tr>\n",
       "    <tr>\n",
       "      <th>000ae4b7db298401cdae2b0ba1ea8146</th>\n",
       "      <td>2400.0000</td>\n",
       "    </tr>\n",
       "    <tr>\n",
       "      <th>0012f1955391bca600ec301035b97b65</th>\n",
       "      <td>3700.0000</td>\n",
       "    </tr>\n",
       "    <tr>\n",
       "      <th>...</th>\n",
       "      <td>...</td>\n",
       "    </tr>\n",
       "    <tr>\n",
       "      <th>ffdd4ab83705c9b13a9592a709414ae8</th>\n",
       "      <td>2600.0000</td>\n",
       "    </tr>\n",
       "    <tr>\n",
       "      <th>ffdda5554b6aa528637e1565330ea039</th>\n",
       "      <td>1795.0000</td>\n",
       "    </tr>\n",
       "    <tr>\n",
       "      <th>ffde4f77049b631ee532fa9e0ebdd95d</th>\n",
       "      <td>2300.0000</td>\n",
       "    </tr>\n",
       "    <tr>\n",
       "      <th>ffe55387cd931c117ee1b8446f21953b</th>\n",
       "      <td>2400.0000</td>\n",
       "    </tr>\n",
       "    <tr>\n",
       "      <th>fff5915444b98b72a44a9456901f083c</th>\n",
       "      <td>2087.5000</td>\n",
       "    </tr>\n",
       "  </tbody>\n",
       "</table>\n",
       "<p>7417 rows × 1 columns</p>\n",
       "</div>"
      ],
      "text/plain": [
       "                                      price\n",
       "building_id                                \n",
       "0                                 3195.9321\n",
       "00005cb939f9986300d987652c933e15  3399.0000\n",
       "00024d77a43f0606f926e2312513845c  2000.0000\n",
       "000ae4b7db298401cdae2b0ba1ea8146  2400.0000\n",
       "0012f1955391bca600ec301035b97b65  3700.0000\n",
       "...                                     ...\n",
       "ffdd4ab83705c9b13a9592a709414ae8  2600.0000\n",
       "ffdda5554b6aa528637e1565330ea039  1795.0000\n",
       "ffde4f77049b631ee532fa9e0ebdd95d  2300.0000\n",
       "ffe55387cd931c117ee1b8446f21953b  2400.0000\n",
       "fff5915444b98b72a44a9456901f083c  2087.5000\n",
       "\n",
       "[7417 rows x 1 columns]"
      ]
     },
     "execution_count": 46,
     "metadata": {},
     "output_type": "execute_result"
    }
   ],
   "source": [
    "rent_clean[['building_id', 'price']].groupby('building_id').mean()"
   ]
  },
  {
   "cell_type": "markdown",
   "metadata": {},
   "source": [
    "The code above groups all the rows according to unique building_id values and then calculates the mean of all the apartments associated with that ID. We would now use the mean prices in place of building_id. (We will ignore  the funny looking `building_id = 0`, although we would normally inverstigate that.) \n",
    "\n",
    "**Warning**: Using target information in our features is prone to overfitting so it is usually best to use a library like `categorical_encoders` to do this, which is what we will do now. And, to be careful, we will use a validation set, instead of the out-of-bag score.  "
   ]
  },
  {
   "cell_type": "code",
   "execution_count": 47,
   "metadata": {},
   "outputs": [
    {
     "data": {
      "text/html": [
       "<div>\n",
       "<style scoped>\n",
       "    .dataframe tbody tr th:only-of-type {\n",
       "        vertical-align: middle;\n",
       "    }\n",
       "\n",
       "    .dataframe tbody tr th {\n",
       "        vertical-align: top;\n",
       "    }\n",
       "\n",
       "    .dataframe thead th {\n",
       "        text-align: right;\n",
       "    }\n",
       "</style>\n",
       "<table border=\"1\" class=\"dataframe\">\n",
       "  <thead>\n",
       "    <tr style=\"text-align: right;\">\n",
       "      <th></th>\n",
       "      <th>bathrooms</th>\n",
       "      <th>bedrooms</th>\n",
       "      <th>longitude</th>\n",
       "      <th>latitude</th>\n",
       "      <th>building_id</th>\n",
       "    </tr>\n",
       "  </thead>\n",
       "  <tbody>\n",
       "    <tr>\n",
       "      <th>0</th>\n",
       "      <td>1.0</td>\n",
       "      <td>1</td>\n",
       "      <td>-73.9539</td>\n",
       "      <td>40.7108</td>\n",
       "      <td>8579a0b0d54db803821a35a4a615e97a</td>\n",
       "    </tr>\n",
       "    <tr>\n",
       "      <th>1</th>\n",
       "      <td>1.0</td>\n",
       "      <td>2</td>\n",
       "      <td>-73.9722</td>\n",
       "      <td>40.7513</td>\n",
       "      <td>b8e75fc949a6cd8225b455648a951712</td>\n",
       "    </tr>\n",
       "    <tr>\n",
       "      <th>2</th>\n",
       "      <td>1.0</td>\n",
       "      <td>2</td>\n",
       "      <td>-73.9625</td>\n",
       "      <td>40.7575</td>\n",
       "      <td>cd759a988b8f23924b5a2058d5ab2b49</td>\n",
       "    </tr>\n",
       "  </tbody>\n",
       "</table>\n",
       "</div>"
      ],
      "text/plain": [
       "   bathrooms  bedrooms  longitude  latitude                       building_id\n",
       "0        1.0         1   -73.9539   40.7108  8579a0b0d54db803821a35a4a615e97a\n",
       "1        1.0         2   -73.9722   40.7513  b8e75fc949a6cd8225b455648a951712\n",
       "2        1.0         2   -73.9625   40.7575  cd759a988b8f23924b5a2058d5ab2b49"
      ]
     },
     "execution_count": 47,
     "metadata": {},
     "output_type": "execute_result"
    }
   ],
   "source": [
    "X = rent_clean[numfeatures + ['building_id']]\n",
    "y = rent_clean['price']\n",
    "X.head(3)"
   ]
  },
  {
   "cell_type": "markdown",
   "metadata": {},
   "source": [
    "Now let's get a baseline for the original 4 numeric features but using a validation set instead of the out-of-bag score. "
   ]
  },
  {
   "cell_type": "code",
   "execution_count": 48,
   "metadata": {},
   "outputs": [
    {
     "name": "stdout",
     "output_type": "stream",
     "text": [
      "0.851285 score 2,123,554 tree nodes and 35.0 median tree height\n"
     ]
    }
   ],
   "source": [
    "from sklearn.model_selection import train_test_split\n",
    "\n",
    "X_train, X_val, y_train, y_val = train_test_split(X, y, test_size=0.20)\n",
    "\n",
    "X_train_orig = X_train[numfeatures]\n",
    "y_train_orig = y_train.copy()\n",
    "X_val_orig = X_val[numfeatures]\n",
    "y_val_orig = y_val.copy()\n",
    "\n",
    "rf = RandomForestRegressor(n_estimators=100, n_jobs=-1)\n",
    "rf.fit(X_train_orig, y_train_orig)\n",
    "\n",
    "val_score_orig = rf.score(X_val_orig, y_val_orig)\n",
    "\n",
    "print(f\"{val_score_orig:4f} score {rfnnodes(rf):,d} tree nodes and {np.median(rfmaxdepths(rf))} median tree height\")"
   ]
  },
  {
   "cell_type": "code",
   "execution_count": 49,
   "metadata": {},
   "outputs": [
    {
     "data": {
      "image/png": "[encoded data removed]",
      "text/plain": [
       "<Figure size 288x108 with 1 Axes>"
      ]
     },
     "metadata": {
      "needs_background": "light"
     },
     "output_type": "display_data"
    }
   ],
   "source": [
    "showimp(rf, X_train_orig, y_train_orig)"
   ]
  },
  {
   "cell_type": "markdown",
   "metadata": {},
   "source": [
    "Now let's get a validation score for a model that uses the target encoded `building_id`. "
   ]
  },
  {
   "cell_type": "code",
   "execution_count": 50,
   "metadata": {},
   "outputs": [
    {
     "name": "stderr",
     "output_type": "stream",
     "text": [
      "C:\\Users\\MCASSAR\\Anaconda3\\envs\\DAB300-F20\\lib\\site-packages\\category_encoders\\utils.py:21: FutureWarning: is_categorical is deprecated and will be removed in a future version.  Use is_categorical_dtype instead\n",
      "  elif pd.api.types.is_categorical(cols):\n"
     ]
    }
   ],
   "source": [
    "encoder = ce.TargetEncoder(cols=['building_id'])\n",
    "\n",
    "encoder.fit(X_train, y_train)\n",
    "\n",
    "X_train_enc = encoder.transform(X_train, y_train)\n",
    "y_train_enc = y_train.copy()\n",
    "X_val_enc = encoder.transform(X_val)\n",
    "y_val_enc = y_val.copy()"
   ]
  },
  {
   "cell_type": "code",
   "execution_count": 51,
   "metadata": {},
   "outputs": [
    {
     "data": {
      "text/html": [
       "<div>\n",
       "<style scoped>\n",
       "    .dataframe tbody tr th:only-of-type {\n",
       "        vertical-align: middle;\n",
       "    }\n",
       "\n",
       "    .dataframe tbody tr th {\n",
       "        vertical-align: top;\n",
       "    }\n",
       "\n",
       "    .dataframe thead th {\n",
       "        text-align: right;\n",
       "    }\n",
       "</style>\n",
       "<table border=\"1\" class=\"dataframe\">\n",
       "  <thead>\n",
       "    <tr style=\"text-align: right;\">\n",
       "      <th></th>\n",
       "      <th>bathrooms</th>\n",
       "      <th>bedrooms</th>\n",
       "      <th>longitude</th>\n",
       "      <th>latitude</th>\n",
       "      <th>building_id</th>\n",
       "    </tr>\n",
       "  </thead>\n",
       "  <tbody>\n",
       "    <tr>\n",
       "      <th>13685</th>\n",
       "      <td>1.0</td>\n",
       "      <td>1</td>\n",
       "      <td>-73.9408</td>\n",
       "      <td>40.7198</td>\n",
       "      <td>3199.047452</td>\n",
       "    </tr>\n",
       "    <tr>\n",
       "      <th>2290</th>\n",
       "      <td>1.0</td>\n",
       "      <td>2</td>\n",
       "      <td>-73.9838</td>\n",
       "      <td>40.7275</td>\n",
       "      <td>4278.270801</td>\n",
       "    </tr>\n",
       "    <tr>\n",
       "      <th>46724</th>\n",
       "      <td>1.0</td>\n",
       "      <td>0</td>\n",
       "      <td>-73.9848</td>\n",
       "      <td>40.7635</td>\n",
       "      <td>3199.047452</td>\n",
       "    </tr>\n",
       "  </tbody>\n",
       "</table>\n",
       "</div>"
      ],
      "text/plain": [
       "       bathrooms  bedrooms  longitude  latitude  building_id\n",
       "13685        1.0         1   -73.9408   40.7198  3199.047452\n",
       "2290         1.0         2   -73.9838   40.7275  4278.270801\n",
       "46724        1.0         0   -73.9848   40.7635  3199.047452"
      ]
     },
     "execution_count": 51,
     "metadata": {},
     "output_type": "execute_result"
    }
   ],
   "source": [
    "X_train_enc.head(3)"
   ]
  },
  {
   "cell_type": "code",
   "execution_count": 52,
   "metadata": {},
   "outputs": [
    {
     "data": {
      "text/html": [
       "<div>\n",
       "<style scoped>\n",
       "    .dataframe tbody tr th:only-of-type {\n",
       "        vertical-align: middle;\n",
       "    }\n",
       "\n",
       "    .dataframe tbody tr th {\n",
       "        vertical-align: top;\n",
       "    }\n",
       "\n",
       "    .dataframe thead th {\n",
       "        text-align: right;\n",
       "    }\n",
       "</style>\n",
       "<table border=\"1\" class=\"dataframe\">\n",
       "  <thead>\n",
       "    <tr style=\"text-align: right;\">\n",
       "      <th></th>\n",
       "      <th>bathrooms</th>\n",
       "      <th>bedrooms</th>\n",
       "      <th>longitude</th>\n",
       "      <th>latitude</th>\n",
       "      <th>building_id</th>\n",
       "    </tr>\n",
       "  </thead>\n",
       "  <tbody>\n",
       "    <tr>\n",
       "      <th>20321</th>\n",
       "      <td>1.0</td>\n",
       "      <td>2</td>\n",
       "      <td>-74.0044</td>\n",
       "      <td>40.7231</td>\n",
       "      <td>3671.544118</td>\n",
       "    </tr>\n",
       "    <tr>\n",
       "      <th>15574</th>\n",
       "      <td>1.0</td>\n",
       "      <td>0</td>\n",
       "      <td>-73.9999</td>\n",
       "      <td>40.7296</td>\n",
       "      <td>3199.047452</td>\n",
       "    </tr>\n",
       "    <tr>\n",
       "      <th>44158</th>\n",
       "      <td>1.0</td>\n",
       "      <td>2</td>\n",
       "      <td>-74.0143</td>\n",
       "      <td>40.7100</td>\n",
       "      <td>2756.650794</td>\n",
       "    </tr>\n",
       "  </tbody>\n",
       "</table>\n",
       "</div>"
      ],
      "text/plain": [
       "       bathrooms  bedrooms  longitude  latitude  building_id\n",
       "20321        1.0         2   -74.0044   40.7231  3671.544118\n",
       "15574        1.0         0   -73.9999   40.7296  3199.047452\n",
       "44158        1.0         2   -74.0143   40.7100  2756.650794"
      ]
     },
     "execution_count": 52,
     "metadata": {},
     "output_type": "execute_result"
    }
   ],
   "source": [
    "X_val_enc.head(3)"
   ]
  },
  {
   "cell_type": "code",
   "execution_count": 53,
   "metadata": {},
   "outputs": [
    {
     "name": "stdout",
     "output_type": "stream",
     "text": [
      "0.844028 score 2,379,578 tree nodes and 38.0 median tree height\n"
     ]
    }
   ],
   "source": [
    "rf = RandomForestRegressor(n_estimators=100, n_jobs=-1)\n",
    "rf.fit(X_train_enc, y_train_enc)\n",
    "\n",
    "val_enc_score = rf.score(X_val_enc, y_val_enc)\n",
    "\n",
    "print(f\"{val_enc_score:4f} score {rfnnodes(rf):,d} tree nodes and {np.median(rfmaxdepths(rf))} median tree height\")"
   ]
  },
  {
   "cell_type": "code",
   "execution_count": 54,
   "metadata": {},
   "outputs": [
    {
     "data": {
      "image/png": "[encoded data removed]",
      "text/plain": [
       "<Figure size 288x108 with 1 Axes>"
      ]
     },
     "metadata": {
      "needs_background": "light"
     },
     "output_type": "display_data"
    }
   ],
   "source": [
    "showimp(rf, X_train_enc, y_train_enc)"
   ]
  },
  {
   "cell_type": "markdown",
   "metadata": {},
   "source": [
    "While the validation scores are similar, the median tree height has increased and now the model feels that the target encoded `building_id` feature is, by a substantial margin, the most important feature. This is suspicious and indicates that the model is overfitting, that is, attaching too much importance to this feature as opposed to the other features that we know are important; most likely a result of using the target information. \n",
    "\n",
    "It may not be useful here, but it is good to know this technique and how to properly apply it. "
   ]
  },
  {
   "cell_type": "markdown",
   "metadata": {},
   "source": [
    "##### Exercise\n",
    "\n",
    "Try *target encoding* the `manager_id` and `display_address` features and comparing the results to the baseline. "
   ]
  },
  {
   "cell_type": "markdown",
   "metadata": {},
   "source": [
    "#### Adding Features Using Other Data\n",
    "\n",
    "After you have explored all you can do with the original raw data, it may be worthwhile to include information from other sources. For apartments in New York City, as is the case in most cities, adding a *neighbourhood* feature may have predictive power. While we have `latitude` and `longitude` different neighbourhoods may command different prices for an apartment with otherwise similar features because some areas of the city are more trendy than others; and, as a result, people may be willing to pay more to live there. (See [Chapter 6](https://mlbook.explained.ai/catvars.html#sec:6.6) for more details.)\n",
    "\n",
    "We can first using something like maps.google.com (similar) to estimate the latitude and longitude of some neighbourhoods in New York City and store that information in a dictionary. "
   ]
  },
  {
   "cell_type": "code",
   "execution_count": 55,
   "metadata": {},
   "outputs": [],
   "source": [
    "hoods = {\n",
    "    \"hells\" : [40.7622, -73.9924],\n",
    "    \"astoria\" : [40.7796684, -73.9215888],\n",
    "    \"Evillage\" : [40.723163774, -73.984829394],\n",
    "    \"Wvillage\" : [40.73578, -74.00357],\n",
    "    \"LowerEast\" : [40.715033, -73.9842724],\n",
    "    \"UpperEast\" : [40.768163594, -73.959329496],\n",
    "    \"ParkSlope\" : [40.672404, -73.977063],\n",
    "    \"Prospect Park\" : [40.93704, -74.17431],\n",
    "    \"Crown Heights\" : [40.657830702, -73.940162906],\n",
    "    \"financial\" : [40.703830518, -74.005666644],\n",
    "    \"brooklynheights\" : [40.7022621909, -73.9871760513],\n",
    "    \"gowanus\" : [40.673, -73.997]\n",
    "}"
   ]
  },
  {
   "cell_type": "markdown",
   "metadata": {},
   "source": [
    "We now want to create a new feature for each neighbourhood that calculates the, appropriately named, *Manhattan distance* from each apartment to that neighbourhood. We use Manhattan distance as that could be considered more connected to walking distance from the apartment to the neighbourhood in question. \n",
    "\n",
    "\n",
    "<img src=\"Lecture_36_manhattan_dist.jpg\" width=600 align=\"center\">"
   ]
  },
  {
   "cell_type": "code",
   "execution_count": 56,
   "metadata": {},
   "outputs": [],
   "source": [
    "for hood, loc in hoods.items():\n",
    "    rent_clean[hood] = np.abs(rent_clean['latitude'] - loc[0]) + np.abs(rent_clean['longitude'] - loc[1])"
   ]
  },
  {
   "cell_type": "code",
   "execution_count": 57,
   "metadata": {},
   "outputs": [
    {
     "data": {
      "text/html": [
       "<div>\n",
       "<style scoped>\n",
       "    .dataframe tbody tr th:only-of-type {\n",
       "        vertical-align: middle;\n",
       "    }\n",
       "\n",
       "    .dataframe tbody tr th {\n",
       "        vertical-align: top;\n",
       "    }\n",
       "\n",
       "    .dataframe thead th {\n",
       "        text-align: right;\n",
       "    }\n",
       "</style>\n",
       "<table border=\"1\" class=\"dataframe\">\n",
       "  <thead>\n",
       "    <tr style=\"text-align: right;\">\n",
       "      <th></th>\n",
       "      <th>bathrooms</th>\n",
       "      <th>bedrooms</th>\n",
       "      <th>longitude</th>\n",
       "      <th>latitude</th>\n",
       "      <th>hells</th>\n",
       "      <th>astoria</th>\n",
       "      <th>Evillage</th>\n",
       "      <th>Wvillage</th>\n",
       "      <th>LowerEast</th>\n",
       "      <th>UpperEast</th>\n",
       "      <th>ParkSlope</th>\n",
       "      <th>Prospect Park</th>\n",
       "      <th>Crown Heights</th>\n",
       "      <th>financial</th>\n",
       "      <th>brooklynheights</th>\n",
       "      <th>gowanus</th>\n",
       "    </tr>\n",
       "  </thead>\n",
       "  <tbody>\n",
       "    <tr>\n",
       "      <th>0</th>\n",
       "      <td>1.0</td>\n",
       "      <td>1</td>\n",
       "      <td>-73.9539</td>\n",
       "      <td>40.7108</td>\n",
       "      <td>0.0899</td>\n",
       "      <td>0.10118</td>\n",
       "      <td>0.043293</td>\n",
       "      <td>0.07465</td>\n",
       "      <td>0.034605</td>\n",
       "      <td>0.062793</td>\n",
       "      <td>0.061559</td>\n",
       "      <td>0.44665</td>\n",
       "      <td>0.066706</td>\n",
       "      <td>0.058736</td>\n",
       "      <td>0.041814</td>\n",
       "      <td>0.0809</td>\n",
       "    </tr>\n",
       "    <tr>\n",
       "      <th>1</th>\n",
       "      <td>1.0</td>\n",
       "      <td>2</td>\n",
       "      <td>-73.9722</td>\n",
       "      <td>40.7513</td>\n",
       "      <td>0.0311</td>\n",
       "      <td>0.07898</td>\n",
       "      <td>0.040766</td>\n",
       "      <td>0.04689</td>\n",
       "      <td>0.048339</td>\n",
       "      <td>0.029734</td>\n",
       "      <td>0.083759</td>\n",
       "      <td>0.38785</td>\n",
       "      <td>0.125506</td>\n",
       "      <td>0.080936</td>\n",
       "      <td>0.064014</td>\n",
       "      <td>0.1031</td>\n",
       "    </tr>\n",
       "    <tr>\n",
       "      <th>2</th>\n",
       "      <td>1.0</td>\n",
       "      <td>2</td>\n",
       "      <td>-73.9625</td>\n",
       "      <td>40.7575</td>\n",
       "      <td>0.0346</td>\n",
       "      <td>0.06308</td>\n",
       "      <td>0.056666</td>\n",
       "      <td>0.06279</td>\n",
       "      <td>0.064239</td>\n",
       "      <td>0.013834</td>\n",
       "      <td>0.099659</td>\n",
       "      <td>0.39135</td>\n",
       "      <td>0.122006</td>\n",
       "      <td>0.096836</td>\n",
       "      <td>0.079914</td>\n",
       "      <td>0.1190</td>\n",
       "    </tr>\n",
       "    <tr>\n",
       "      <th>3</th>\n",
       "      <td>1.5</td>\n",
       "      <td>3</td>\n",
       "      <td>-73.9425</td>\n",
       "      <td>40.7145</td>\n",
       "      <td>0.0976</td>\n",
       "      <td>0.08608</td>\n",
       "      <td>0.050993</td>\n",
       "      <td>0.08235</td>\n",
       "      <td>0.042305</td>\n",
       "      <td>0.070493</td>\n",
       "      <td>0.076659</td>\n",
       "      <td>0.45435</td>\n",
       "      <td>0.059006</td>\n",
       "      <td>0.073836</td>\n",
       "      <td>0.056914</td>\n",
       "      <td>0.0960</td>\n",
       "    </tr>\n",
       "    <tr>\n",
       "      <th>4</th>\n",
       "      <td>1.0</td>\n",
       "      <td>0</td>\n",
       "      <td>-73.9743</td>\n",
       "      <td>40.7439</td>\n",
       "      <td>0.0364</td>\n",
       "      <td>0.08848</td>\n",
       "      <td>0.031266</td>\n",
       "      <td>0.03739</td>\n",
       "      <td>0.038839</td>\n",
       "      <td>0.039234</td>\n",
       "      <td>0.074259</td>\n",
       "      <td>0.39315</td>\n",
       "      <td>0.120206</td>\n",
       "      <td>0.071436</td>\n",
       "      <td>0.054514</td>\n",
       "      <td>0.0936</td>\n",
       "    </tr>\n",
       "  </tbody>\n",
       "</table>\n",
       "</div>"
      ],
      "text/plain": [
       "   bathrooms  bedrooms  longitude  latitude   hells  astoria  Evillage  \\\n",
       "0        1.0         1   -73.9539   40.7108  0.0899  0.10118  0.043293   \n",
       "1        1.0         2   -73.9722   40.7513  0.0311  0.07898  0.040766   \n",
       "2        1.0         2   -73.9625   40.7575  0.0346  0.06308  0.056666   \n",
       "3        1.5         3   -73.9425   40.7145  0.0976  0.08608  0.050993   \n",
       "4        1.0         0   -73.9743   40.7439  0.0364  0.08848  0.031266   \n",
       "\n",
       "   Wvillage  LowerEast  UpperEast  ParkSlope  Prospect Park  Crown Heights  \\\n",
       "0   0.07465   0.034605   0.062793   0.061559        0.44665       0.066706   \n",
       "1   0.04689   0.048339   0.029734   0.083759        0.38785       0.125506   \n",
       "2   0.06279   0.064239   0.013834   0.099659        0.39135       0.122006   \n",
       "3   0.08235   0.042305   0.070493   0.076659        0.45435       0.059006   \n",
       "4   0.03739   0.038839   0.039234   0.074259        0.39315       0.120206   \n",
       "\n",
       "   financial  brooklynheights  gowanus  \n",
       "0   0.058736         0.041814   0.0809  \n",
       "1   0.080936         0.064014   0.1031  \n",
       "2   0.096836         0.079914   0.1190  \n",
       "3   0.073836         0.056914   0.0960  \n",
       "4   0.071436         0.054514   0.0936  "
      ]
     },
     "execution_count": 57,
     "metadata": {},
     "output_type": "execute_result"
    }
   ],
   "source": [
    "rent_clean[numfeatures + list(hoods.keys())].head()"
   ]
  },
  {
   "cell_type": "markdown",
   "metadata": {},
   "source": [
    "Let's check to see if this helps out our model at all. "
   ]
  },
  {
   "cell_type": "code",
   "execution_count": 58,
   "metadata": {},
   "outputs": [],
   "source": [
    "X = rent_clean[numfeatures + list(hoods.keys())]\n",
    "y = rent_clean['price']"
   ]
  },
  {
   "cell_type": "code",
   "execution_count": 59,
   "metadata": {},
   "outputs": [
    {
     "name": "stdout",
     "output_type": "stream",
     "text": [
      "OOB R^2 is 0.87312 using 2,412,956 tree nodes with 42.0 median tree depth\n"
     ]
    }
   ],
   "source": [
    "rf, oob = evaluate(X, y)"
   ]
  },
  {
   "cell_type": "code",
   "execution_count": 60,
   "metadata": {},
   "outputs": [
    {
     "data": {
      "image/png": "[encoded data removed]",
      "text/plain": [
       "<Figure size 288x253.44 with 1 Axes>"
      ]
     },
     "metadata": {
      "needs_background": "light"
     },
     "output_type": "display_data"
    }
   ],
   "source": [
    "showimp(rf, X, y)"
   ]
  },
  {
   "cell_type": "markdown",
   "metadata": {},
   "source": [
    "We could probably remove the original `latitude` and `longitude` columns as there is now enough *location* information contained within the neghbourhood data, but we'll leave them all in here. "
   ]
  },
  {
   "cell_type": "markdown",
   "metadata": {},
   "source": [
    "### Exercises\n",
    "\n",
    "- Try combining all the features we have created in **Part 1**, **Part 2**, **Part 3**, and **Part 4** of our categorical variables notebooks. Build and evaluate a model against the baseline, being sure to look at the feature importances. \n",
    "- Explore the data contained in *adult.csv* using some of the techniques you now know about:\n",
    "    - Note that this is a classification problem; and \n",
    "    - You should do label encoding on the target as your first step. The easiest way to do this is to use the [Pandas `.map()` method](https://pandas.pydata.org/pandas-docs/stable/reference/api/pandas.Series.map.html). "
   ]
  },
  {
   "cell_type": "code",
   "execution_count": null,
   "metadata": {},
   "outputs": [],
   "source": []
  }
 ],
 "metadata": {
  "colab": {
   "collapsed_sections": [],
   "name": "new_initial_model.ipynb",
   "provenance": []
  },
  "kernelspec": {
   "display_name": "Python 3",
   "language": "python",
   "name": "python3"
  },
  "language_info": {
   "codemirror_mode": {
    "name": "ipython",
    "version": 3
   },
   "file_extension": ".py",
   "mimetype": "text/x-python",
   "name": "python",
   "nbconvert_exporter": "python",
   "pygments_lexer": "ipython3",
   "version": "3.7.9"
  }
 },
 "nbformat": 4,
 "nbformat_minor": 4
}
