{
 "cells": [
  {
   "cell_type": "code",
   "execution_count": 1,
   "metadata": {},
   "outputs": [
    {
     "name": "stdout",
     "output_type": "stream",
     "text": [
      "Collecting pulp\n",
      "  Downloading PuLP-2.4-py3-none-any.whl (40.6 MB)\n",
      "Collecting amply>=0.1.2\n",
      "  Downloading amply-0.1.4-py3-none-any.whl (16 kB)\n",
      "Collecting docutils>=0.3\n",
      "  Downloading docutils-0.16-py2.py3-none-any.whl (548 kB)\n",
      "Requirement already satisfied: pyparsing in c:\\users\\abhay\\.conda\\envs\\tensorflow\\lib\\site-packages (from amply>=0.1.2->pulp) (2.4.7)\n",
      "Installing collected packages: docutils, amply, pulp\n",
      "Successfully installed amply-0.1.4 docutils-0.16 pulp-2.4\n",
      "Note: you may need to restart the kernel to use updated packages.\n"
     ]
    }
   ],
   "source": [
    "pip install pulp"
   ]
  },
  {
   "cell_type": "code",
   "execution_count": 10,
   "metadata": {},
   "outputs": [],
   "source": [
    "from pulp import *"
   ]
  },
  {
   "cell_type": "code",
   "execution_count": 22,
   "metadata": {},
   "outputs": [],
   "source": [
    "# Initialize class\n",
    "model=LpProblem(\"Maximize Profits\", LpMaximize)"
   ]
  },
  {
   "cell_type": "code",
   "execution_count": 23,
   "metadata": {},
   "outputs": [],
   "source": [
    "# Define decision variables\n",
    "P=LpVariable('P', lowBound=0, cat='Integer')\n",
    "Q=LpVariable('Q', lowBound=0, cat='Integer')"
   ]
  },
  {
   "cell_type": "code",
   "execution_count": 24,
   "metadata": {},
   "outputs": [],
   "source": [
    "# Define Objective Function\n",
    "model += 45*P + 60*Q"
   ]
  },
  {
   "cell_type": "code",
   "execution_count": 25,
   "metadata": {},
   "outputs": [],
   "source": [
    "# Define Constraints \n",
    "model += 15*P + 10*Q <= 2400\n",
    "model += 15*P + 30*Q <= 2400\n",
    "model += 15*P + 5*Q <= 2400\n",
    "model += 10*P + 5*Q <= 2400\n",
    "model += P <= 100\n",
    "model += Q <= 50"
   ]
  },
  {
   "cell_type": "code",
   "execution_count": 26,
   "metadata": {},
   "outputs": [
    {
     "name": "stdout",
     "output_type": "stream",
     "text": [
      "Produce 100.0 product P\n",
      "Produce 30.0 product Q\n"
     ]
    }
   ],
   "source": [
    "# Solve Model\n",
    "model.solve()\n",
    "print(\"Produce {} product P\".format(P.varValue))\n",
    "print(\"Produce {} product Q\".format(Q.varValue))"
   ]
  },
  {
   "cell_type": "code",
   "execution_count": 27,
   "metadata": {},
   "outputs": [
    {
     "data": {
      "text/plain": [
       "'Optimal'"
      ]
     },
     "execution_count": 27,
     "metadata": {},
     "output_type": "execute_result"
    }
   ],
   "source": [
    "LpStatus[model.status]"
   ]
  },
  {
   "cell_type": "code",
   "execution_count": 28,
   "metadata": {},
   "outputs": [
    {
     "name": "stdout",
     "output_type": "stream",
     "text": [
      "The total cost is $6300.0 \n"
     ]
    }
   ],
   "source": [
    "total_profit = value(model.objective)\n",
    "\n",
    "print (\"The total cost is ${} \".format(round(total_profit, 2)))"
   ]
  }
 ],
 "metadata": {
  "kernelspec": {
   "display_name": "Python 3",
   "language": "python",
   "name": "python3"
  },
  "language_info": {
   "codemirror_mode": {
    "name": "ipython",
    "version": 3
   },
   "file_extension": ".py",
   "mimetype": "text/x-python",
   "name": "python",
   "nbconvert_exporter": "python",
   "pygments_lexer": "ipython3",
   "version": "3.7.6"
  }
 },
 "nbformat": 4,
 "nbformat_minor": 4
}
