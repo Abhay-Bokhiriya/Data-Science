{
 "cells": [
  {
   "cell_type": "markdown",
   "metadata": {},
   "source": [
    "# Exploring and Denoising Data\n",
    "\n",
    "**Notice: This notebook is a modification of [sniff.ipynb](https://mlbook.explained.ai/notebooks/index.html) by Terence Parr and Jeremy Howard. It is being used by permission of the author.**\n",
    "\n",
    "Please use this notebook to follow along with the lectures this week. Feel free to play around with any of the settings. \n",
    "\n",
    "There may be minor differences between the notebook seen in the lecture videos and this one. "
   ]
  },
  {
   "cell_type": "markdown",
   "metadata": {
    "id": "3HsaH_N8N7vG"
   },
   "source": [
    "## 1. Building an Initial Model"
   ]
  },
  {
   "cell_type": "markdown",
   "metadata": {
    "id": "qz-AypRtN7vH"
   },
   "source": [
    "#### Take a Quick Peek at the Data"
   ]
  },
  {
   "cell_type": "code",
   "execution_count": null,
   "metadata": {
    "id": "6P6fbYCnN7vH"
   },
   "outputs": [],
   "source": [
    "import pandas as pd"
   ]
  },
  {
   "cell_type": "code",
   "execution_count": null,
   "metadata": {
    "colab": {
     "base_uri": "https://localhost:8080/",
     "height": 383
    },
    "id": "kqpD8zsfN7vK",
    "outputId": "9be2e061-12ac-4a13-b51b-da4f200238be"
   },
   "outputs": [],
   "source": [
    "rent = pd.read_csv('rent.csv')\n",
    "rent.head(3)"
   ]
  },
  {
   "cell_type": "code",
   "execution_count": null,
   "metadata": {
    "colab": {
     "base_uri": "https://localhost:8080/",
     "height": 514
    },
    "id": "dMSvw3u-N7vN",
    "outputId": "58c73bd6-d772-49bb-a584-6c2ac2a08d03"
   },
   "outputs": [],
   "source": [
    "rent.head(3).T"
   ]
  },
  {
   "cell_type": "code",
   "execution_count": null,
   "metadata": {
    "colab": {
     "base_uri": "https://localhost:8080/"
    },
    "id": "82SYGj5jN7vP",
    "outputId": "d1d4ca23-676c-4982-8326-9ab4d61e65b9"
   },
   "outputs": [],
   "source": [
    "rent.info()"
   ]
  },
  {
   "cell_type": "markdown",
   "metadata": {
    "id": "yJeMxbt5N7vR"
   },
   "source": [
    "#### Select Only the Numeric Columns"
   ]
  },
  {
   "cell_type": "code",
   "execution_count": null,
   "metadata": {
    "colab": {
     "base_uri": "https://localhost:8080/",
     "height": 142
    },
    "id": "dJ83sz4UN7vR",
    "outputId": "f604b55c-b267-42a2-b595-b460360679e0"
   },
   "outputs": [],
   "source": [
    "rent_num = rent[['bathrooms', 'bedrooms', 'longitude', 'latitude', 'price']]\n",
    "\n",
    "rent_num.head(3)"
   ]
  },
  {
   "cell_type": "code",
   "execution_count": null,
   "metadata": {
    "colab": {
     "base_uri": "https://localhost:8080/"
    },
    "id": "xCQxN0ibN7vT",
    "outputId": "29109f94-8d19-45c7-dfe0-f8f50bec6678"
   },
   "outputs": [],
   "source": [
    "rent_num.isnull().any()"
   ]
  },
  {
   "cell_type": "markdown",
   "metadata": {
    "id": "00S8fUbXN7vV"
   },
   "source": [
    "#### Create and Evaluate a Model"
   ]
  },
  {
   "cell_type": "code",
   "execution_count": null,
   "metadata": {
    "id": "cY-Dm1uDN7vW"
   },
   "outputs": [],
   "source": [
    "X = rent_num.drop('price', axis=1)\n",
    "y = rent_num['price']"
   ]
  },
  {
   "cell_type": "code",
   "execution_count": null,
   "metadata": {
    "id": "zPwIFWxiN7vY"
   },
   "outputs": [],
   "source": [
    "from sklearn.model_selection import train_test_split\n",
    "from sklearn.ensemble import RandomForestRegressor\n",
    "from sklearn.metrics import mean_absolute_error, r2_score\n",
    "import numpy as np"
   ]
  },
  {
   "cell_type": "code",
   "execution_count": null,
   "metadata": {
    "colab": {
     "base_uri": "https://localhost:8080/"
    },
    "id": "GcBvPQIuN7va",
    "outputId": "71bafd06-5392-449d-cdfa-260d8829ad53"
   },
   "outputs": [],
   "source": [
    "X_train, X_val, y_train, y_val = train_test_split(X, y, test_size=0.2)  \n",
    "\n",
    "rf = RandomForestRegressor(n_estimators=100, n_jobs=-1, oob_score=True) \n",
    "\n",
    "rf.fit(X_train, y_train) \n",
    "\n",
    "rf.score(X_train, y_train)"
   ]
  },
  {
   "cell_type": "code",
   "execution_count": null,
   "metadata": {
    "colab": {
     "base_uri": "https://localhost:8080/"
    },
    "id": "PN6qBdNsN7vc",
    "outputId": "4a17e3df-fe54-494a-8ed0-6b033d43a77a"
   },
   "outputs": [],
   "source": [
    "rf.oob_score_"
   ]
  },
  {
   "cell_type": "code",
   "execution_count": null,
   "metadata": {
    "colab": {
     "base_uri": "https://localhost:8080/"
    },
    "id": "UbyJMmmVN7ve",
    "outputId": "51ba86f6-54cf-4405-b1ad-4322623bb72c"
   },
   "outputs": [],
   "source": [
    "rf.score(X_val, y_val)"
   ]
  },
  {
   "cell_type": "code",
   "execution_count": null,
   "metadata": {
    "colab": {
     "base_uri": "https://localhost:8080/"
    },
    "id": "Q79hf6KzN7vg",
    "outputId": "a04812ae-475b-4b4e-9dc2-d54d1ba09d7b"
   },
   "outputs": [],
   "source": [
    "avg_preds = [np.mean(y_train)] * len(y_val)\n",
    "\n",
    "print(np.mean(y_train))\n",
    "\n",
    "r2_score(y_val, avg_preds) "
   ]
  },
  {
   "cell_type": "code",
   "execution_count": null,
   "metadata": {
    "id": "yDFbHnD3N7vi"
   },
   "outputs": [],
   "source": [
    "train_r2 = []\n",
    "train_mae = []\n",
    "val_r2 = []\n",
    "val_mae = []\n",
    "oob_scores = []\n",
    "\n",
    "for i in range(10):\n",
    "    X_train, X_val, y_train, y_val = train_test_split(X, y, test_size=0.2)\n",
    "    rf = RandomForestRegressor(n_estimators=100, n_jobs=-1, oob_score=True) \n",
    "    rf.fit(X_train, y_train)\n",
    "    train_preds = rf.predict(X_train)\n",
    "    val_preds = rf.predict(X_val)\n",
    "    train_r2.append(round(r2_score(y_train, train_preds), 2))\n",
    "    val_r2.append(round(r2_score(y_val, val_preds), 2))\n",
    "    train_mae.append(round(mean_absolute_error(y_train, train_preds), 0))\n",
    "    val_mae.append(round(mean_absolute_error(y_val, val_preds), 0))\n",
    "    oob_scores.append(rf.oob_score_)"
   ]
  },
  {
   "cell_type": "code",
   "execution_count": null,
   "metadata": {
    "colab": {
     "base_uri": "https://localhost:8080/"
    },
    "id": "77fGHfG_N7vk",
    "outputId": "55c8f5b7-99d6-4b0d-cf61-ec0d827054e4"
   },
   "outputs": [],
   "source": [
    "print(\"Train r2 scores: \\n\", train_r2)\n",
    "print(\"\")\n",
    "print(\"Validation r2 scores: \\n\", val_r2)\n",
    "print(\"\")\n",
    "print(\"Train MAE scores: \\n\", train_mae)\n",
    "print(\"\")\n",
    "print(\"Validation MAE scores: \\n\", val_mae)\n",
    "print(\"\")\n",
    "print(\"Out-of-bag scores: \\n\", oob_scores)"
   ]
  },
  {
   "cell_type": "code",
   "execution_count": null,
   "metadata": {
    "colab": {
     "base_uri": "https://localhost:8080/"
    },
    "id": "qYgMuPh7N7vm",
    "outputId": "94d16140-cdff-40aa-ad7c-9e177dcd7c9c"
   },
   "outputs": [],
   "source": [
    "print(\"Mean train r2: \", np.mean(train_r2))\n",
    "print(\"Mean validation r2: \", np.mean(val_r2))\n",
    "print(\"Mean train MAE: \", np.mean(train_mae))\n",
    "print(\"Mean validation MAE: \", np.mean(val_mae))\n",
    "print(\"Mean oob score: \", np.mean(oob_scores))"
   ]
  },
  {
   "cell_type": "markdown",
   "metadata": {
    "id": "1dl62i_JAfDq"
   },
   "source": [
    "## 2. Denoise the Data"
   ]
  },
  {
   "cell_type": "code",
   "execution_count": null,
   "metadata": {
    "colab": {
     "base_uri": "https://localhost:8080/",
     "height": 297
    },
    "id": "vi24imTPAfD0",
    "outputId": "2953ff51-14c0-4c8f-888e-22a064787100"
   },
   "outputs": [],
   "source": [
    "rent_num.describe()"
   ]
  },
  {
   "cell_type": "code",
   "execution_count": null,
   "metadata": {
    "colab": {
     "base_uri": "https://localhost:8080/",
     "height": 359
    },
    "id": "84tldckdAfD2",
    "outputId": "625b912f-1fd3-433a-9397-1efee5f48c4c"
   },
   "outputs": [],
   "source": [
    "rent_num['price'].sort_values(ascending=False).to_frame().head(10) "
   ]
  },
  {
   "cell_type": "code",
   "execution_count": null,
   "metadata": {
    "colab": {
     "base_uri": "https://localhost:8080/",
     "height": 514
    },
    "id": "YM75apePAfD4",
    "outputId": "3dde9d71-1650-4221-cd49-df8a022aaeb7"
   },
   "outputs": [],
   "source": [
    "rent_num['bathrooms'].value_counts().to_frame()"
   ]
  },
  {
   "cell_type": "code",
   "execution_count": null,
   "metadata": {
    "colab": {
     "base_uri": "https://localhost:8080/",
     "height": 328
    },
    "id": "AMkVCW4WAfD6",
    "outputId": "145c60b6-a456-4688-9466-331850d914a0"
   },
   "outputs": [],
   "source": [
    "rent_num['bedrooms'].value_counts().to_frame()"
   ]
  },
  {
   "cell_type": "markdown",
   "metadata": {
    "id": "5E50MNCyAfD9"
   },
   "source": [
    "#### Noise"
   ]
  },
  {
   "cell_type": "code",
   "execution_count": null,
   "metadata": {
    "colab": {
     "base_uri": "https://localhost:8080/",
     "height": 421
    },
    "id": "UiwrcKhcAfD9",
    "outputId": "62a8af7e-71b0-4b6c-ea7f-354c1421869c"
   },
   "outputs": [],
   "source": [
    "rent_num[(rent_num['longitude'] == 0.0) & (rent_num['latitude'] == 0.0)]"
   ]
  },
  {
   "cell_type": "code",
   "execution_count": null,
   "metadata": {
    "colab": {
     "base_uri": "https://localhost:8080/",
     "height": 173
    },
    "id": "yD9dL9PEd7dU",
    "outputId": "db01611b-2efb-4248-e0ed-d79467224928"
   },
   "outputs": [],
   "source": [
    "rent_num[(rent_num['longitude'] < -80)]"
   ]
  },
  {
   "cell_type": "markdown",
   "metadata": {
    "id": "QEtfO_51AfEA"
   },
   "source": [
    "#### Inconsistencies"
   ]
  },
  {
   "cell_type": "code",
   "execution_count": null,
   "metadata": {
    "colab": {
     "base_uri": "https://localhost:8080/",
     "height": 142
    },
    "id": "8uekU2xXAfEA",
    "outputId": "d19f312b-6af4-42ff-fc13-5edf315594e4"
   },
   "outputs": [],
   "source": [
    "rent_num[(rent_num['latitude'] > 40.728) & (rent_num['latitude'] < 40.733) &\n",
    "         (rent_num['longitude'] >= -74.011) & (rent_num['longitude'] <= -74.007) &\n",
    "         (rent_num['bedrooms'] == 2) & \n",
    "         (rent_num['bathrooms'] == 1)]"
   ]
  },
  {
   "cell_type": "markdown",
   "metadata": {
    "id": "ejnIhwFPA-xj"
   },
   "source": [
    "#### Cleaning up the price"
   ]
  },
  {
   "cell_type": "code",
   "execution_count": null,
   "metadata": {
    "id": "N9TDbYv3BFbn"
   },
   "outputs": [],
   "source": [
    "rent_clean = rent_num[(rent_num['price'] > 1000) & (rent_num['price'] < 10000)]"
   ]
  },
  {
   "cell_type": "code",
   "execution_count": null,
   "metadata": {
    "colab": {
     "base_uri": "https://localhost:8080/",
     "height": 296
    },
    "id": "SCsc1w7OyF2_",
    "outputId": "c51aeb16-f044-48fa-c553-cbcba0db902a"
   },
   "outputs": [],
   "source": [
    "import matplotlib.pyplot as plt\n",
    "\n",
    "plt.hist(rent_clean['price'], bins=45)\n",
    "plt.xlabel('Clipped Price')\n",
    "plt.ylabel('Num Apts at that price')"
   ]
  },
  {
   "cell_type": "markdown",
   "metadata": {
    "id": "SCqY1GK_BGH1"
   },
   "source": [
    "#### Cleaning up the location"
   ]
  },
  {
   "cell_type": "code",
   "execution_count": null,
   "metadata": {
    "id": "kNCeg5Xrfawj"
   },
   "outputs": [],
   "source": [
    "rent_clean = rent_clean[(rent_clean['longitude'] !=0) | (rent_clean['latitude']!=0)]"
   ]
  },
  {
   "cell_type": "code",
   "execution_count": null,
   "metadata": {
    "id": "jhDfFKasBH6w"
   },
   "outputs": [],
   "source": [
    "rent_clean = rent_clean[(rent_clean['latitude']>40.55) &\n",
    "                        (rent_clean['latitude']<40.94) &\n",
    "                        (rent_clean['longitude']>-74.1) &\n",
    "                        (rent_clean['longitude']<-73.67)]"
   ]
  },
  {
   "cell_type": "markdown",
   "metadata": {
    "id": "5SoSf6lCtQAx"
   },
   "source": [
    "#### Check Impact on Number of Samples"
   ]
  },
  {
   "cell_type": "code",
   "execution_count": null,
   "metadata": {
    "colab": {
     "base_uri": "https://localhost:8080/"
    },
    "id": "hVnY4MqxtQw8",
    "outputId": "3569f7a5-1259-41a2-f498-05e83ec227f7"
   },
   "outputs": [],
   "source": [
    "rent_num.shape"
   ]
  },
  {
   "cell_type": "code",
   "execution_count": null,
   "metadata": {
    "colab": {
     "base_uri": "https://localhost:8080/"
    },
    "id": "mm6IklKqtoPp",
    "outputId": "1e524ec0-0057-4cbd-e1fd-3e3f70379b68"
   },
   "outputs": [],
   "source": [
    "rent_clean.shape"
   ]
  },
  {
   "cell_type": "code",
   "execution_count": null,
   "metadata": {
    "colab": {
     "base_uri": "https://localhost:8080/"
    },
    "id": "rrbsrJ_rtsRe",
    "outputId": "1dbcc63d-96e0-414b-c145-6c74242f407a"
   },
   "outputs": [],
   "source": [
    "(rent_num.shape[0] - rent_clean.shape[0]) / rent_num.shape[0]"
   ]
  },
  {
   "cell_type": "markdown",
   "metadata": {
    "id": "mzmNlsfctRXf"
   },
   "source": [
    "#### Train Model on Denoised Data"
   ]
  },
  {
   "cell_type": "code",
   "execution_count": null,
   "metadata": {
    "id": "WXk-zI_qpsSe"
   },
   "outputs": [],
   "source": [
    "X_clean = rent_clean.drop('price', axis=1)\n",
    "y_clean = rent_clean['price']"
   ]
  },
  {
   "cell_type": "code",
   "execution_count": null,
   "metadata": {
    "colab": {
     "base_uri": "https://localhost:8080/"
    },
    "id": "VqQUgw5dpkQv",
    "outputId": "a5521259-89b4-413b-bf4a-6572adaba6e9"
   },
   "outputs": [],
   "source": [
    "X_clean_train, X_clean_val, y_clean_train, y_clean_val = train_test_split(X_clean, y_clean, test_size=0.2)  \n",
    "\n",
    "rf_clean = RandomForestRegressor(n_estimators=100, n_jobs=-1, oob_score=True) \n",
    "\n",
    "rf_clean.fit(X_clean_train, y_clean_train) \n",
    "\n",
    "rf_clean.score(X_clean_train, y_clean_train)"
   ]
  },
  {
   "cell_type": "code",
   "execution_count": null,
   "metadata": {
    "colab": {
     "base_uri": "https://localhost:8080/"
    },
    "id": "yvv6283VqByF",
    "outputId": "3ab5c501-6c6d-48e8-e6f7-01fa37582fe2"
   },
   "outputs": [],
   "source": [
    "rf_clean.oob_score_"
   ]
  },
  {
   "cell_type": "code",
   "execution_count": null,
   "metadata": {
    "colab": {
     "base_uri": "https://localhost:8080/"
    },
    "id": "7jIrE8X7qByM",
    "outputId": "dd11fc00-b0f1-4234-caa0-81ee30a84660"
   },
   "outputs": [],
   "source": [
    "rf_clean.score(X_clean_val, y_clean_val)"
   ]
  },
  {
   "cell_type": "code",
   "execution_count": null,
   "metadata": {
    "id": "rJueAMQXqByS"
   },
   "outputs": [],
   "source": [
    "train_r2 = []\n",
    "train_mae = []\n",
    "val_r2 = []\n",
    "val_mae = []\n",
    "oob_scores = []\n",
    "\n",
    "for i in range(10):\n",
    "    X_clean_train, X_clean_val, y_clean_train, y_clean_val = train_test_split(X_clean, y_clean, test_size=0.2)\n",
    "    rf_clean = RandomForestRegressor(n_estimators=100, n_jobs=-1, oob_score=True) \n",
    "    rf_clean.fit(X_clean_train, y_clean_train)\n",
    "    train_preds = rf_clean.predict(X_clean_train)\n",
    "    val_preds = rf_clean.predict(X_clean_val)\n",
    "    train_r2.append(round(r2_score(y_clean_train, train_preds), 4))\n",
    "    val_r2.append(round(r2_score(y_clean_val, val_preds), 4))\n",
    "    train_mae.append(round(mean_absolute_error(y_clean_train, train_preds), 0))\n",
    "    val_mae.append(round(mean_absolute_error(y_clean_val, val_preds), 0))\n",
    "    oob_scores.append(round(rf_clean.oob_score_, 4))\n"
   ]
  },
  {
   "cell_type": "code",
   "execution_count": null,
   "metadata": {
    "colab": {
     "base_uri": "https://localhost:8080/"
    },
    "id": "2yk4_nQjqByV",
    "outputId": "f86365f0-b23b-4e44-d1be-a38e574a90ac"
   },
   "outputs": [],
   "source": [
    "print(\"After cleaning: \\n\")\n",
    "print(\"Train r2 scores: \\n\", train_r2)\n",
    "print(\"\")\n",
    "print(\"Validation r2 scores: \\n\", val_r2)\n",
    "print(\"\")\n",
    "print(\"Train MAE scores: \\n\", train_mae)\n",
    "print(\"\")\n",
    "print(\"Validation MAE scores: \\n\", val_mae)"
   ]
  },
  {
   "cell_type": "code",
   "execution_count": null,
   "metadata": {
    "colab": {
     "base_uri": "https://localhost:8080/"
    },
    "id": "3ImduQh-qByX",
    "outputId": "71be0e69-5c58-4228-8e97-8427407b2075"
   },
   "outputs": [],
   "source": [
    "print(\"Mean train r2: \", round(np.mean(train_r2), 4))\n",
    "print(\"Mean validation r2: \", round(np.mean(val_r2), 4))\n",
    "print(\"Mean train MAE: \", round(np.mean(train_mae), 0))\n",
    "print(\"Mean validation MAE: \", round(np.mean(val_mae), 0))"
   ]
  },
  {
   "cell_type": "markdown",
   "metadata": {
    "id": "OIGs9e9_yQrM"
   },
   "source": [
    "## 3. Data Transformations"
   ]
  },
  {
   "cell_type": "code",
   "execution_count": null,
   "metadata": {
    "colab": {
     "base_uri": "https://localhost:8080/",
     "height": 359
    },
    "id": "zxe0qNtgqWxw",
    "outputId": "fedf9559-0184-4736-ded2-89d4e672e5ed"
   },
   "outputs": [],
   "source": [
    "top_ten_orig = rent_num['price'].sort_values(ascending=False).head(10).reset_index()['price']\n",
    "bottom_ten_orig = rent_num['price'].sort_values(ascending=False).tail(10).reset_index()['price']\n",
    "\n",
    "pd.DataFrame({'Top 10 prices': top_ten_orig, 'Lowest 10 prices': bottom_ten_orig}) "
   ]
  },
  {
   "cell_type": "markdown",
   "metadata": {},
   "source": [
    "The ratio of the highest to lowest price:"
   ]
  },
  {
   "cell_type": "code",
   "execution_count": null,
   "metadata": {
    "colab": {
     "base_uri": "https://localhost:8080/"
    },
    "id": "rA8zeI5qy_LM",
    "outputId": "2b8e19f8-2179-4499-9a68-6fc44e286629"
   },
   "outputs": [],
   "source": [
    "4490000 / 43"
   ]
  },
  {
   "cell_type": "code",
   "execution_count": null,
   "metadata": {
    "colab": {
     "base_uri": "https://localhost:8080/",
     "height": 359
    },
    "id": "liMs_vY10n3z",
    "outputId": "05c636b4-cf30-43bc-8e4e-3ae4bfe33958"
   },
   "outputs": [],
   "source": [
    "top_ten_log = np.log(rent_num['price'].sort_values(ascending=False).head(10).reset_index()['price'])\n",
    "bottom_ten_log = np.log(rent_num['price'].sort_values(ascending=False).tail(10).reset_index()['price'])\n",
    "\n",
    "pd.DataFrame({'Top 10 log(prices)': top_ten_log, 'Lowest 10 log(prices)': bottom_ten_log})"
   ]
  },
  {
   "cell_type": "markdown",
   "metadata": {},
   "source": [
    "The ratio of the highest to lowest `log(price)`:"
   ]
  },
  {
   "cell_type": "code",
   "execution_count": null,
   "metadata": {
    "colab": {
     "base_uri": "https://localhost:8080/"
    },
    "id": "sCBKRtSdyY-L",
    "outputId": "5b15c0e9-0d7c-4532-92cf-789cab4a2b27"
   },
   "outputs": [],
   "source": [
    "15.317363 / 3.7612"
   ]
  },
  {
   "cell_type": "code",
   "execution_count": null,
   "metadata": {
    "colab": {
     "base_uri": "https://localhost:8080/",
     "height": 296
    },
    "id": "J4sYWSUR2Q7g",
    "outputId": "41894445-4b4c-4767-f93c-f089e5f3bdfa"
   },
   "outputs": [],
   "source": [
    "plt.hist(rent_num['price'], bins=45)\n",
    "plt.xlabel('Clipped Price')\n",
    "plt.ylabel('Num Apts at that price')"
   ]
  },
  {
   "cell_type": "code",
   "execution_count": null,
   "metadata": {
    "colab": {
     "base_uri": "https://localhost:8080/",
     "height": 296
    },
    "id": "2Zlz7C1T2UPJ",
    "outputId": "b2ecd0d1-a4a7-4043-930c-dd01a6dc2822"
   },
   "outputs": [],
   "source": [
    "plt.hist(rent_clean['price'], bins=45)\n",
    "plt.xlabel('Clipped Price')\n",
    "plt.ylabel('Num Apts at that price')"
   ]
  },
  {
   "cell_type": "code",
   "execution_count": null,
   "metadata": {
    "colab": {
     "base_uri": "https://localhost:8080/",
     "height": 296
    },
    "id": "-0e7Gmb92Unp",
    "outputId": "f4e3e9a7-dc23-45da-b796-1586c69d45e3"
   },
   "outputs": [],
   "source": [
    "plt.hist(np.log(rent_num['price']), bins=45)\n",
    "plt.xlabel('Clipped Price')\n",
    "plt.ylabel('Num Apts at that price')"
   ]
  },
  {
   "cell_type": "markdown",
   "metadata": {
    "id": "ByOyMRdF3o7J"
   },
   "source": [
    "#### Train Model using `log(price)`\n",
    "\n",
    "Using the dataset before cleaning (`rent_num`), build and evaluate a model using *log(price)* as the target instead of *price*. Calculate the average of $R^2$ on the validation data for 10 runs. Or, instead, calculate the average for the  *out-of-bag score*. "
   ]
  },
  {
   "cell_type": "code",
   "execution_count": null,
   "metadata": {},
   "outputs": [],
   "source": []
  }
 ],
 "metadata": {
  "colab": {
   "collapsed_sections": [],
   "name": "new_initial_model.ipynb",
   "provenance": []
  },
  "kernelspec": {
   "display_name": "Python 3",
   "language": "python",
   "name": "python3"
  },
  "language_info": {
   "codemirror_mode": {
    "name": "ipython",
    "version": 3
   },
   "file_extension": ".py",
   "mimetype": "text/x-python",
   "name": "python",
   "nbconvert_exporter": "python",
   "pygments_lexer": "ipython3",
   "version": "3.7.9"
  }
 },
 "nbformat": 4,
 "nbformat_minor": 4
}
