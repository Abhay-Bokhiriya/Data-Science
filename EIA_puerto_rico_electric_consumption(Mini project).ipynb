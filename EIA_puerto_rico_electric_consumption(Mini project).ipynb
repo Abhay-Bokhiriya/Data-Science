{
 "cells": [
  {
   "cell_type": "code",
   "execution_count": 195,
   "metadata": {},
   "outputs": [],
   "source": [
    "# Import libraries\n",
    "import pandas as pd\n",
    "import numpy as np\n",
    "import matplotlib.pyplot as plt\n",
    "import warnings\n",
    "warnings.filterwarnings(\"ignore\")\n",
    "warnings.simplefilter('ignore')\n",
    "\n",
    "from sklearn.metrics import mean_squared_error\n",
    "from sklearn.metrics import mean_absolute_error\n",
    "import sklearn.metrics as metrics\n",
    "\n",
    "from math import sqrt\n",
    "import warnings"
   ]
  },
  {
   "cell_type": "code",
   "execution_count": 97,
   "metadata": {},
   "outputs": [
    {
     "data": {
      "text/html": [
       "<div>\n",
       "<style scoped>\n",
       "    .dataframe tbody tr th:only-of-type {\n",
       "        vertical-align: middle;\n",
       "    }\n",
       "\n",
       "    .dataframe tbody tr th {\n",
       "        vertical-align: top;\n",
       "    }\n",
       "\n",
       "    .dataframe thead th {\n",
       "        text-align: right;\n",
       "    }\n",
       "</style>\n",
       "<table border=\"1\" class=\"dataframe\">\n",
       "  <thead>\n",
       "    <tr style=\"text-align: right;\">\n",
       "      <th></th>\n",
       "      <th>date</th>\n",
       "      <th>yearmonth</th>\n",
       "      <th>residential</th>\n",
       "      <th>commercial</th>\n",
       "      <th>industrial</th>\n",
       "      <th>all_sectors</th>\n",
       "    </tr>\n",
       "  </thead>\n",
       "  <tbody>\n",
       "    <tr>\n",
       "      <th>0</th>\n",
       "      <td>2016-01-01</td>\n",
       "      <td>201601</td>\n",
       "      <td>515</td>\n",
       "      <td>648</td>\n",
       "      <td>158</td>\n",
       "      <td>1321</td>\n",
       "    </tr>\n",
       "    <tr>\n",
       "      <th>1</th>\n",
       "      <td>2016-02-01</td>\n",
       "      <td>201602</td>\n",
       "      <td>447</td>\n",
       "      <td>647</td>\n",
       "      <td>176</td>\n",
       "      <td>1270</td>\n",
       "    </tr>\n",
       "    <tr>\n",
       "      <th>2</th>\n",
       "      <td>2016-03-01</td>\n",
       "      <td>201603</td>\n",
       "      <td>499</td>\n",
       "      <td>738</td>\n",
       "      <td>208</td>\n",
       "      <td>1445</td>\n",
       "    </tr>\n",
       "    <tr>\n",
       "      <th>3</th>\n",
       "      <td>2016-04-01</td>\n",
       "      <td>201604</td>\n",
       "      <td>506</td>\n",
       "      <td>665</td>\n",
       "      <td>176</td>\n",
       "      <td>1346</td>\n",
       "    </tr>\n",
       "    <tr>\n",
       "      <th>4</th>\n",
       "      <td>2016-05-01</td>\n",
       "      <td>201605</td>\n",
       "      <td>556</td>\n",
       "      <td>746</td>\n",
       "      <td>202</td>\n",
       "      <td>1504</td>\n",
       "    </tr>\n",
       "    <tr>\n",
       "      <th>5</th>\n",
       "      <td>2016-06-01</td>\n",
       "      <td>201606</td>\n",
       "      <td>594</td>\n",
       "      <td>742</td>\n",
       "      <td>201</td>\n",
       "      <td>1537</td>\n",
       "    </tr>\n",
       "    <tr>\n",
       "      <th>6</th>\n",
       "      <td>2016-07-01</td>\n",
       "      <td>201607</td>\n",
       "      <td>621</td>\n",
       "      <td>773</td>\n",
       "      <td>193</td>\n",
       "      <td>1587</td>\n",
       "    </tr>\n",
       "    <tr>\n",
       "      <th>7</th>\n",
       "      <td>2016-08-01</td>\n",
       "      <td>201608</td>\n",
       "      <td>604</td>\n",
       "      <td>722</td>\n",
       "      <td>205</td>\n",
       "      <td>1530</td>\n",
       "    </tr>\n",
       "    <tr>\n",
       "      <th>8</th>\n",
       "      <td>2016-09-01</td>\n",
       "      <td>201609</td>\n",
       "      <td>594</td>\n",
       "      <td>751</td>\n",
       "      <td>187</td>\n",
       "      <td>1532</td>\n",
       "    </tr>\n",
       "    <tr>\n",
       "      <th>9</th>\n",
       "      <td>2016-10-01</td>\n",
       "      <td>201610</td>\n",
       "      <td>540</td>\n",
       "      <td>704</td>\n",
       "      <td>180</td>\n",
       "      <td>1424</td>\n",
       "    </tr>\n",
       "    <tr>\n",
       "      <th>10</th>\n",
       "      <td>2016-11-01</td>\n",
       "      <td>201611</td>\n",
       "      <td>541</td>\n",
       "      <td>723</td>\n",
       "      <td>190</td>\n",
       "      <td>1454</td>\n",
       "    </tr>\n",
       "    <tr>\n",
       "      <th>11</th>\n",
       "      <td>2016-12-01</td>\n",
       "      <td>201612</td>\n",
       "      <td>509</td>\n",
       "      <td>709</td>\n",
       "      <td>176</td>\n",
       "      <td>1394</td>\n",
       "    </tr>\n",
       "    <tr>\n",
       "      <th>12</th>\n",
       "      <td>2017-01-01</td>\n",
       "      <td>201701</td>\n",
       "      <td>508</td>\n",
       "      <td>650</td>\n",
       "      <td>159</td>\n",
       "      <td>1317</td>\n",
       "    </tr>\n",
       "    <tr>\n",
       "      <th>13</th>\n",
       "      <td>2017-02-01</td>\n",
       "      <td>201702</td>\n",
       "      <td>395</td>\n",
       "      <td>575</td>\n",
       "      <td>154</td>\n",
       "      <td>1125</td>\n",
       "    </tr>\n",
       "    <tr>\n",
       "      <th>14</th>\n",
       "      <td>2017-03-01</td>\n",
       "      <td>201703</td>\n",
       "      <td>490</td>\n",
       "      <td>698</td>\n",
       "      <td>191</td>\n",
       "      <td>1380</td>\n",
       "    </tr>\n",
       "    <tr>\n",
       "      <th>15</th>\n",
       "      <td>2017-04-01</td>\n",
       "      <td>201704</td>\n",
       "      <td>494</td>\n",
       "      <td>628</td>\n",
       "      <td>184</td>\n",
       "      <td>1306</td>\n",
       "    </tr>\n",
       "    <tr>\n",
       "      <th>16</th>\n",
       "      <td>2017-05-01</td>\n",
       "      <td>201705</td>\n",
       "      <td>525</td>\n",
       "      <td>675</td>\n",
       "      <td>182</td>\n",
       "      <td>1382</td>\n",
       "    </tr>\n",
       "    <tr>\n",
       "      <th>17</th>\n",
       "      <td>2017-06-01</td>\n",
       "      <td>201706</td>\n",
       "      <td>595</td>\n",
       "      <td>692</td>\n",
       "      <td>184</td>\n",
       "      <td>1472</td>\n",
       "    </tr>\n",
       "    <tr>\n",
       "      <th>18</th>\n",
       "      <td>2017-07-01</td>\n",
       "      <td>201707</td>\n",
       "      <td>590</td>\n",
       "      <td>710</td>\n",
       "      <td>200</td>\n",
       "      <td>1501</td>\n",
       "    </tr>\n",
       "    <tr>\n",
       "      <th>19</th>\n",
       "      <td>2017-08-01</td>\n",
       "      <td>201708</td>\n",
       "      <td>632</td>\n",
       "      <td>719</td>\n",
       "      <td>187</td>\n",
       "      <td>1537</td>\n",
       "    </tr>\n",
       "    <tr>\n",
       "      <th>20</th>\n",
       "      <td>2017-09-01</td>\n",
       "      <td>201709</td>\n",
       "      <td>520</td>\n",
       "      <td>372</td>\n",
       "      <td>127</td>\n",
       "      <td>1020</td>\n",
       "    </tr>\n",
       "    <tr>\n",
       "      <th>21</th>\n",
       "      <td>2017-10-01</td>\n",
       "      <td>201710</td>\n",
       "      <td>16</td>\n",
       "      <td>224</td>\n",
       "      <td>11</td>\n",
       "      <td>252</td>\n",
       "    </tr>\n",
       "    <tr>\n",
       "      <th>22</th>\n",
       "      <td>2017-11-01</td>\n",
       "      <td>201711</td>\n",
       "      <td>42</td>\n",
       "      <td>569</td>\n",
       "      <td>28</td>\n",
       "      <td>639</td>\n",
       "    </tr>\n",
       "    <tr>\n",
       "      <th>23</th>\n",
       "      <td>2017-12-01</td>\n",
       "      <td>201712</td>\n",
       "      <td>237</td>\n",
       "      <td>306</td>\n",
       "      <td>138</td>\n",
       "      <td>682</td>\n",
       "    </tr>\n",
       "    <tr>\n",
       "      <th>24</th>\n",
       "      <td>2018-01-01</td>\n",
       "      <td>201801</td>\n",
       "      <td>389</td>\n",
       "      <td>559</td>\n",
       "      <td>142</td>\n",
       "      <td>1089</td>\n",
       "    </tr>\n",
       "    <tr>\n",
       "      <th>25</th>\n",
       "      <td>2018-02-01</td>\n",
       "      <td>201802</td>\n",
       "      <td>393</td>\n",
       "      <td>760</td>\n",
       "      <td>175</td>\n",
       "      <td>1328</td>\n",
       "    </tr>\n",
       "    <tr>\n",
       "      <th>26</th>\n",
       "      <td>2018-03-01</td>\n",
       "      <td>201803</td>\n",
       "      <td>450</td>\n",
       "      <td>531</td>\n",
       "      <td>98</td>\n",
       "      <td>1080</td>\n",
       "    </tr>\n",
       "    <tr>\n",
       "      <th>27</th>\n",
       "      <td>2018-04-01</td>\n",
       "      <td>201804</td>\n",
       "      <td>466</td>\n",
       "      <td>784</td>\n",
       "      <td>273</td>\n",
       "      <td>1524</td>\n",
       "    </tr>\n",
       "    <tr>\n",
       "      <th>28</th>\n",
       "      <td>2018-05-01</td>\n",
       "      <td>201805</td>\n",
       "      <td>566</td>\n",
       "      <td>802</td>\n",
       "      <td>165</td>\n",
       "      <td>1533</td>\n",
       "    </tr>\n",
       "    <tr>\n",
       "      <th>29</th>\n",
       "      <td>2018-06-01</td>\n",
       "      <td>201806</td>\n",
       "      <td>507</td>\n",
       "      <td>592</td>\n",
       "      <td>208</td>\n",
       "      <td>1308</td>\n",
       "    </tr>\n",
       "    <tr>\n",
       "      <th>30</th>\n",
       "      <td>2018-07-01</td>\n",
       "      <td>201807</td>\n",
       "      <td>578</td>\n",
       "      <td>681</td>\n",
       "      <td>145</td>\n",
       "      <td>1404</td>\n",
       "    </tr>\n",
       "    <tr>\n",
       "      <th>31</th>\n",
       "      <td>2018-08-01</td>\n",
       "      <td>201808</td>\n",
       "      <td>577</td>\n",
       "      <td>689</td>\n",
       "      <td>209</td>\n",
       "      <td>1475</td>\n",
       "    </tr>\n",
       "    <tr>\n",
       "      <th>32</th>\n",
       "      <td>2018-09-01</td>\n",
       "      <td>201809</td>\n",
       "      <td>527</td>\n",
       "      <td>722</td>\n",
       "      <td>186</td>\n",
       "      <td>1436</td>\n",
       "    </tr>\n",
       "    <tr>\n",
       "      <th>33</th>\n",
       "      <td>2018-10-01</td>\n",
       "      <td>201810</td>\n",
       "      <td>698</td>\n",
       "      <td>847</td>\n",
       "      <td>191</td>\n",
       "      <td>1736</td>\n",
       "    </tr>\n",
       "    <tr>\n",
       "      <th>34</th>\n",
       "      <td>2018-11-01</td>\n",
       "      <td>201811</td>\n",
       "      <td>457</td>\n",
       "      <td>593</td>\n",
       "      <td>172</td>\n",
       "      <td>1222</td>\n",
       "    </tr>\n",
       "    <tr>\n",
       "      <th>35</th>\n",
       "      <td>2018-12-01</td>\n",
       "      <td>201812</td>\n",
       "      <td>494</td>\n",
       "      <td>642</td>\n",
       "      <td>162</td>\n",
       "      <td>1299</td>\n",
       "    </tr>\n",
       "    <tr>\n",
       "      <th>36</th>\n",
       "      <td>2019-01-01</td>\n",
       "      <td>201901</td>\n",
       "      <td>447</td>\n",
       "      <td>573</td>\n",
       "      <td>154</td>\n",
       "      <td>1173</td>\n",
       "    </tr>\n",
       "    <tr>\n",
       "      <th>37</th>\n",
       "      <td>2019-02-01</td>\n",
       "      <td>201902</td>\n",
       "      <td>367</td>\n",
       "      <td>487</td>\n",
       "      <td>146</td>\n",
       "      <td>1000</td>\n",
       "    </tr>\n",
       "    <tr>\n",
       "      <th>38</th>\n",
       "      <td>2019-03-01</td>\n",
       "      <td>201903</td>\n",
       "      <td>448</td>\n",
       "      <td>650</td>\n",
       "      <td>180</td>\n",
       "      <td>1279</td>\n",
       "    </tr>\n",
       "    <tr>\n",
       "      <th>39</th>\n",
       "      <td>2019-04-01</td>\n",
       "      <td>201904</td>\n",
       "      <td>465</td>\n",
       "      <td>681</td>\n",
       "      <td>165</td>\n",
       "      <td>1311</td>\n",
       "    </tr>\n",
       "    <tr>\n",
       "      <th>40</th>\n",
       "      <td>2019-05-01</td>\n",
       "      <td>201905</td>\n",
       "      <td>512</td>\n",
       "      <td>655</td>\n",
       "      <td>189</td>\n",
       "      <td>1355</td>\n",
       "    </tr>\n",
       "    <tr>\n",
       "      <th>41</th>\n",
       "      <td>2019-06-01</td>\n",
       "      <td>201906</td>\n",
       "      <td>568</td>\n",
       "      <td>692</td>\n",
       "      <td>171</td>\n",
       "      <td>1431</td>\n",
       "    </tr>\n",
       "    <tr>\n",
       "      <th>42</th>\n",
       "      <td>2019-07-01</td>\n",
       "      <td>201907</td>\n",
       "      <td>618</td>\n",
       "      <td>687</td>\n",
       "      <td>181</td>\n",
       "      <td>1487</td>\n",
       "    </tr>\n",
       "    <tr>\n",
       "      <th>43</th>\n",
       "      <td>2019-08-01</td>\n",
       "      <td>201908</td>\n",
       "      <td>594</td>\n",
       "      <td>718</td>\n",
       "      <td>175</td>\n",
       "      <td>1487</td>\n",
       "    </tr>\n",
       "    <tr>\n",
       "      <th>44</th>\n",
       "      <td>2019-09-01</td>\n",
       "      <td>201909</td>\n",
       "      <td>586</td>\n",
       "      <td>712</td>\n",
       "      <td>166</td>\n",
       "      <td>1464</td>\n",
       "    </tr>\n",
       "    <tr>\n",
       "      <th>45</th>\n",
       "      <td>2019-10-01</td>\n",
       "      <td>201910</td>\n",
       "      <td>587</td>\n",
       "      <td>712</td>\n",
       "      <td>196</td>\n",
       "      <td>1495</td>\n",
       "    </tr>\n",
       "    <tr>\n",
       "      <th>46</th>\n",
       "      <td>2019-11-01</td>\n",
       "      <td>201911</td>\n",
       "      <td>504</td>\n",
       "      <td>677</td>\n",
       "      <td>162</td>\n",
       "      <td>1343</td>\n",
       "    </tr>\n",
       "    <tr>\n",
       "      <th>47</th>\n",
       "      <td>2019-12-01</td>\n",
       "      <td>201912</td>\n",
       "      <td>509</td>\n",
       "      <td>655</td>\n",
       "      <td>165</td>\n",
       "      <td>1328</td>\n",
       "    </tr>\n",
       "  </tbody>\n",
       "</table>\n",
       "</div>"
      ],
      "text/plain": [
       "          date  yearmonth  residential  commercial  industrial  all_sectors\n",
       "0   2016-01-01     201601          515         648         158         1321\n",
       "1   2016-02-01     201602          447         647         176         1270\n",
       "2   2016-03-01     201603          499         738         208         1445\n",
       "3   2016-04-01     201604          506         665         176         1346\n",
       "4   2016-05-01     201605          556         746         202         1504\n",
       "5   2016-06-01     201606          594         742         201         1537\n",
       "6   2016-07-01     201607          621         773         193         1587\n",
       "7   2016-08-01     201608          604         722         205         1530\n",
       "8   2016-09-01     201609          594         751         187         1532\n",
       "9   2016-10-01     201610          540         704         180         1424\n",
       "10  2016-11-01     201611          541         723         190         1454\n",
       "11  2016-12-01     201612          509         709         176         1394\n",
       "12  2017-01-01     201701          508         650         159         1317\n",
       "13  2017-02-01     201702          395         575         154         1125\n",
       "14  2017-03-01     201703          490         698         191         1380\n",
       "15  2017-04-01     201704          494         628         184         1306\n",
       "16  2017-05-01     201705          525         675         182         1382\n",
       "17  2017-06-01     201706          595         692         184         1472\n",
       "18  2017-07-01     201707          590         710         200         1501\n",
       "19  2017-08-01     201708          632         719         187         1537\n",
       "20  2017-09-01     201709          520         372         127         1020\n",
       "21  2017-10-01     201710           16         224          11          252\n",
       "22  2017-11-01     201711           42         569          28          639\n",
       "23  2017-12-01     201712          237         306         138          682\n",
       "24  2018-01-01     201801          389         559         142         1089\n",
       "25  2018-02-01     201802          393         760         175         1328\n",
       "26  2018-03-01     201803          450         531          98         1080\n",
       "27  2018-04-01     201804          466         784         273         1524\n",
       "28  2018-05-01     201805          566         802         165         1533\n",
       "29  2018-06-01     201806          507         592         208         1308\n",
       "30  2018-07-01     201807          578         681         145         1404\n",
       "31  2018-08-01     201808          577         689         209         1475\n",
       "32  2018-09-01     201809          527         722         186         1436\n",
       "33  2018-10-01     201810          698         847         191         1736\n",
       "34  2018-11-01     201811          457         593         172         1222\n",
       "35  2018-12-01     201812          494         642         162         1299\n",
       "36  2019-01-01     201901          447         573         154         1173\n",
       "37  2019-02-01     201902          367         487         146         1000\n",
       "38  2019-03-01     201903          448         650         180         1279\n",
       "39  2019-04-01     201904          465         681         165         1311\n",
       "40  2019-05-01     201905          512         655         189         1355\n",
       "41  2019-06-01     201906          568         692         171         1431\n",
       "42  2019-07-01     201907          618         687         181         1487\n",
       "43  2019-08-01     201908          594         718         175         1487\n",
       "44  2019-09-01     201909          586         712         166         1464\n",
       "45  2019-10-01     201910          587         712         196         1495\n",
       "46  2019-11-01     201911          504         677         162         1343\n",
       "47  2019-12-01     201912          509         655         165         1328"
      ]
     },
     "execution_count": 97,
     "metadata": {},
     "output_type": "execute_result"
    }
   ],
   "source": [
    "# importing the dataset:EIA_puerto_rico_electric_consumption.csv and formatting the decimal values upto 2 digits \n",
    "df= pd.read_csv('EIA_puerto_rico_electric_consumption.csv', parse_dates=True, index_col =0)\n",
    "pd.options.display.float_format = '{:,.2f}'.format\n",
    "df"
   ]
  },
  {
   "cell_type": "code",
   "execution_count": 98,
   "metadata": {},
   "outputs": [
    {
     "data": {
      "text/html": [
       "<div>\n",
       "<style scoped>\n",
       "    .dataframe tbody tr th:only-of-type {\n",
       "        vertical-align: middle;\n",
       "    }\n",
       "\n",
       "    .dataframe tbody tr th {\n",
       "        vertical-align: top;\n",
       "    }\n",
       "\n",
       "    .dataframe thead th {\n",
       "        text-align: right;\n",
       "    }\n",
       "</style>\n",
       "<table border=\"1\" class=\"dataframe\">\n",
       "  <thead>\n",
       "    <tr style=\"text-align: right;\">\n",
       "      <th></th>\n",
       "      <th>date</th>\n",
       "      <th>all_sectors</th>\n",
       "    </tr>\n",
       "  </thead>\n",
       "  <tbody>\n",
       "    <tr>\n",
       "      <th>0</th>\n",
       "      <td>2016-01-01</td>\n",
       "      <td>1321</td>\n",
       "    </tr>\n",
       "    <tr>\n",
       "      <th>1</th>\n",
       "      <td>2016-02-01</td>\n",
       "      <td>1270</td>\n",
       "    </tr>\n",
       "    <tr>\n",
       "      <th>2</th>\n",
       "      <td>2016-03-01</td>\n",
       "      <td>1445</td>\n",
       "    </tr>\n",
       "    <tr>\n",
       "      <th>3</th>\n",
       "      <td>2016-04-01</td>\n",
       "      <td>1346</td>\n",
       "    </tr>\n",
       "    <tr>\n",
       "      <th>4</th>\n",
       "      <td>2016-05-01</td>\n",
       "      <td>1504</td>\n",
       "    </tr>\n",
       "  </tbody>\n",
       "</table>\n",
       "</div>"
      ],
      "text/plain": [
       "         date  all_sectors\n",
       "0  2016-01-01         1321\n",
       "1  2016-02-01         1270\n",
       "2  2016-03-01         1445\n",
       "3  2016-04-01         1346\n",
       "4  2016-05-01         1504"
      ]
     },
     "execution_count": 98,
     "metadata": {},
     "output_type": "execute_result"
    }
   ],
   "source": [
    "df=df.drop(columns=['yearmonth','residential','commercial','industrial'],axis=1)\n",
    "df.head()"
   ]
  },
  {
   "cell_type": "code",
   "execution_count": 99,
   "metadata": {},
   "outputs": [
    {
     "data": {
      "text/html": [
       "<div>\n",
       "<style scoped>\n",
       "    .dataframe tbody tr th:only-of-type {\n",
       "        vertical-align: middle;\n",
       "    }\n",
       "\n",
       "    .dataframe tbody tr th {\n",
       "        vertical-align: top;\n",
       "    }\n",
       "\n",
       "    .dataframe thead th {\n",
       "        text-align: right;\n",
       "    }\n",
       "</style>\n",
       "<table border=\"1\" class=\"dataframe\">\n",
       "  <thead>\n",
       "    <tr style=\"text-align: right;\">\n",
       "      <th></th>\n",
       "      <th>date</th>\n",
       "      <th>Demand</th>\n",
       "    </tr>\n",
       "  </thead>\n",
       "  <tbody>\n",
       "    <tr>\n",
       "      <th>0</th>\n",
       "      <td>2016-01-01</td>\n",
       "      <td>1321</td>\n",
       "    </tr>\n",
       "    <tr>\n",
       "      <th>1</th>\n",
       "      <td>2016-02-01</td>\n",
       "      <td>1270</td>\n",
       "    </tr>\n",
       "    <tr>\n",
       "      <th>2</th>\n",
       "      <td>2016-03-01</td>\n",
       "      <td>1445</td>\n",
       "    </tr>\n",
       "    <tr>\n",
       "      <th>3</th>\n",
       "      <td>2016-04-01</td>\n",
       "      <td>1346</td>\n",
       "    </tr>\n",
       "    <tr>\n",
       "      <th>4</th>\n",
       "      <td>2016-05-01</td>\n",
       "      <td>1504</td>\n",
       "    </tr>\n",
       "  </tbody>\n",
       "</table>\n",
       "</div>"
      ],
      "text/plain": [
       "         date  Demand\n",
       "0  2016-01-01    1321\n",
       "1  2016-02-01    1270\n",
       "2  2016-03-01    1445\n",
       "3  2016-04-01    1346\n",
       "4  2016-05-01    1504"
      ]
     },
     "execution_count": 99,
     "metadata": {},
     "output_type": "execute_result"
    }
   ],
   "source": [
    "df1=df.rename(columns={'all_sectors':'Demand'})\n",
    "df1.head()"
   ]
  },
  {
   "cell_type": "markdown",
   "metadata": {},
   "source": [
    "# 1. MOVING AVERAGE"
   ]
  },
  {
   "cell_type": "code",
   "execution_count": 100,
   "metadata": {},
   "outputs": [
    {
     "data": {
      "text/html": [
       "<div>\n",
       "<style scoped>\n",
       "    .dataframe tbody tr th:only-of-type {\n",
       "        vertical-align: middle;\n",
       "    }\n",
       "\n",
       "    .dataframe tbody tr th {\n",
       "        vertical-align: top;\n",
       "    }\n",
       "\n",
       "    .dataframe thead th {\n",
       "        text-align: right;\n",
       "    }\n",
       "</style>\n",
       "<table border=\"1\" class=\"dataframe\">\n",
       "  <thead>\n",
       "    <tr style=\"text-align: right;\">\n",
       "      <th></th>\n",
       "      <th>date</th>\n",
       "      <th>Demand</th>\n",
       "      <th>SMA_5</th>\n",
       "      <th>SMA_10</th>\n",
       "      <th>SMA_20</th>\n",
       "    </tr>\n",
       "  </thead>\n",
       "  <tbody>\n",
       "    <tr>\n",
       "      <th>0</th>\n",
       "      <td>2016-01-01</td>\n",
       "      <td>1321</td>\n",
       "      <td>1,321.00</td>\n",
       "      <td>1,321.00</td>\n",
       "      <td>1,321.00</td>\n",
       "    </tr>\n",
       "    <tr>\n",
       "      <th>1</th>\n",
       "      <td>2016-02-01</td>\n",
       "      <td>1270</td>\n",
       "      <td>1,295.50</td>\n",
       "      <td>1,295.50</td>\n",
       "      <td>1,295.50</td>\n",
       "    </tr>\n",
       "    <tr>\n",
       "      <th>2</th>\n",
       "      <td>2016-03-01</td>\n",
       "      <td>1445</td>\n",
       "      <td>1,345.33</td>\n",
       "      <td>1,345.33</td>\n",
       "      <td>1,345.33</td>\n",
       "    </tr>\n",
       "    <tr>\n",
       "      <th>3</th>\n",
       "      <td>2016-04-01</td>\n",
       "      <td>1346</td>\n",
       "      <td>1,345.50</td>\n",
       "      <td>1,345.50</td>\n",
       "      <td>1,345.50</td>\n",
       "    </tr>\n",
       "    <tr>\n",
       "      <th>4</th>\n",
       "      <td>2016-05-01</td>\n",
       "      <td>1504</td>\n",
       "      <td>1,377.20</td>\n",
       "      <td>1,377.20</td>\n",
       "      <td>1,377.20</td>\n",
       "    </tr>\n",
       "  </tbody>\n",
       "</table>\n",
       "</div>"
      ],
      "text/plain": [
       "         date  Demand    SMA_5   SMA_10   SMA_20\n",
       "0  2016-01-01    1321 1,321.00 1,321.00 1,321.00\n",
       "1  2016-02-01    1270 1,295.50 1,295.50 1,295.50\n",
       "2  2016-03-01    1445 1,345.33 1,345.33 1,345.33\n",
       "3  2016-04-01    1346 1,345.50 1,345.50 1,345.50\n",
       "4  2016-05-01    1504 1,377.20 1,377.20 1,377.20"
      ]
     },
     "execution_count": 100,
     "metadata": {},
     "output_type": "execute_result"
    }
   ],
   "source": [
    "# the simple moving average over a period of 5 \n",
    "df1['SMA_5'] = df1.Demand.rolling(5, min_periods=1).mean()\n",
    "# the simple moving average over a period of 10 \n",
    "df1['SMA_10'] = df1.Demand.rolling(10, min_periods=1).mean()\n",
    "# the simple moving average over a period of 20 \n",
    "df1['SMA_20'] = df1.Demand.rolling(20, min_periods=1).mean()\n",
    "df1.head()"
   ]
  },
  {
   "cell_type": "code",
   "execution_count": 101,
   "metadata": {},
   "outputs": [
    {
     "data": {
      "text/html": [
       "<div>\n",
       "<style scoped>\n",
       "    .dataframe tbody tr th:only-of-type {\n",
       "        vertical-align: middle;\n",
       "    }\n",
       "\n",
       "    .dataframe tbody tr th {\n",
       "        vertical-align: top;\n",
       "    }\n",
       "\n",
       "    .dataframe thead th {\n",
       "        text-align: right;\n",
       "    }\n",
       "</style>\n",
       "<table border=\"1\" class=\"dataframe\">\n",
       "  <thead>\n",
       "    <tr style=\"text-align: right;\">\n",
       "      <th></th>\n",
       "      <th>date</th>\n",
       "      <th>Demand</th>\n",
       "      <th>SMA_5</th>\n",
       "      <th>SMA_10</th>\n",
       "      <th>SMA_20</th>\n",
       "      <th>Error_10</th>\n",
       "    </tr>\n",
       "  </thead>\n",
       "  <tbody>\n",
       "    <tr>\n",
       "      <th>0</th>\n",
       "      <td>2016-01-01</td>\n",
       "      <td>1321</td>\n",
       "      <td>1,321.00</td>\n",
       "      <td>1,321.00</td>\n",
       "      <td>1,321.00</td>\n",
       "      <td>0.00</td>\n",
       "    </tr>\n",
       "    <tr>\n",
       "      <th>1</th>\n",
       "      <td>2016-02-01</td>\n",
       "      <td>1270</td>\n",
       "      <td>1,295.50</td>\n",
       "      <td>1,295.50</td>\n",
       "      <td>1,295.50</td>\n",
       "      <td>-25.50</td>\n",
       "    </tr>\n",
       "    <tr>\n",
       "      <th>2</th>\n",
       "      <td>2016-03-01</td>\n",
       "      <td>1445</td>\n",
       "      <td>1,345.33</td>\n",
       "      <td>1,345.33</td>\n",
       "      <td>1,345.33</td>\n",
       "      <td>99.67</td>\n",
       "    </tr>\n",
       "    <tr>\n",
       "      <th>3</th>\n",
       "      <td>2016-04-01</td>\n",
       "      <td>1346</td>\n",
       "      <td>1,345.50</td>\n",
       "      <td>1,345.50</td>\n",
       "      <td>1,345.50</td>\n",
       "      <td>0.50</td>\n",
       "    </tr>\n",
       "    <tr>\n",
       "      <th>4</th>\n",
       "      <td>2016-05-01</td>\n",
       "      <td>1504</td>\n",
       "      <td>1,377.20</td>\n",
       "      <td>1,377.20</td>\n",
       "      <td>1,377.20</td>\n",
       "      <td>126.80</td>\n",
       "    </tr>\n",
       "  </tbody>\n",
       "</table>\n",
       "</div>"
      ],
      "text/plain": [
       "         date  Demand    SMA_5   SMA_10   SMA_20  Error_10\n",
       "0  2016-01-01    1321 1,321.00 1,321.00 1,321.00      0.00\n",
       "1  2016-02-01    1270 1,295.50 1,295.50 1,295.50    -25.50\n",
       "2  2016-03-01    1445 1,345.33 1,345.33 1,345.33     99.67\n",
       "3  2016-04-01    1346 1,345.50 1,345.50 1,345.50      0.50\n",
       "4  2016-05-01    1504 1,377.20 1,377.20 1,377.20    126.80"
      ]
     },
     "execution_count": 101,
     "metadata": {},
     "output_type": "execute_result"
    }
   ],
   "source": [
    "# here we are calculating the error: between Demand and simple MA over past 10 years\n",
    "df1['Error_10']=df1['Demand']-df1['SMA_10']\n",
    "df1.head()"
   ]
  },
  {
   "cell_type": "code",
   "execution_count": 102,
   "metadata": {},
   "outputs": [
    {
     "data": {
      "text/plain": [
       "Text(0, 0.5, 'Demand')"
      ]
     },
     "execution_count": 102,
     "metadata": {},
     "output_type": "execute_result"
    },
    {
     "data": {
      "image/png": "[encoded data removed]",
      "text/plain": [
       "<Figure size 864x432 with 1 Axes>"
      ]
     },
     "metadata": {
      "needs_background": "light"
     },
     "output_type": "display_data"
    }
   ],
   "source": [
    "# colors for the line plot\n",
    "colors = ['green', 'red', 'blue', 'yellow']\n",
    "# line plot for demand\n",
    "df1.plot(color=colors, linewidth=3, figsize=(12,6))\n",
    "# modify ticks size\n",
    "plt.xticks(fontsize=14)\n",
    "plt.yticks(fontsize=14)\n",
    "plt.legend(labels =['Demand', '5-period SMA', '10-period SMA', '20-period SMA'], fontsize=14)\n",
    "# title and labels\n",
    "plt.title(' Demand', fontsize=20)\n",
    "plt.xlabel('Period', fontsize=16)\n",
    "plt.ylabel('Demand', fontsize=16)"
   ]
  },
  {
   "cell_type": "markdown",
   "metadata": {},
   "source": [
    "#### In this graph, from following 3 periods there are Various fluctuations in Demand over given years\n"
   ]
  },
  {
   "cell_type": "code",
   "execution_count": 103,
   "metadata": {},
   "outputs": [
    {
     "name": "stdout",
     "output_type": "stream",
     "text": [
      "MAE: 174.95\n",
      "RMSE: 250.35\n",
      "MSE: 62672.98\n"
     ]
    }
   ],
   "source": [
    "# For KPI Calculation\n",
    "\n",
    "MAE = df1[\"Error_10\"].abs().mean()  \n",
    "print(\"MAE:\",round(MAE,2)) \n",
    "RMSE = np.sqrt((df1[\"Error_10\"]**2).mean())\n",
    "print(\"RMSE:\",round(RMSE,2))\n",
    "MSE= (df1[\"Error_10\"]**2).mean()\n",
    "print(\"MSE:\",round(MSE,2))\n"
   ]
  },
  {
   "cell_type": "markdown",
   "metadata": {},
   "source": [
    "#### Here we can see that the Mean Absolute error is 174.95, Route mean square error is 250.35 and Mean square error is 62672.98, RMSE is considered better while compare to other two metrics as RMSE emphasizes the most significant error"
   ]
  },
  {
   "cell_type": "code",
   "execution_count": 104,
   "metadata": {},
   "outputs": [],
   "source": [
    "mae = metrics.mean_absolute_error(df1['Demand'], df1['SMA_10'])\n",
    "mse = metrics.mean_squared_error(df1['Demand'], df1['SMA_10'])\n",
    "rmse = np.sqrt(mse) # or mse**(0.5)  "
   ]
  },
  {
   "cell_type": "code",
   "execution_count": 105,
   "metadata": {},
   "outputs": [
    {
     "name": "stdout",
     "output_type": "stream",
     "text": [
      "174.95\n",
      "62672.98\n",
      "250.35\n"
     ]
    }
   ],
   "source": [
    "print(round(mae,2))\n",
    "print(round(mse,2))\n",
    "print(round(rmse,2))"
   ]
  },
  {
   "cell_type": "markdown",
   "metadata": {},
   "source": [
    "# 2. EXPONENTIAL SMOOTHING"
   ]
  },
  {
   "cell_type": "markdown",
   "metadata": {},
   "source": [
    "#### Simple Exponential Smoothing"
   ]
  },
  {
   "cell_type": "markdown",
   "metadata": {},
   "source": [
    "####  For univariate data, It is a time series forcasting method, this model explicitly uses an exponentially decreasing weight for past data. It is used for manking future prediciton.Exponential smoothing is used when is the time series patern is not clear."
   ]
  },
  {
   "cell_type": "code",
   "execution_count": 134,
   "metadata": {},
   "outputs": [],
   "source": [
    "df= pd.read_csv('EIA_puerto_rico_electric_consumption.csv', parse_dates=True, index_col =0)"
   ]
  },
  {
   "cell_type": "code",
   "execution_count": 135,
   "metadata": {},
   "outputs": [
    {
     "data": {
      "text/plain": [
       "(48, 6)"
      ]
     },
     "execution_count": 135,
     "metadata": {},
     "output_type": "execute_result"
    }
   ],
   "source": [
    "df.shape"
   ]
  },
  {
   "cell_type": "code",
   "execution_count": 136,
   "metadata": {},
   "outputs": [],
   "source": [
    "# //Renaming the new columns\n",
    "df1 = df.rename(columns={'all_sectors': 'Demand'})"
   ]
  },
  {
   "cell_type": "code",
   "execution_count": 137,
   "metadata": {},
   "outputs": [
    {
     "name": "stdout",
     "output_type": "stream",
     "text": [
      "(36, 6)\n",
      "(12, 6)\n"
     ]
    }
   ],
   "source": [
    "train=df1[0:-12] \n",
    "test=df1[-12:]\n",
    "print(train.shape)\n",
    "print(test.shape)"
   ]
  },
  {
   "cell_type": "code",
   "execution_count": 138,
   "metadata": {},
   "outputs": [
    {
     "data": {
      "image/png": "[encoded data removed]",
      "text/plain": [
       "<Figure size 1080x576 with 1 Axes>"
      ]
     },
     "metadata": {
      "needs_background": "light"
     },
     "output_type": "display_data"
    },
    {
     "data": {
      "image/png": "[encoded data removed]",
      "text/plain": [
       "<Figure size 1080x576 with 1 Axes>"
      ]
     },
     "metadata": {
      "needs_background": "light"
     },
     "output_type": "display_data"
    }
   ],
   "source": [
    "# Plotting train and test data\n",
    "train.plot(figsize=(15,8), title= ' Demand Data for Training', fontsize=14)\n",
    "test.plot(figsize=(15,8), title= ' Demand Data for Testing', fontsize=14)\n",
    "plt.show()"
   ]
  },
  {
   "cell_type": "code",
   "execution_count": 118,
   "metadata": {},
   "outputs": [],
   "source": [
    "from sklearn.metrics import mean_squared_error\n",
    "from sklearn.metrics import mean_absolute_error\n",
    "from math import sqrt"
   ]
  },
  {
   "cell_type": "markdown",
   "metadata": {},
   "source": [
    "### Simple Exponential Smoothing"
   ]
  },
  {
   "cell_type": "code",
   "execution_count": 119,
   "metadata": {},
   "outputs": [
    {
     "name": "stdout",
     "output_type": "stream",
     "text": [
      "MAE 119.85\n",
      "MSE 21,868.43\n",
      "RMSE 147.88\n"
     ]
    },
    {
     "data": {
      "image/png": "[encoded data removed]",
      "text/plain": [
       "<Figure size 1152x576 with 1 Axes>"
      ]
     },
     "metadata": {
      "needs_background": "light"
     },
     "output_type": "display_data"
    }
   ],
   "source": [
    "from statsmodels.tsa.api import ExponentialSmoothing, SimpleExpSmoothing, Holt\n",
    "# Fit the model\n",
    "pred = test.copy()\n",
    "fit2 = SimpleExpSmoothing(np.asarray(train['Demand'])).fit(smoothing_level=0.8,optimized=False)\n",
    "pred['SES'] = fit2.forecast(len(test))\n",
    "# Calculate KPI's\n",
    "mae = mean_absolute_error(test.Demand, pred.SES)\n",
    "mse=mean_squared_error(test.Demand, pred.SES)\n",
    "rmse = sqrt(mean_squared_error(test.Demand, pred.SES))\n",
    "print(\"MAE {:,.2f}\".format(mae))\n",
    "print(\"MSE {:,.2f}\".format(mse))\n",
    "print(\"RMSE {:,.2f}\".format(rmse))\n",
    "# Plot\n",
    "plt.figure(figsize=(16,8))\n",
    "plt.plot(train['Demand'], label='Train')\n",
    "plt.plot(test['Demand'], label='Test')\n",
    "plt.plot(pred['SES'], label='SES (RMSE={:.2f})'.format(rmse)) \n",
    "plt.legend()\n",
    "plt.show()"
   ]
  },
  {
   "cell_type": "markdown",
   "metadata": {},
   "source": [
    "#### From the Simple Exponential Smoothing we got RMSE = 147.88"
   ]
  },
  {
   "cell_type": "code",
   "execution_count": 140,
   "metadata": {},
   "outputs": [
    {
     "data": {
      "text/html": [
       "<div>\n",
       "<style scoped>\n",
       "    .dataframe tbody tr th:only-of-type {\n",
       "        vertical-align: middle;\n",
       "    }\n",
       "\n",
       "    .dataframe tbody tr th {\n",
       "        vertical-align: top;\n",
       "    }\n",
       "\n",
       "    .dataframe thead th {\n",
       "        text-align: right;\n",
       "    }\n",
       "</style>\n",
       "<table border=\"1\" class=\"dataframe\">\n",
       "  <thead>\n",
       "    <tr style=\"text-align: right;\">\n",
       "      <th></th>\n",
       "      <th>date</th>\n",
       "      <th>yearmonth</th>\n",
       "      <th>residential</th>\n",
       "      <th>commercial</th>\n",
       "      <th>industrial</th>\n",
       "      <th>Demand</th>\n",
       "      <th>Holt_Winter</th>\n",
       "    </tr>\n",
       "  </thead>\n",
       "  <tbody>\n",
       "    <tr>\n",
       "      <th>36</th>\n",
       "      <td>2019-01-01</td>\n",
       "      <td>201901</td>\n",
       "      <td>447</td>\n",
       "      <td>573</td>\n",
       "      <td>154</td>\n",
       "      <td>1173</td>\n",
       "      <td>1,487.61</td>\n",
       "    </tr>\n",
       "    <tr>\n",
       "      <th>37</th>\n",
       "      <td>2019-02-01</td>\n",
       "      <td>201902</td>\n",
       "      <td>367</td>\n",
       "      <td>487</td>\n",
       "      <td>146</td>\n",
       "      <td>1000</td>\n",
       "      <td>1,488.61</td>\n",
       "    </tr>\n",
       "    <tr>\n",
       "      <th>38</th>\n",
       "      <td>2019-03-01</td>\n",
       "      <td>201903</td>\n",
       "      <td>448</td>\n",
       "      <td>650</td>\n",
       "      <td>180</td>\n",
       "      <td>1279</td>\n",
       "      <td>1,555.29</td>\n",
       "    </tr>\n",
       "    <tr>\n",
       "      <th>39</th>\n",
       "      <td>2019-04-01</td>\n",
       "      <td>201904</td>\n",
       "      <td>465</td>\n",
       "      <td>681</td>\n",
       "      <td>165</td>\n",
       "      <td>1311</td>\n",
       "      <td>1,647.24</td>\n",
       "    </tr>\n",
       "    <tr>\n",
       "      <th>40</th>\n",
       "      <td>2019-05-01</td>\n",
       "      <td>201905</td>\n",
       "      <td>512</td>\n",
       "      <td>655</td>\n",
       "      <td>189</td>\n",
       "      <td>1355</td>\n",
       "      <td>1,733.79</td>\n",
       "    </tr>\n",
       "    <tr>\n",
       "      <th>41</th>\n",
       "      <td>2019-06-01</td>\n",
       "      <td>201906</td>\n",
       "      <td>568</td>\n",
       "      <td>692</td>\n",
       "      <td>171</td>\n",
       "      <td>1431</td>\n",
       "      <td>1,702.93</td>\n",
       "    </tr>\n",
       "    <tr>\n",
       "      <th>42</th>\n",
       "      <td>2019-07-01</td>\n",
       "      <td>201907</td>\n",
       "      <td>618</td>\n",
       "      <td>687</td>\n",
       "      <td>181</td>\n",
       "      <td>1487</td>\n",
       "      <td>1,763.72</td>\n",
       "    </tr>\n",
       "    <tr>\n",
       "      <th>43</th>\n",
       "      <td>2019-08-01</td>\n",
       "      <td>201908</td>\n",
       "      <td>594</td>\n",
       "      <td>718</td>\n",
       "      <td>175</td>\n",
       "      <td>1487</td>\n",
       "      <td>1,779.23</td>\n",
       "    </tr>\n",
       "    <tr>\n",
       "      <th>44</th>\n",
       "      <td>2019-09-01</td>\n",
       "      <td>201909</td>\n",
       "      <td>586</td>\n",
       "      <td>712</td>\n",
       "      <td>166</td>\n",
       "      <td>1464</td>\n",
       "      <td>1,594.86</td>\n",
       "    </tr>\n",
       "    <tr>\n",
       "      <th>45</th>\n",
       "      <td>2019-10-01</td>\n",
       "      <td>201910</td>\n",
       "      <td>587</td>\n",
       "      <td>712</td>\n",
       "      <td>196</td>\n",
       "      <td>1495</td>\n",
       "      <td>1,399.96</td>\n",
       "    </tr>\n",
       "    <tr>\n",
       "      <th>46</th>\n",
       "      <td>2019-11-01</td>\n",
       "      <td>201911</td>\n",
       "      <td>504</td>\n",
       "      <td>677</td>\n",
       "      <td>162</td>\n",
       "      <td>1343</td>\n",
       "      <td>1,366.01</td>\n",
       "    </tr>\n",
       "    <tr>\n",
       "      <th>47</th>\n",
       "      <td>2019-12-01</td>\n",
       "      <td>201912</td>\n",
       "      <td>509</td>\n",
       "      <td>655</td>\n",
       "      <td>165</td>\n",
       "      <td>1328</td>\n",
       "      <td>1,384.07</td>\n",
       "    </tr>\n",
       "  </tbody>\n",
       "</table>\n",
       "</div>"
      ],
      "text/plain": [
       "          date  yearmonth  residential  commercial  industrial  Demand  \\\n",
       "36  2019-01-01     201901          447         573         154    1173   \n",
       "37  2019-02-01     201902          367         487         146    1000   \n",
       "38  2019-03-01     201903          448         650         180    1279   \n",
       "39  2019-04-01     201904          465         681         165    1311   \n",
       "40  2019-05-01     201905          512         655         189    1355   \n",
       "41  2019-06-01     201906          568         692         171    1431   \n",
       "42  2019-07-01     201907          618         687         181    1487   \n",
       "43  2019-08-01     201908          594         718         175    1487   \n",
       "44  2019-09-01     201909          586         712         166    1464   \n",
       "45  2019-10-01     201910          587         712         196    1495   \n",
       "46  2019-11-01     201911          504         677         162    1343   \n",
       "47  2019-12-01     201912          509         655         165    1328   \n",
       "\n",
       "    Holt_Winter  \n",
       "36     1,487.61  \n",
       "37     1,488.61  \n",
       "38     1,555.29  \n",
       "39     1,647.24  \n",
       "40     1,733.79  \n",
       "41     1,702.93  \n",
       "42     1,763.72  \n",
       "43     1,779.23  \n",
       "44     1,594.86  \n",
       "45     1,399.96  \n",
       "46     1,366.01  \n",
       "47     1,384.07  "
      ]
     },
     "execution_count": 140,
     "metadata": {},
     "output_type": "execute_result"
    }
   ],
   "source": [
    "pred"
   ]
  },
  {
   "cell_type": "markdown",
   "metadata": {},
   "source": [
    "### Double Exponential Smoothing (Holt)"
   ]
  },
  {
   "cell_type": "markdown",
   "metadata": {},
   "source": [
    "#### Holt's two parameter model is also known as linear,double,trend-enhanced exponential smoothing model for forecasting data with trend. In this model we have three separate equations that work together to generate a final forecast. for level, trend and seasonal component with three parameters."
   ]
  },
  {
   "cell_type": "code",
   "execution_count": 141,
   "metadata": {},
   "outputs": [
    {
     "name": "stdout",
     "output_type": "stream",
     "text": [
      "MAE 162.77\n",
      "MSE 39,947.66\n",
      "RMSE 199.87\n"
     ]
    },
    {
     "data": {
      "image/png": "[encoded data removed]",
      "text/plain": [
       "<Figure size 1152x576 with 1 Axes>"
      ]
     },
     "metadata": {
      "needs_background": "light"
     },
     "output_type": "display_data"
    }
   ],
   "source": [
    "# Fit the model\n",
    "pred = test.copy()\n",
    "fit1 = Holt(np.asarray(train['Demand'])).fit(smoothing_level = 0.3,smoothing_slope = 0.1)\n",
    "pred['Holt_linear'] = fit1.forecast(len(test))\n",
    "# Calculate KPI\n",
    "mae = mean_absolute_error(test.Demand, pred.Holt_linear)\n",
    "mse=mean_squared_error(test.Demand, pred.Holt_linear)\n",
    "rmse = sqrt(mean_squared_error(test.Demand, pred.Holt_linear))\n",
    "print(\"MAE {:,.2f}\".format(mae))\n",
    "print(\"MSE {:,.2f}\".format(mse))\n",
    "print(\"RMSE {:,.2f}\".format(rmse))\n",
    "# Plot\n",
    "plt.figure(figsize=(16,8))\n",
    "plt.plot(train['Demand'], label='Train')\n",
    "plt.plot(test['Demand'], label='Test')\n",
    "plt.plot(pred['Holt_linear'], label='Holt_linear(RMSE={:.2f})'.format(rmse))\n",
    "plt.legend()\n",
    "plt.show()"
   ]
  },
  {
   "cell_type": "markdown",
   "metadata": {},
   "source": [
    "#### From the Double Exponential Smoothing we got RMSE = 199.87"
   ]
  },
  {
   "cell_type": "code",
   "execution_count": 142,
   "metadata": {},
   "outputs": [
    {
     "data": {
      "text/html": [
       "<div>\n",
       "<style scoped>\n",
       "    .dataframe tbody tr th:only-of-type {\n",
       "        vertical-align: middle;\n",
       "    }\n",
       "\n",
       "    .dataframe tbody tr th {\n",
       "        vertical-align: top;\n",
       "    }\n",
       "\n",
       "    .dataframe thead th {\n",
       "        text-align: right;\n",
       "    }\n",
       "</style>\n",
       "<table border=\"1\" class=\"dataframe\">\n",
       "  <thead>\n",
       "    <tr style=\"text-align: right;\">\n",
       "      <th></th>\n",
       "      <th>date</th>\n",
       "      <th>yearmonth</th>\n",
       "      <th>residential</th>\n",
       "      <th>commercial</th>\n",
       "      <th>industrial</th>\n",
       "      <th>Demand</th>\n",
       "      <th>Holt_linear</th>\n",
       "    </tr>\n",
       "  </thead>\n",
       "  <tbody>\n",
       "    <tr>\n",
       "      <th>36</th>\n",
       "      <td>2019-01-01</td>\n",
       "      <td>201901</td>\n",
       "      <td>447</td>\n",
       "      <td>573</td>\n",
       "      <td>154</td>\n",
       "      <td>1173</td>\n",
       "      <td>1,431.57</td>\n",
       "    </tr>\n",
       "    <tr>\n",
       "      <th>37</th>\n",
       "      <td>2019-02-01</td>\n",
       "      <td>201902</td>\n",
       "      <td>367</td>\n",
       "      <td>487</td>\n",
       "      <td>146</td>\n",
       "      <td>1000</td>\n",
       "      <td>1,445.62</td>\n",
       "    </tr>\n",
       "    <tr>\n",
       "      <th>38</th>\n",
       "      <td>2019-03-01</td>\n",
       "      <td>201903</td>\n",
       "      <td>448</td>\n",
       "      <td>650</td>\n",
       "      <td>180</td>\n",
       "      <td>1279</td>\n",
       "      <td>1,459.67</td>\n",
       "    </tr>\n",
       "    <tr>\n",
       "      <th>39</th>\n",
       "      <td>2019-04-01</td>\n",
       "      <td>201904</td>\n",
       "      <td>465</td>\n",
       "      <td>681</td>\n",
       "      <td>165</td>\n",
       "      <td>1311</td>\n",
       "      <td>1,473.72</td>\n",
       "    </tr>\n",
       "    <tr>\n",
       "      <th>40</th>\n",
       "      <td>2019-05-01</td>\n",
       "      <td>201905</td>\n",
       "      <td>512</td>\n",
       "      <td>655</td>\n",
       "      <td>189</td>\n",
       "      <td>1355</td>\n",
       "      <td>1,487.78</td>\n",
       "    </tr>\n",
       "    <tr>\n",
       "      <th>41</th>\n",
       "      <td>2019-06-01</td>\n",
       "      <td>201906</td>\n",
       "      <td>568</td>\n",
       "      <td>692</td>\n",
       "      <td>171</td>\n",
       "      <td>1431</td>\n",
       "      <td>1,501.83</td>\n",
       "    </tr>\n",
       "    <tr>\n",
       "      <th>42</th>\n",
       "      <td>2019-07-01</td>\n",
       "      <td>201907</td>\n",
       "      <td>618</td>\n",
       "      <td>687</td>\n",
       "      <td>181</td>\n",
       "      <td>1487</td>\n",
       "      <td>1,515.88</td>\n",
       "    </tr>\n",
       "    <tr>\n",
       "      <th>43</th>\n",
       "      <td>2019-08-01</td>\n",
       "      <td>201908</td>\n",
       "      <td>594</td>\n",
       "      <td>718</td>\n",
       "      <td>175</td>\n",
       "      <td>1487</td>\n",
       "      <td>1,529.93</td>\n",
       "    </tr>\n",
       "    <tr>\n",
       "      <th>44</th>\n",
       "      <td>2019-09-01</td>\n",
       "      <td>201909</td>\n",
       "      <td>586</td>\n",
       "      <td>712</td>\n",
       "      <td>166</td>\n",
       "      <td>1464</td>\n",
       "      <td>1,543.99</td>\n",
       "    </tr>\n",
       "    <tr>\n",
       "      <th>45</th>\n",
       "      <td>2019-10-01</td>\n",
       "      <td>201910</td>\n",
       "      <td>587</td>\n",
       "      <td>712</td>\n",
       "      <td>196</td>\n",
       "      <td>1495</td>\n",
       "      <td>1,558.04</td>\n",
       "    </tr>\n",
       "    <tr>\n",
       "      <th>46</th>\n",
       "      <td>2019-11-01</td>\n",
       "      <td>201911</td>\n",
       "      <td>504</td>\n",
       "      <td>677</td>\n",
       "      <td>162</td>\n",
       "      <td>1343</td>\n",
       "      <td>1,572.09</td>\n",
       "    </tr>\n",
       "    <tr>\n",
       "      <th>47</th>\n",
       "      <td>2019-12-01</td>\n",
       "      <td>201912</td>\n",
       "      <td>509</td>\n",
       "      <td>655</td>\n",
       "      <td>165</td>\n",
       "      <td>1328</td>\n",
       "      <td>1,586.14</td>\n",
       "    </tr>\n",
       "  </tbody>\n",
       "</table>\n",
       "</div>"
      ],
      "text/plain": [
       "          date  yearmonth  residential  commercial  industrial  Demand  \\\n",
       "36  2019-01-01     201901          447         573         154    1173   \n",
       "37  2019-02-01     201902          367         487         146    1000   \n",
       "38  2019-03-01     201903          448         650         180    1279   \n",
       "39  2019-04-01     201904          465         681         165    1311   \n",
       "40  2019-05-01     201905          512         655         189    1355   \n",
       "41  2019-06-01     201906          568         692         171    1431   \n",
       "42  2019-07-01     201907          618         687         181    1487   \n",
       "43  2019-08-01     201908          594         718         175    1487   \n",
       "44  2019-09-01     201909          586         712         166    1464   \n",
       "45  2019-10-01     201910          587         712         196    1495   \n",
       "46  2019-11-01     201911          504         677         162    1343   \n",
       "47  2019-12-01     201912          509         655         165    1328   \n",
       "\n",
       "    Holt_linear  \n",
       "36     1,431.57  \n",
       "37     1,445.62  \n",
       "38     1,459.67  \n",
       "39     1,473.72  \n",
       "40     1,487.78  \n",
       "41     1,501.83  \n",
       "42     1,515.88  \n",
       "43     1,529.93  \n",
       "44     1,543.99  \n",
       "45     1,558.04  \n",
       "46     1,572.09  \n",
       "47     1,586.14  "
      ]
     },
     "execution_count": 142,
     "metadata": {},
     "output_type": "execute_result"
    }
   ],
   "source": [
    "pred"
   ]
  },
  {
   "cell_type": "markdown",
   "metadata": {},
   "source": [
    "### Triple Exponential Smoothing (Holt Winters)"
   ]
  },
  {
   "cell_type": "markdown",
   "metadata": {},
   "source": [
    "#### Triple exponential smoothing acknowledge the seasonality in data with the seasonal factor gamma. In our data there is seasonality with trend which means we can not see any repetition in the data, so we have  used TES."
   ]
  },
  {
   "cell_type": "code",
   "execution_count": 143,
   "metadata": {},
   "outputs": [],
   "source": [
    "from sklearn.metrics import mean_squared_error\n",
    "from sklearn.metrics import mean_absolute_error\n",
    "from math import sqrt"
   ]
  },
  {
   "cell_type": "code",
   "execution_count": 144,
   "metadata": {},
   "outputs": [
    {
     "name": "stdout",
     "output_type": "stream",
     "text": [
      "MAE 245.03\n",
      "MSE 78,028.82\n",
      "RMSE 279.34\n"
     ]
    },
    {
     "data": {
      "image/png": "[encoded data removed]",
      "text/plain": [
       "<Figure size 1152x576 with 1 Axes>"
      ]
     },
     "metadata": {
      "needs_background": "light"
     },
     "output_type": "display_data"
    }
   ],
   "source": [
    "# Fit the model\n",
    "pred = test.copy()\n",
    "fit1 = ExponentialSmoothing(np.asarray(train['Demand']) ,seasonal_periods=12 ,trend='add', seasonal='add').fit()\n",
    "\n",
    "pred['Holt_Winter'] = fit1.forecast(len(test))\n",
    "# Calculate KPI's\n",
    "mae = mean_absolute_error(test.Demand, pred.Holt_Winter)\n",
    "mse=mean_squared_error(test.Demand, pred.Holt_Winter)\n",
    "rmse = sqrt(mean_squared_error(test.Demand, pred.Holt_Winter))\n",
    "print(\"MAE {:,.2f}\".format(mae))\n",
    "print(\"MSE {:,.2f}\".format(mse))\n",
    "print(\"RMSE {:,.2f}\".format(rmse))\n",
    "# Plot\n",
    "plt.figure(figsize=(16,8))\n",
    "plt.plot( train['Demand'], label='Train')\n",
    "plt.plot(test['Demand'], label='Test')\n",
    "plt.plot(pred['Holt_Winter'], label='Holt_Winter (RMSE={:.2f})'.format(rmse))\n",
    "\n",
    "plt.legend()\n",
    "plt.show()"
   ]
  },
  {
   "cell_type": "code",
   "execution_count": 145,
   "metadata": {},
   "outputs": [
    {
     "data": {
      "text/html": [
       "<div>\n",
       "<style scoped>\n",
       "    .dataframe tbody tr th:only-of-type {\n",
       "        vertical-align: middle;\n",
       "    }\n",
       "\n",
       "    .dataframe tbody tr th {\n",
       "        vertical-align: top;\n",
       "    }\n",
       "\n",
       "    .dataframe thead th {\n",
       "        text-align: right;\n",
       "    }\n",
       "</style>\n",
       "<table border=\"1\" class=\"dataframe\">\n",
       "  <thead>\n",
       "    <tr style=\"text-align: right;\">\n",
       "      <th></th>\n",
       "      <th>date</th>\n",
       "      <th>yearmonth</th>\n",
       "      <th>residential</th>\n",
       "      <th>commercial</th>\n",
       "      <th>industrial</th>\n",
       "      <th>Demand</th>\n",
       "      <th>Holt_Winter</th>\n",
       "    </tr>\n",
       "  </thead>\n",
       "  <tbody>\n",
       "    <tr>\n",
       "      <th>36</th>\n",
       "      <td>2019-01-01</td>\n",
       "      <td>201901</td>\n",
       "      <td>447</td>\n",
       "      <td>573</td>\n",
       "      <td>154</td>\n",
       "      <td>1173</td>\n",
       "      <td>1,487.61</td>\n",
       "    </tr>\n",
       "    <tr>\n",
       "      <th>37</th>\n",
       "      <td>2019-02-01</td>\n",
       "      <td>201902</td>\n",
       "      <td>367</td>\n",
       "      <td>487</td>\n",
       "      <td>146</td>\n",
       "      <td>1000</td>\n",
       "      <td>1,488.61</td>\n",
       "    </tr>\n",
       "    <tr>\n",
       "      <th>38</th>\n",
       "      <td>2019-03-01</td>\n",
       "      <td>201903</td>\n",
       "      <td>448</td>\n",
       "      <td>650</td>\n",
       "      <td>180</td>\n",
       "      <td>1279</td>\n",
       "      <td>1,555.29</td>\n",
       "    </tr>\n",
       "    <tr>\n",
       "      <th>39</th>\n",
       "      <td>2019-04-01</td>\n",
       "      <td>201904</td>\n",
       "      <td>465</td>\n",
       "      <td>681</td>\n",
       "      <td>165</td>\n",
       "      <td>1311</td>\n",
       "      <td>1,647.24</td>\n",
       "    </tr>\n",
       "    <tr>\n",
       "      <th>40</th>\n",
       "      <td>2019-05-01</td>\n",
       "      <td>201905</td>\n",
       "      <td>512</td>\n",
       "      <td>655</td>\n",
       "      <td>189</td>\n",
       "      <td>1355</td>\n",
       "      <td>1,733.79</td>\n",
       "    </tr>\n",
       "    <tr>\n",
       "      <th>41</th>\n",
       "      <td>2019-06-01</td>\n",
       "      <td>201906</td>\n",
       "      <td>568</td>\n",
       "      <td>692</td>\n",
       "      <td>171</td>\n",
       "      <td>1431</td>\n",
       "      <td>1,702.93</td>\n",
       "    </tr>\n",
       "    <tr>\n",
       "      <th>42</th>\n",
       "      <td>2019-07-01</td>\n",
       "      <td>201907</td>\n",
       "      <td>618</td>\n",
       "      <td>687</td>\n",
       "      <td>181</td>\n",
       "      <td>1487</td>\n",
       "      <td>1,763.72</td>\n",
       "    </tr>\n",
       "    <tr>\n",
       "      <th>43</th>\n",
       "      <td>2019-08-01</td>\n",
       "      <td>201908</td>\n",
       "      <td>594</td>\n",
       "      <td>718</td>\n",
       "      <td>175</td>\n",
       "      <td>1487</td>\n",
       "      <td>1,779.23</td>\n",
       "    </tr>\n",
       "    <tr>\n",
       "      <th>44</th>\n",
       "      <td>2019-09-01</td>\n",
       "      <td>201909</td>\n",
       "      <td>586</td>\n",
       "      <td>712</td>\n",
       "      <td>166</td>\n",
       "      <td>1464</td>\n",
       "      <td>1,594.86</td>\n",
       "    </tr>\n",
       "    <tr>\n",
       "      <th>45</th>\n",
       "      <td>2019-10-01</td>\n",
       "      <td>201910</td>\n",
       "      <td>587</td>\n",
       "      <td>712</td>\n",
       "      <td>196</td>\n",
       "      <td>1495</td>\n",
       "      <td>1,399.96</td>\n",
       "    </tr>\n",
       "    <tr>\n",
       "      <th>46</th>\n",
       "      <td>2019-11-01</td>\n",
       "      <td>201911</td>\n",
       "      <td>504</td>\n",
       "      <td>677</td>\n",
       "      <td>162</td>\n",
       "      <td>1343</td>\n",
       "      <td>1,366.01</td>\n",
       "    </tr>\n",
       "    <tr>\n",
       "      <th>47</th>\n",
       "      <td>2019-12-01</td>\n",
       "      <td>201912</td>\n",
       "      <td>509</td>\n",
       "      <td>655</td>\n",
       "      <td>165</td>\n",
       "      <td>1328</td>\n",
       "      <td>1,384.07</td>\n",
       "    </tr>\n",
       "  </tbody>\n",
       "</table>\n",
       "</div>"
      ],
      "text/plain": [
       "          date  yearmonth  residential  commercial  industrial  Demand  \\\n",
       "36  2019-01-01     201901          447         573         154    1173   \n",
       "37  2019-02-01     201902          367         487         146    1000   \n",
       "38  2019-03-01     201903          448         650         180    1279   \n",
       "39  2019-04-01     201904          465         681         165    1311   \n",
       "40  2019-05-01     201905          512         655         189    1355   \n",
       "41  2019-06-01     201906          568         692         171    1431   \n",
       "42  2019-07-01     201907          618         687         181    1487   \n",
       "43  2019-08-01     201908          594         718         175    1487   \n",
       "44  2019-09-01     201909          586         712         166    1464   \n",
       "45  2019-10-01     201910          587         712         196    1495   \n",
       "46  2019-11-01     201911          504         677         162    1343   \n",
       "47  2019-12-01     201912          509         655         165    1328   \n",
       "\n",
       "    Holt_Winter  \n",
       "36     1,487.61  \n",
       "37     1,488.61  \n",
       "38     1,555.29  \n",
       "39     1,647.24  \n",
       "40     1,733.79  \n",
       "41     1,702.93  \n",
       "42     1,763.72  \n",
       "43     1,779.23  \n",
       "44     1,594.86  \n",
       "45     1,399.96  \n",
       "46     1,366.01  \n",
       "47     1,384.07  "
      ]
     },
     "execution_count": 145,
     "metadata": {},
     "output_type": "execute_result"
    }
   ],
   "source": [
    "pred"
   ]
  },
  {
   "cell_type": "markdown",
   "metadata": {},
   "source": [
    "# 3. Linear Regression"
   ]
  },
  {
   "cell_type": "code",
   "execution_count": 161,
   "metadata": {},
   "outputs": [
    {
     "data": {
      "image/png": "[encoded data removed]",
      "text/plain": [
       "<Figure size 432x288 with 1 Axes>"
      ]
     },
     "metadata": {
      "needs_background": "light"
     },
     "output_type": "display_data"
    }
   ],
   "source": [
    "# Explore the data\n",
    "df.plot(x='yearmonth', y='all_sectors', style='1')\n",
    "plt.title('Electricity consumption by month ')  \n",
    "plt.xlabel('yearmonth')  \n",
    "plt.ylabel('all_sectors')  \n",
    "plt.show()"
   ]
  },
  {
   "cell_type": "code",
   "execution_count": 162,
   "metadata": {},
   "outputs": [],
   "source": [
    "X = df['yearmonth'].values.reshape(-1,1)\n",
    "y = df['all_sectors'].values.reshape(-1,1)"
   ]
  },
  {
   "cell_type": "code",
   "execution_count": 163,
   "metadata": {},
   "outputs": [],
   "source": [
    "# Splitting the data into training and testing set\n",
    "from sklearn.model_selection import train_test_split\n",
    "X_train, X_test, y_train, y_test = train_test_split(X, y, test_size=0.2, random_state=0)"
   ]
  },
  {
   "cell_type": "code",
   "execution_count": 165,
   "metadata": {},
   "outputs": [
    {
     "data": {
      "text/plain": [
       "LinearRegression()"
      ]
     },
     "execution_count": 165,
     "metadata": {},
     "output_type": "execute_result"
    }
   ],
   "source": [
    "from sklearn.linear_model import LinearRegression\n",
    "regressor = LinearRegression()  \n",
    "regressor.fit(X_train, y_train)"
   ]
  },
  {
   "cell_type": "code",
   "execution_count": 166,
   "metadata": {},
   "outputs": [
    {
     "name": "stdout",
     "output_type": "stream",
     "text": [
      "[-35563.36151394]\n",
      "[[0.18282557]]\n"
     ]
    }
   ],
   "source": [
    "#To retrieve the intercept:\n",
    "print(regressor.intercept_)\n",
    "\n",
    "#For retrieving the slope:\n",
    "print(regressor.coef_)"
   ]
  },
  {
   "cell_type": "code",
   "execution_count": 167,
   "metadata": {},
   "outputs": [],
   "source": [
    "# Predictions on the test data \n",
    "y_pred = regressor.predict(X_test)"
   ]
  },
  {
   "cell_type": "code",
   "execution_count": 168,
   "metadata": {},
   "outputs": [
    {
     "data": {
      "text/html": [
       "<div>\n",
       "<style scoped>\n",
       "    .dataframe tbody tr th:only-of-type {\n",
       "        vertical-align: middle;\n",
       "    }\n",
       "\n",
       "    .dataframe tbody tr th {\n",
       "        vertical-align: top;\n",
       "    }\n",
       "\n",
       "    .dataframe thead th {\n",
       "        text-align: right;\n",
       "    }\n",
       "</style>\n",
       "<table border=\"1\" class=\"dataframe\">\n",
       "  <thead>\n",
       "    <tr style=\"text-align: right;\">\n",
       "      <th></th>\n",
       "      <th>Actual</th>\n",
       "      <th>Predicted</th>\n",
       "    </tr>\n",
       "  </thead>\n",
       "  <tbody>\n",
       "    <tr>\n",
       "      <th>0</th>\n",
       "      <td>1308</td>\n",
       "      <td>1,331.94</td>\n",
       "    </tr>\n",
       "    <tr>\n",
       "      <th>1</th>\n",
       "      <td>1504</td>\n",
       "      <td>1,295.19</td>\n",
       "    </tr>\n",
       "    <tr>\n",
       "      <th>2</th>\n",
       "      <td>1080</td>\n",
       "      <td>1,331.39</td>\n",
       "    </tr>\n",
       "    <tr>\n",
       "      <th>3</th>\n",
       "      <td>1404</td>\n",
       "      <td>1,332.12</td>\n",
       "    </tr>\n",
       "    <tr>\n",
       "      <th>4</th>\n",
       "      <td>1436</td>\n",
       "      <td>1,332.48</td>\n",
       "    </tr>\n",
       "    <tr>\n",
       "      <th>5</th>\n",
       "      <td>1000</td>\n",
       "      <td>1,349.49</td>\n",
       "    </tr>\n",
       "    <tr>\n",
       "      <th>6</th>\n",
       "      <td>1222</td>\n",
       "      <td>1,332.85</td>\n",
       "    </tr>\n",
       "    <tr>\n",
       "      <th>7</th>\n",
       "      <td>1355</td>\n",
       "      <td>1,350.04</td>\n",
       "    </tr>\n",
       "    <tr>\n",
       "      <th>8</th>\n",
       "      <td>1530</td>\n",
       "      <td>1,295.74</td>\n",
       "    </tr>\n",
       "    <tr>\n",
       "      <th>9</th>\n",
       "      <td>1454</td>\n",
       "      <td>1,296.28</td>\n",
       "    </tr>\n",
       "  </tbody>\n",
       "</table>\n",
       "</div>"
      ],
      "text/plain": [
       "   Actual  Predicted\n",
       "0    1308   1,331.94\n",
       "1    1504   1,295.19\n",
       "2    1080   1,331.39\n",
       "3    1404   1,332.12\n",
       "4    1436   1,332.48\n",
       "5    1000   1,349.49\n",
       "6    1222   1,332.85\n",
       "7    1355   1,350.04\n",
       "8    1530   1,295.74\n",
       "9    1454   1,296.28"
      ]
     },
     "execution_count": 168,
     "metadata": {},
     "output_type": "execute_result"
    }
   ],
   "source": [
    "# Comparison of Actual values with predicted ones\n",
    "df = pd.DataFrame({'Actual': y_test.flatten(), 'Predicted': y_pred.flatten()})\n",
    "df"
   ]
  },
  {
   "cell_type": "code",
   "execution_count": 169,
   "metadata": {},
   "outputs": [
    {
     "data": {
      "image/png": "[encoded data removed]",
      "text/plain": [
       "<Figure size 1152x720 with 1 Axes>"
      ]
     },
     "metadata": {
      "needs_background": "light"
     },
     "output_type": "display_data"
    }
   ],
   "source": [
    "# Visualization of Comaprison result\n",
    "df.plot(kind='bar',figsize=(16,10))\n",
    "plt.show()"
   ]
  },
  {
   "cell_type": "code",
   "execution_count": 170,
   "metadata": {},
   "outputs": [
    {
     "data": {
      "image/png": "[encoded data removed]",
      "text/plain": [
       "<Figure size 432x288 with 1 Axes>"
      ]
     },
     "metadata": {
      "needs_background": "light"
     },
     "output_type": "display_data"
    }
   ],
   "source": [
    "plt.scatter(X_test, y_test,  color='gray')\n",
    "plt.plot(X_test, y_pred, color='red', linewidth=2)\n",
    "plt.show()"
   ]
  },
  {
   "cell_type": "code",
   "execution_count": 171,
   "metadata": {},
   "outputs": [
    {
     "name": "stdout",
     "output_type": "stream",
     "text": [
      "Mean Absolute Error: 151.6813570687118\n",
      "Mean Squared Error: 33746.05942038856\n",
      "Root Mean Squared Error: 183.70100549640048\n"
     ]
    }
   ],
   "source": [
    "from sklearn import metrics\n",
    "print('Mean Absolute Error:', metrics.mean_absolute_error(y_test, y_pred))  \n",
    "print('Mean Squared Error:', metrics.mean_squared_error(y_test, y_pred))  \n",
    "print('Root Mean Squared Error:', np.sqrt(metrics.mean_squared_error(y_test, y_pred)))"
   ]
  },
  {
   "cell_type": "code",
   "execution_count": null,
   "metadata": {},
   "outputs": [],
   "source": []
  },
  {
   "cell_type": "markdown",
   "metadata": {},
   "source": [
    "# 4. Arima Model"
   ]
  },
  {
   "cell_type": "code",
   "execution_count": 185,
   "metadata": {},
   "outputs": [],
   "source": [
    "#load the data\n",
    "df = pd.read_csv(\"EIA_puerto_rico_electric_consumption.csv\", index_col ='date', parse_dates =True)"
   ]
  },
  {
   "cell_type": "code",
   "execution_count": 186,
   "metadata": {},
   "outputs": [
    {
     "data": {
      "text/html": [
       "<div>\n",
       "<style scoped>\n",
       "    .dataframe tbody tr th:only-of-type {\n",
       "        vertical-align: middle;\n",
       "    }\n",
       "\n",
       "    .dataframe tbody tr th {\n",
       "        vertical-align: top;\n",
       "    }\n",
       "\n",
       "    .dataframe thead th {\n",
       "        text-align: right;\n",
       "    }\n",
       "</style>\n",
       "<table border=\"1\" class=\"dataframe\">\n",
       "  <thead>\n",
       "    <tr style=\"text-align: right;\">\n",
       "      <th></th>\n",
       "      <th>Unnamed: 0</th>\n",
       "      <th>yearmonth</th>\n",
       "      <th>residential</th>\n",
       "      <th>commercial</th>\n",
       "      <th>industrial</th>\n",
       "      <th>Demand</th>\n",
       "    </tr>\n",
       "    <tr>\n",
       "      <th>date</th>\n",
       "      <th></th>\n",
       "      <th></th>\n",
       "      <th></th>\n",
       "      <th></th>\n",
       "      <th></th>\n",
       "      <th></th>\n",
       "    </tr>\n",
       "  </thead>\n",
       "  <tbody>\n",
       "    <tr>\n",
       "      <th>2016-01-01</th>\n",
       "      <td>0</td>\n",
       "      <td>201601</td>\n",
       "      <td>515</td>\n",
       "      <td>648</td>\n",
       "      <td>158</td>\n",
       "      <td>1321</td>\n",
       "    </tr>\n",
       "    <tr>\n",
       "      <th>2016-02-01</th>\n",
       "      <td>1</td>\n",
       "      <td>201602</td>\n",
       "      <td>447</td>\n",
       "      <td>647</td>\n",
       "      <td>176</td>\n",
       "      <td>1270</td>\n",
       "    </tr>\n",
       "    <tr>\n",
       "      <th>2016-03-01</th>\n",
       "      <td>2</td>\n",
       "      <td>201603</td>\n",
       "      <td>499</td>\n",
       "      <td>738</td>\n",
       "      <td>208</td>\n",
       "      <td>1445</td>\n",
       "    </tr>\n",
       "    <tr>\n",
       "      <th>2016-04-01</th>\n",
       "      <td>3</td>\n",
       "      <td>201604</td>\n",
       "      <td>506</td>\n",
       "      <td>665</td>\n",
       "      <td>176</td>\n",
       "      <td>1346</td>\n",
       "    </tr>\n",
       "    <tr>\n",
       "      <th>2016-05-01</th>\n",
       "      <td>4</td>\n",
       "      <td>201605</td>\n",
       "      <td>556</td>\n",
       "      <td>746</td>\n",
       "      <td>202</td>\n",
       "      <td>1504</td>\n",
       "    </tr>\n",
       "  </tbody>\n",
       "</table>\n",
       "</div>"
      ],
      "text/plain": [
       "            Unnamed: 0  yearmonth  residential  commercial  industrial  Demand\n",
       "date                                                                          \n",
       "2016-01-01           0     201601          515         648         158    1321\n",
       "2016-02-01           1     201602          447         647         176    1270\n",
       "2016-03-01           2     201603          499         738         208    1445\n",
       "2016-04-01           3     201604          506         665         176    1346\n",
       "2016-05-01           4     201605          556         746         202    1504"
      ]
     },
     "execution_count": 186,
     "metadata": {},
     "output_type": "execute_result"
    }
   ],
   "source": [
    "df1=df.rename(columns={'all_sectors':'Demand'})\n",
    "df1.head()"
   ]
  },
  {
   "cell_type": "code",
   "execution_count": 187,
   "metadata": {},
   "outputs": [
    {
     "data": {
      "image/png": "[encoded data removed]",
      "text/plain": [
       "<Figure size 432x288 with 1 Axes>"
      ]
     },
     "metadata": {
      "needs_background": "light"
     },
     "output_type": "display_data"
    }
   ],
   "source": [
    "# viewing the dataset stored as df1\n",
    "df1.plot()\n",
    "plt.show()"
   ]
  },
  {
   "cell_type": "code",
   "execution_count": 188,
   "metadata": {},
   "outputs": [
    {
     "data": {
      "image/png": "[encoded data removed]",
      "text/plain": [
       "<Figure size 432x288 with 4 Axes>"
      ]
     },
     "metadata": {
      "needs_background": "light"
     },
     "output_type": "display_data"
    }
   ],
   "source": [
    "# Import seasonal decompose\n",
    "from statsmodels.tsa.seasonal import seasonal_decompose\n",
    "\n",
    "# Perform additive decomposition\n",
    "decomp = seasonal_decompose(df1['Demand'], \n",
    "                            freq=12)\n",
    "\n",
    "# Plot decomposition\n",
    "decomp.plot()\n",
    "plt.show()"
   ]
  },
  {
   "cell_type": "code",
   "execution_count": 192,
   "metadata": {},
   "outputs": [
    {
     "name": "stdout",
     "output_type": "stream",
     "text": [
      "(-3.127607488323985, 0.024576432639606044, 0, 47, {'1%': -3.5778480370438146, '5%': -2.925338105429433, '10%': -2.6007735310095064}, 507.9179789147905)\n"
     ]
    }
   ],
   "source": [
    "# ***Check for Stationarity***\n",
    "from statsmodels.tsa.stattools import adfuller\n",
    "# Run Dicky-Fuller test\n",
    "result = adfuller(df1['Demand'])\n",
    "# Print test statistic\n",
    "print(result)"
   ]
  },
  {
   "cell_type": "code",
   "execution_count": 193,
   "metadata": {},
   "outputs": [
    {
     "ename": "ValueError",
     "evalue": "x is required to have ndim 1 but has ndim 2",
     "output_type": "error",
     "traceback": [
      "\u001b[1;31m---------------------------------------------------------------------------\u001b[0m",
      "\u001b[1;31mValueError\u001b[0m                                Traceback (most recent call last)",
      "\u001b[1;32m<ipython-input-193-65b790c3334f>\u001b[0m in \u001b[0;36m<module>\u001b[1;34m\u001b[0m\n\u001b[0;32m      5\u001b[0m \u001b[1;33m\u001b[0m\u001b[0m\n\u001b[0;32m      6\u001b[0m \u001b[1;31m# Plot the ACF on ax1\u001b[0m\u001b[1;33m\u001b[0m\u001b[1;33m\u001b[0m\u001b[1;33m\u001b[0m\u001b[0m\n\u001b[1;32m----> 7\u001b[1;33m \u001b[0mplot_acf\u001b[0m\u001b[1;33m(\u001b[0m\u001b[0mdf\u001b[0m\u001b[1;33m,\u001b[0m \u001b[0mlags\u001b[0m\u001b[1;33m=\u001b[0m\u001b[1;36m15\u001b[0m\u001b[1;33m,\u001b[0m \u001b[0mzero\u001b[0m\u001b[1;33m=\u001b[0m\u001b[1;32mFalse\u001b[0m\u001b[1;33m,\u001b[0m \u001b[0max\u001b[0m\u001b[1;33m=\u001b[0m\u001b[0max1\u001b[0m\u001b[1;33m)\u001b[0m\u001b[1;33m\u001b[0m\u001b[1;33m\u001b[0m\u001b[0m\n\u001b[0m\u001b[0;32m      8\u001b[0m \u001b[1;33m\u001b[0m\u001b[0m\n\u001b[0;32m      9\u001b[0m \u001b[1;31m# Plot the PACF of on ax2\u001b[0m\u001b[1;33m\u001b[0m\u001b[1;33m\u001b[0m\u001b[1;33m\u001b[0m\u001b[0m\n",
      "\u001b[1;32m~\\anaconda3\\lib\\site-packages\\statsmodels\\graphics\\tsaplots.py\u001b[0m in \u001b[0;36mplot_acf\u001b[1;34m(x, ax, lags, alpha, use_vlines, unbiased, fft, missing, title, zero, vlines_kwargs, **kwargs)\u001b[0m\n\u001b[0;32m    150\u001b[0m     \u001b[0mconfint\u001b[0m \u001b[1;33m=\u001b[0m \u001b[1;32mNone\u001b[0m\u001b[1;33m\u001b[0m\u001b[1;33m\u001b[0m\u001b[0m\n\u001b[0;32m    151\u001b[0m     \u001b[1;31m# acf has different return type based on alpha\u001b[0m\u001b[1;33m\u001b[0m\u001b[1;33m\u001b[0m\u001b[1;33m\u001b[0m\u001b[0m\n\u001b[1;32m--> 152\u001b[1;33m     acf_x = acf(x, nlags=nlags, alpha=alpha, fft=fft, unbiased=unbiased,\n\u001b[0m\u001b[0;32m    153\u001b[0m                 missing=missing)\n\u001b[0;32m    154\u001b[0m     \u001b[1;32mif\u001b[0m \u001b[0malpha\u001b[0m \u001b[1;32mis\u001b[0m \u001b[1;32mnot\u001b[0m \u001b[1;32mNone\u001b[0m\u001b[1;33m:\u001b[0m\u001b[1;33m\u001b[0m\u001b[1;33m\u001b[0m\u001b[0m\n",
      "\u001b[1;32m~\\anaconda3\\lib\\site-packages\\statsmodels\\tsa\\stattools.py\u001b[0m in \u001b[0;36macf\u001b[1;34m(x, unbiased, nlags, qstat, fft, alpha, missing)\u001b[0m\n\u001b[0;32m    573\u001b[0m         )\n\u001b[0;32m    574\u001b[0m         \u001b[0mfft\u001b[0m \u001b[1;33m=\u001b[0m \u001b[1;32mFalse\u001b[0m\u001b[1;33m\u001b[0m\u001b[1;33m\u001b[0m\u001b[0m\n\u001b[1;32m--> 575\u001b[1;33m     \u001b[0mx\u001b[0m \u001b[1;33m=\u001b[0m \u001b[0marray_like\u001b[0m\u001b[1;33m(\u001b[0m\u001b[0mx\u001b[0m\u001b[1;33m,\u001b[0m \u001b[1;34m'x'\u001b[0m\u001b[1;33m)\u001b[0m\u001b[1;33m\u001b[0m\u001b[1;33m\u001b[0m\u001b[0m\n\u001b[0m\u001b[0;32m    576\u001b[0m     \u001b[0mnobs\u001b[0m \u001b[1;33m=\u001b[0m \u001b[0mlen\u001b[0m\u001b[1;33m(\u001b[0m\u001b[0mx\u001b[0m\u001b[1;33m)\u001b[0m  \u001b[1;31m# TODO: should this shrink for missing='drop' and NaNs in x?\u001b[0m\u001b[1;33m\u001b[0m\u001b[1;33m\u001b[0m\u001b[0m\n\u001b[0;32m    577\u001b[0m     \u001b[0mavf\u001b[0m \u001b[1;33m=\u001b[0m \u001b[0macovf\u001b[0m\u001b[1;33m(\u001b[0m\u001b[0mx\u001b[0m\u001b[1;33m,\u001b[0m \u001b[0munbiased\u001b[0m\u001b[1;33m=\u001b[0m\u001b[0munbiased\u001b[0m\u001b[1;33m,\u001b[0m \u001b[0mdemean\u001b[0m\u001b[1;33m=\u001b[0m\u001b[1;32mTrue\u001b[0m\u001b[1;33m,\u001b[0m \u001b[0mfft\u001b[0m\u001b[1;33m=\u001b[0m\u001b[0mfft\u001b[0m\u001b[1;33m,\u001b[0m \u001b[0mmissing\u001b[0m\u001b[1;33m=\u001b[0m\u001b[0mmissing\u001b[0m\u001b[1;33m)\u001b[0m\u001b[1;33m\u001b[0m\u001b[1;33m\u001b[0m\u001b[0m\n",
      "\u001b[1;32m~\\anaconda3\\lib\\site-packages\\statsmodels\\tools\\validation\\validation.py\u001b[0m in \u001b[0;36marray_like\u001b[1;34m(obj, name, dtype, ndim, maxdim, shape, order, contiguous, optional)\u001b[0m\n\u001b[0;32m    134\u001b[0m         \u001b[1;32mif\u001b[0m \u001b[0marr\u001b[0m\u001b[1;33m.\u001b[0m\u001b[0mndim\u001b[0m \u001b[1;33m!=\u001b[0m \u001b[0mndim\u001b[0m\u001b[1;33m:\u001b[0m\u001b[1;33m\u001b[0m\u001b[1;33m\u001b[0m\u001b[0m\n\u001b[0;32m    135\u001b[0m             \u001b[0mmsg\u001b[0m \u001b[1;33m=\u001b[0m \u001b[1;34m'{0} is required to have ndim {1} but has ndim {2}'\u001b[0m\u001b[1;33m\u001b[0m\u001b[1;33m\u001b[0m\u001b[0m\n\u001b[1;32m--> 136\u001b[1;33m             \u001b[1;32mraise\u001b[0m \u001b[0mValueError\u001b[0m\u001b[1;33m(\u001b[0m\u001b[0mmsg\u001b[0m\u001b[1;33m.\u001b[0m\u001b[0mformat\u001b[0m\u001b[1;33m(\u001b[0m\u001b[0mname\u001b[0m\u001b[1;33m,\u001b[0m \u001b[0mndim\u001b[0m\u001b[1;33m,\u001b[0m \u001b[0marr\u001b[0m\u001b[1;33m.\u001b[0m\u001b[0mndim\u001b[0m\u001b[1;33m)\u001b[0m\u001b[1;33m)\u001b[0m\u001b[1;33m\u001b[0m\u001b[1;33m\u001b[0m\u001b[0m\n\u001b[0m\u001b[0;32m    137\u001b[0m     \u001b[1;32mif\u001b[0m \u001b[0mshape\u001b[0m \u001b[1;32mis\u001b[0m \u001b[1;32mnot\u001b[0m \u001b[1;32mNone\u001b[0m\u001b[1;33m:\u001b[0m\u001b[1;33m\u001b[0m\u001b[1;33m\u001b[0m\u001b[0m\n\u001b[0;32m    138\u001b[0m         \u001b[1;32mfor\u001b[0m \u001b[0mactual\u001b[0m\u001b[1;33m,\u001b[0m \u001b[0mreq\u001b[0m \u001b[1;32min\u001b[0m \u001b[0mzip\u001b[0m\u001b[1;33m(\u001b[0m\u001b[0marr\u001b[0m\u001b[1;33m.\u001b[0m\u001b[0mshape\u001b[0m\u001b[1;33m,\u001b[0m \u001b[0mshape\u001b[0m\u001b[1;33m)\u001b[0m\u001b[1;33m:\u001b[0m\u001b[1;33m\u001b[0m\u001b[1;33m\u001b[0m\u001b[0m\n",
      "\u001b[1;31mValueError\u001b[0m: x is required to have ndim 1 but has ndim 2"
     ]
    },
    {
     "data": {
      "image/png": "[encoded data removed]",
      "text/plain": [
       "<Figure size 864x576 with 2 Axes>"
      ]
     },
     "metadata": {
      "needs_background": "light"
     },
     "output_type": "display_data"
    }
   ],
   "source": [
    "# Import ACF and PCF functions\n",
    "from statsmodels.graphics.tsaplots import plot_acf, plot_pacf\n",
    "# Create figure\n",
    "fig, (ax1, ax2) = plt.subplots(2,1, figsize=(12,8))\n",
    " \n",
    "# Plot the ACF on ax1\n",
    "plot_acf(df1, lags=15, zero=False, ax=ax1)\n",
    "\n",
    "# Plot the PACF of on ax2\n",
    "plot_pacf(df1, lags=15, zero=False, ax=ax2)\n",
    "\n",
    "plt.show()"
   ]
  },
  {
   "cell_type": "code",
   "execution_count": 184,
   "metadata": {},
   "outputs": [
    {
     "ename": "ValueError",
     "evalue": "SARIMAX models require univariate `endog`. Got shape (48, 6).",
     "output_type": "error",
     "traceback": [
      "\u001b[1;31m---------------------------------------------------------------------------\u001b[0m",
      "\u001b[1;31mValueError\u001b[0m                                Traceback (most recent call last)",
      "\u001b[1;32m<ipython-input-184-c3e38bcc9464>\u001b[0m in \u001b[0;36m<module>\u001b[1;34m\u001b[0m\n\u001b[0;32m      2\u001b[0m \u001b[1;31m#Import the SARIMAX model\u001b[0m\u001b[1;33m\u001b[0m\u001b[1;33m\u001b[0m\u001b[1;33m\u001b[0m\u001b[0m\n\u001b[0;32m      3\u001b[0m \u001b[1;32mfrom\u001b[0m \u001b[0mstatsmodels\u001b[0m\u001b[1;33m.\u001b[0m\u001b[0mtsa\u001b[0m\u001b[1;33m.\u001b[0m\u001b[0mstatespace\u001b[0m\u001b[1;33m.\u001b[0m\u001b[0msarimax\u001b[0m \u001b[1;32mimport\u001b[0m \u001b[0mSARIMAX\u001b[0m\u001b[1;33m\u001b[0m\u001b[1;33m\u001b[0m\u001b[0m\n\u001b[1;32m----> 4\u001b[1;33m \u001b[0mmodel\u001b[0m \u001b[1;33m=\u001b[0m \u001b[0mSARIMAX\u001b[0m\u001b[1;33m(\u001b[0m\u001b[0mdf1\u001b[0m\u001b[1;33m,\u001b[0m \u001b[0morder\u001b[0m\u001b[1;33m=\u001b[0m\u001b[1;33m(\u001b[0m\u001b[1;36m2\u001b[0m\u001b[1;33m,\u001b[0m\u001b[1;36m1\u001b[0m\u001b[1;33m,\u001b[0m\u001b[1;36m2\u001b[0m\u001b[1;33m)\u001b[0m\u001b[1;33m)\u001b[0m\u001b[1;33m\u001b[0m\u001b[1;33m\u001b[0m\u001b[0m\n\u001b[0m\u001b[0;32m      5\u001b[0m \u001b[0mresults\u001b[0m \u001b[1;33m=\u001b[0m \u001b[0mmodel\u001b[0m\u001b[1;33m.\u001b[0m\u001b[0mfit\u001b[0m\u001b[1;33m(\u001b[0m\u001b[1;33m)\u001b[0m\u001b[1;33m\u001b[0m\u001b[1;33m\u001b[0m\u001b[0m\n\u001b[0;32m      6\u001b[0m \u001b[1;31m#Print fit summary\u001b[0m\u001b[1;33m\u001b[0m\u001b[1;33m\u001b[0m\u001b[1;33m\u001b[0m\u001b[0m\n",
      "\u001b[1;32m~\\anaconda3\\lib\\site-packages\\statsmodels\\tsa\\statespace\\sarimax.py\u001b[0m in \u001b[0;36m__init__\u001b[1;34m(self, endog, exog, order, seasonal_order, trend, measurement_error, time_varying_regression, mle_regression, simple_differencing, enforce_stationarity, enforce_invertibility, hamilton_representation, concentrate_scale, trend_offset, use_exact_diffuse, dates, freq, missing, **kwargs)\u001b[0m\n\u001b[0;32m    326\u001b[0m                  freq=None, missing='none', **kwargs):\n\u001b[0;32m    327\u001b[0m \u001b[1;33m\u001b[0m\u001b[0m\n\u001b[1;32m--> 328\u001b[1;33m         self._spec = SARIMAXSpecification(\n\u001b[0m\u001b[0;32m    329\u001b[0m             \u001b[0mendog\u001b[0m\u001b[1;33m,\u001b[0m \u001b[0mexog\u001b[0m\u001b[1;33m=\u001b[0m\u001b[0mexog\u001b[0m\u001b[1;33m,\u001b[0m \u001b[0morder\u001b[0m\u001b[1;33m=\u001b[0m\u001b[0morder\u001b[0m\u001b[1;33m,\u001b[0m \u001b[0mseasonal_order\u001b[0m\u001b[1;33m=\u001b[0m\u001b[0mseasonal_order\u001b[0m\u001b[1;33m,\u001b[0m\u001b[1;33m\u001b[0m\u001b[1;33m\u001b[0m\u001b[0m\n\u001b[0;32m    330\u001b[0m             \u001b[0mtrend\u001b[0m\u001b[1;33m=\u001b[0m\u001b[0mtrend\u001b[0m\u001b[1;33m,\u001b[0m \u001b[0menforce_stationarity\u001b[0m\u001b[1;33m=\u001b[0m\u001b[1;32mNone\u001b[0m\u001b[1;33m,\u001b[0m \u001b[0menforce_invertibility\u001b[0m\u001b[1;33m=\u001b[0m\u001b[1;32mNone\u001b[0m\u001b[1;33m,\u001b[0m\u001b[1;33m\u001b[0m\u001b[1;33m\u001b[0m\u001b[0m\n",
      "\u001b[1;32m~\\anaconda3\\lib\\site-packages\\statsmodels\\tsa\\arima\\specification.py\u001b[0m in \u001b[0;36m__init__\u001b[1;34m(self, endog, exog, order, seasonal_order, ar_order, diff, ma_order, seasonal_ar_order, seasonal_diff, seasonal_ma_order, seasonal_periods, trend, enforce_stationarity, enforce_invertibility, concentrate_scale, trend_offset, dates, freq, missing)\u001b[0m\n\u001b[0;32m    425\u001b[0m         \u001b[1;31m# Validate endog shape\u001b[0m\u001b[1;33m\u001b[0m\u001b[1;33m\u001b[0m\u001b[1;33m\u001b[0m\u001b[0m\n\u001b[0;32m    426\u001b[0m         \u001b[1;32mif\u001b[0m \u001b[1;32mnot\u001b[0m \u001b[0mfaux_endog\u001b[0m \u001b[1;32mand\u001b[0m \u001b[0mself\u001b[0m\u001b[1;33m.\u001b[0m\u001b[0mendog\u001b[0m\u001b[1;33m.\u001b[0m\u001b[0mndim\u001b[0m \u001b[1;33m>\u001b[0m \u001b[1;36m1\u001b[0m \u001b[1;32mand\u001b[0m \u001b[0mself\u001b[0m\u001b[1;33m.\u001b[0m\u001b[0mendog\u001b[0m\u001b[1;33m.\u001b[0m\u001b[0mshape\u001b[0m\u001b[1;33m[\u001b[0m\u001b[1;36m1\u001b[0m\u001b[1;33m]\u001b[0m \u001b[1;33m>\u001b[0m \u001b[1;36m1\u001b[0m\u001b[1;33m:\u001b[0m\u001b[1;33m\u001b[0m\u001b[1;33m\u001b[0m\u001b[0m\n\u001b[1;32m--> 427\u001b[1;33m             raise ValueError('SARIMAX models require univariate `endog`. Got'\n\u001b[0m\u001b[0;32m    428\u001b[0m                              ' shape %s.' % str(self.endog.shape))\n\u001b[0;32m    429\u001b[0m \u001b[1;33m\u001b[0m\u001b[0m\n",
      "\u001b[1;31mValueError\u001b[0m: SARIMAX models require univariate `endog`. Got shape (48, 6)."
     ]
    }
   ],
   "source": [
    "#Generating One Step Ahead Predictions in sample using values p= 1 and q=1\n",
    "#Import the SARIMAX model\n",
    "from statsmodels.tsa.statespace.sarimax import SARIMAX\n",
    "model = SARIMAX(df1, order=(2,1,2))\n",
    "results = model.fit()\n",
    "#Print fit summary\n",
    "print(results.summary())"
   ]
  },
  {
   "cell_type": "code",
   "execution_count": 39,
   "metadata": {},
   "outputs": [
    {
     "ename": "NameError",
     "evalue": "name 'results' is not defined",
     "output_type": "error",
     "traceback": [
      "\u001b[1;31m---------------------------------------------------------------------------\u001b[0m",
      "\u001b[1;31mNameError\u001b[0m                                 Traceback (most recent call last)",
      "\u001b[1;32m<ipython-input-39-223524111ed1>\u001b[0m in \u001b[0;36m<module>\u001b[1;34m\u001b[0m\n\u001b[0;32m      1\u001b[0m \u001b[1;31m# Generate predictions for the last 12 periods in sample\u001b[0m\u001b[1;33m\u001b[0m\u001b[1;33m\u001b[0m\u001b[1;33m\u001b[0m\u001b[0m\n\u001b[1;32m----> 2\u001b[1;33m \u001b[0mone_step_forecast\u001b[0m \u001b[1;33m=\u001b[0m \u001b[0mresults\u001b[0m\u001b[1;33m.\u001b[0m\u001b[0mget_prediction\u001b[0m\u001b[1;33m(\u001b[0m\u001b[0mstart\u001b[0m\u001b[1;33m=\u001b[0m\u001b[1;33m-\u001b[0m\u001b[1;36m12\u001b[0m\u001b[1;33m)\u001b[0m\u001b[1;33m\u001b[0m\u001b[1;33m\u001b[0m\u001b[0m\n\u001b[0m\u001b[0;32m      3\u001b[0m \u001b[1;33m\u001b[0m\u001b[0m\n\u001b[0;32m      4\u001b[0m \u001b[1;31m# Extract prediction mean\u001b[0m\u001b[1;33m\u001b[0m\u001b[1;33m\u001b[0m\u001b[1;33m\u001b[0m\u001b[0m\n\u001b[0;32m      5\u001b[0m \u001b[0mmean_forecast\u001b[0m \u001b[1;33m=\u001b[0m \u001b[0mone_step_forecast\u001b[0m\u001b[1;33m.\u001b[0m\u001b[0mpredicted_mean\u001b[0m\u001b[1;33m\u001b[0m\u001b[1;33m\u001b[0m\u001b[0m\n",
      "\u001b[1;31mNameError\u001b[0m: name 'results' is not defined"
     ]
    }
   ],
   "source": [
    "# Generate predictions for the last 12 periods in sample\n",
    "one_step_forecast = results.get_prediction(start=-12)\n",
    "\n",
    "# Extract prediction mean\n",
    "mean_forecast = one_step_forecast.predicted_mean\n",
    "\n",
    "# Get confidence intervals of predictions\n",
    "confidence_intervals = one_step_forecast.conf_int()\n",
    "\n",
    "confidence_intervals\n",
    "# Select lower and upper confidence limits\n",
    "lower_limits = confidence_intervals.loc[:,'lower Demand']\n",
    "upper_limits = confidence_intervals.loc[:,'upper Demand']\n",
    "\n",
    "# Print best estimate predictions\n",
    "print(mean_forecast)"
   ]
  },
  {
   "cell_type": "code",
   "execution_count": 40,
   "metadata": {},
   "outputs": [
    {
     "ename": "NameError",
     "evalue": "name 'mean_forecast' is not defined",
     "output_type": "error",
     "traceback": [
      "\u001b[1;31m---------------------------------------------------------------------------\u001b[0m",
      "\u001b[1;31mNameError\u001b[0m                                 Traceback (most recent call last)",
      "\u001b[1;32m<ipython-input-40-87e94cab412f>\u001b[0m in \u001b[0;36m<module>\u001b[1;34m\u001b[0m\n\u001b[0;32m      3\u001b[0m \u001b[1;33m\u001b[0m\u001b[0m\n\u001b[0;32m      4\u001b[0m \u001b[1;31m# plot your mean predictions\u001b[0m\u001b[1;33m\u001b[0m\u001b[1;33m\u001b[0m\u001b[1;33m\u001b[0m\u001b[0m\n\u001b[1;32m----> 5\u001b[1;33m \u001b[0mplt\u001b[0m\u001b[1;33m.\u001b[0m\u001b[0mplot\u001b[0m\u001b[1;33m(\u001b[0m\u001b[0mmean_forecast\u001b[0m\u001b[1;33m.\u001b[0m\u001b[0mindex\u001b[0m\u001b[1;33m,\u001b[0m \u001b[0mmean_forecast\u001b[0m\u001b[1;33m,\u001b[0m \u001b[0mcolor\u001b[0m\u001b[1;33m=\u001b[0m\u001b[1;34m'r'\u001b[0m\u001b[1;33m,\u001b[0m \u001b[0mlabel\u001b[0m\u001b[1;33m=\u001b[0m\u001b[1;34m'forecast'\u001b[0m\u001b[1;33m)\u001b[0m\u001b[1;33m\u001b[0m\u001b[1;33m\u001b[0m\u001b[0m\n\u001b[0m\u001b[0;32m      6\u001b[0m \u001b[1;33m\u001b[0m\u001b[0m\n\u001b[0;32m      7\u001b[0m \u001b[1;31m# shade the area between your confidence limits\u001b[0m\u001b[1;33m\u001b[0m\u001b[1;33m\u001b[0m\u001b[1;33m\u001b[0m\u001b[0m\n",
      "\u001b[1;31mNameError\u001b[0m: name 'mean_forecast' is not defined"
     ]
    },
    {
     "data": {
      "image/png": "[encoded data removed]",
      "text/plain": [
       "<Figure size 432x288 with 1 Axes>"
      ]
     },
     "metadata": {
      "needs_background": "light"
     },
     "output_type": "display_data"
    }
   ],
   "source": [
    "# plot the  data\n",
    "plt.plot(df1.index, df1, label='observed')\n",
    "\n",
    "# plot your mean predictions\n",
    "plt.plot(mean_forecast.index, mean_forecast, color='r', label='forecast')\n",
    "\n",
    "# shade the area between your confidence limits\n",
    "plt.fill_between(lower_limits.index, lower_limits, \n",
    "               upper_limits, color='pink')\n",
    "\n",
    "# set labels, legends and show plot\n",
    "plt.xlabel('Date')\n",
    "plt.ylabel('Demand')\n",
    "plt.legend()\n",
    "plt.show()"
   ]
  },
  {
   "cell_type": "code",
   "execution_count": null,
   "metadata": {},
   "outputs": [],
   "source": [
    "# ***Dynamic Predictions***\n",
    "# Generate predictions\n",
    "one_step_forecast = results.get_prediction(start=-12, dynamic = True)\n",
    "\n",
    "# Extract prediction mean\n",
    "mean_forecast = one_step_forecast.predicted_mean\n",
    "\n",
    "# Get confidence intervals of predictions\n",
    "confidence_intervals = one_step_forecast.conf_int()\n",
    "\n",
    "confidence_intervals\n",
    "# Select lower and upper confidence limits\n",
    "lower_limits = confidence_intervals.loc[:,'lower Demand']\n",
    "upper_limits = confidence_intervals.loc[:,'upper Demand']\n",
    "\n",
    "# Print best estimate predictions\n",
    "print(mean_forecast)"
   ]
  },
  {
   "cell_type": "code",
   "execution_count": null,
   "metadata": {},
   "outputs": [],
   "source": [
    "# plot the  data\n",
    "plt.plot(df1.index, df1, label='observed')\n",
    "\n",
    "# plot your mean predictions\n",
    "plt.plot(mean_forecast.index, mean_forecast, color='r', label='forecast')\n",
    "\n",
    "# shade the area between your confidence limits\n",
    "plt.fill_between(lower_limits.index, lower_limits, \n",
    "               upper_limits, color='pink')\n",
    "\n",
    "# set labels, legends and show plot\n",
    "plt.xlabel('Date')\n",
    "plt.ylabel('Demand')\n",
    "plt.legend()\n",
    "plt.show()"
   ]
  },
  {
   "cell_type": "code",
   "execution_count": null,
   "metadata": {},
   "outputs": [],
   "source": [
    "# ***Out of the Sample Predictions***\n",
    "forecast = results.get_forecast(steps =10)\n",
    "mean_forecast= forecast.predicted_mean\n",
    "confidence_intervals= forecast.conf_int()\n",
    "confidence_intervals\n",
    "# Select lower and upper confidence limits\n",
    "lower_limits = confidence_intervals.loc[:,'lower Demand']\n",
    "upper_limits = confidence_intervals.loc[:,'upper Demand']\n",
    "\n",
    "# Print best estimate predictions\n",
    "print(mean_forecast)\n"
   ]
  },
  {
   "cell_type": "code",
   "execution_count": null,
   "metadata": {},
   "outputs": [],
   "source": [
    "# plot the  data\n",
    "plt.plot(df1.index, df1, label='observed')\n",
    "\n",
    "# plot your mean predictions\n",
    "plt.plot(mean_forecast.index, mean_forecast, color='r', label='forecast')\n",
    "\n",
    "# shade the area between your confidence limits\n",
    "plt.fill_between(lower_limits.index, lower_limits, \n",
    "               upper_limits, color='pink')\n",
    "\n",
    "# set labels, legends and show plot\n",
    "plt.xlabel('Date')\n",
    "plt.ylabel('Demand')\n",
    "plt.legend()\n",
    "plt.show()"
   ]
  },
  {
   "cell_type": "code",
   "execution_count": null,
   "metadata": {},
   "outputs": [],
   "source": [
    "# ***Grid search method to calculate the parameter p and q***\n",
    "# Create empty list to store search results\n",
    "order_aic_bic=[]\n",
    "# Loop over p values from 0-2\n",
    "for p in range(3):\n",
    "# Loop over q values from 0-2\n",
    "    for q in range(3):\n",
    "        try:\n",
    "            # Create and fit ARIMA(p,d,q) model\n",
    "            model = SARIMAX(df1, order=(p,0,q), trend='c')\n",
    "            results = model.fit()\n",
    "            # Append order and results tuple\n",
    "            order_aic_bic.append((p,q,results.aic, results.bic))\n",
    "        except:\n",
    "            print(p, q, None, None)\n"
   ]
  },
  {
   "cell_type": "code",
   "execution_count": null,
   "metadata": {},
   "outputs": [],
   "source": [
    "# Construct DataFrame from order_aic_bic\n",
    "order_df1 = pd.DataFrame(order_aic_bic, \n",
    "                        columns=['p', 'q', 'AIC', 'BIC'])\n",
    "\n",
    "# Print order_df1 in order of increasing AIC\n",
    "print(order_df1.sort_values('AIC'))\n",
    "\n",
    "# Print order_df in order of increasing BIC\n",
    "print(order_df1.sort_values('BIC'))"
   ]
  },
  {
   "cell_type": "code",
   "execution_count": null,
   "metadata": {},
   "outputs": [],
   "source": [
    "# ***Based on the results p=1 and q=1 and d=2*** \n",
    "# Instantiate the model\n",
    "arma = SARIMAX(df1, order=(1,1,2))\n",
    "results = arma.fit()\n",
    "print(results.summary())\n"
   ]
  },
  {
   "cell_type": "code",
   "execution_count": null,
   "metadata": {},
   "outputs": [],
   "source": [
    "# Create the 4 diagostics plots\n",
    "results.plot_diagnostics()\n",
    "plt.show()"
   ]
  },
  {
   "cell_type": "code",
   "execution_count": null,
   "metadata": {},
   "outputs": [],
   "source": [
    "# ***Generate one step forecast***\n",
    "# Generate predictions\n",
    "one_step_forecast = results.get_prediction(start=-10)\n",
    "\n",
    "# Extract prediction mean\n",
    "mean_forecast = one_step_forecast.predicted_mean\n",
    "\n",
    "# Get confidence intervals of predictions\n",
    "confidence_intervals = one_step_forecast.conf_int()\n",
    "\n",
    "confidence_intervals\n",
    "# Select lower and upper confidence limits\n",
    "lower_limits = confidence_intervals.loc[:,'lower Demand']\n",
    "upper_limits = confidence_intervals.loc[:,'upper Demand']\n",
    "\n",
    "# Print best estimate predictions\n",
    "print(mean_forecast)"
   ]
  },
  {
   "cell_type": "code",
   "execution_count": null,
   "metadata": {},
   "outputs": [],
   "source": [
    "# plot the  data\n",
    "plt.plot(df1.index, df1, label='observed')\n",
    "\n",
    "# plot your mean predictions\n",
    "plt.plot(mean_forecast.index, mean_forecast, color='r', label='forecast')\n",
    "\n",
    "# shade the area between your confidence limits\n",
    "plt.fill_between(lower_limits.index, lower_limits, \n",
    "               upper_limits, color='pink')\n",
    "\n",
    "# set labels, legends and show plot\n",
    "plt.xlabel('Date')\n",
    "plt.ylabel('Demand')\n",
    "plt.legend()\n",
    "plt.show()"
   ]
  },
  {
   "cell_type": "code",
   "execution_count": null,
   "metadata": {},
   "outputs": [],
   "source": [
    "# ***Generate Dynamic Predictions***\n",
    "# Generate predictions\n",
    "one_step_forecast = results.get_prediction(start=-10, dynamic = True)\n",
    "\n",
    "# Extract prediction mean\n",
    "mean_forecast = one_step_forecast.predicted_mean\n",
    "\n",
    "# Get confidence intervals of predictions\n",
    "confidence_intervals = one_step_forecast.conf_int()\n",
    "\n",
    "confidence_intervals\n",
    "# Select lower and upper confidence limits\n",
    "lower_limits = confidence_intervals.loc[:,'lower Temperature']\n",
    "upper_limits = confidence_intervals.loc[:,'upper Temperature']\n",
    "\n",
    "# Print best estimate predictions\n",
    "print(mean_forecast)"
   ]
  },
  {
   "cell_type": "code",
   "execution_count": null,
   "metadata": {},
   "outputs": [],
   "source": []
  }
 ],
 "metadata": {
  "kernelspec": {
   "display_name": "Python 3",
   "language": "python",
   "name": "python3"
  },
  "language_info": {
   "codemirror_mode": {
    "name": "ipython",
    "version": 3
   },
   "file_extension": ".py",
   "mimetype": "text/x-python",
   "name": "python",
   "nbconvert_exporter": "python",
   "pygments_lexer": "ipython3",
   "version": "3.7.6"
  }
 },
 "nbformat": 4,
 "nbformat_minor": 4
}
