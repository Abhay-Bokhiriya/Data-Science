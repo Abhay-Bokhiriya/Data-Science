{
 "cells": [
  {
   "cell_type": "markdown",
   "metadata": {},
   "source": [
    "Note: This is a draft report for our analysis therefore we have not illustrated our work and headings with detailed descriptions. This draft report would serve as a lessons learned register for our final project report. "
   ]
  },
  {
   "cell_type": "code",
   "execution_count": 1,
   "metadata": {},
   "outputs": [
    {
     "name": "stderr",
     "output_type": "stream",
     "text": [
      "Using TensorFlow backend.\n"
     ]
    }
   ],
   "source": [
    "# Draft Package for loading\n",
    "import numpy as np # a library for handling large multi-dimensional array and matrices. \n",
    "import pandas as pd # For data manipulation and analysis.\n",
    "import plotly.figure_factory as ff \n",
    "import matplotlib.pyplot as plt # Plotting library for python programming language.\n",
    "import seaborn as sns # Visualize our random distributions.\n",
    "from sklearn.linear_model import LogisticRegression # For running logistic regression model.\n",
    "from sklearn.model_selection import train_test_split # Splitting dataset into training and testing sets. \n",
    "from keras.layers import Activation, Dropout, Flatten, Dense, Conv2D, MaxPooling2D\n"
   ]
  },
  {
   "cell_type": "code",
   "execution_count": 414,
   "metadata": {},
   "outputs": [],
   "source": [
    "# Loading our datasets.\n",
    "df = pd.read_csv(\"heart.csv\") # We are reading our data."
   ]
  },
  {
   "cell_type": "code",
   "execution_count": 415,
   "metadata": {},
   "outputs": [
    {
     "data": {
      "text/html": [
       "<div>\n",
       "<style scoped>\n",
       "    .dataframe tbody tr th:only-of-type {\n",
       "        vertical-align: middle;\n",
       "    }\n",
       "\n",
       "    .dataframe tbody tr th {\n",
       "        vertical-align: top;\n",
       "    }\n",
       "\n",
       "    .dataframe thead th {\n",
       "        text-align: right;\n",
       "    }\n",
       "</style>\n",
       "<table border=\"1\" class=\"dataframe\">\n",
       "  <thead>\n",
       "    <tr style=\"text-align: right;\">\n",
       "      <th></th>\n",
       "      <th>0</th>\n",
       "      <th>1</th>\n",
       "      <th>2</th>\n",
       "      <th>3</th>\n",
       "      <th>4</th>\n",
       "      <th>5</th>\n",
       "      <th>6</th>\n",
       "      <th>7</th>\n",
       "      <th>8</th>\n",
       "      <th>9</th>\n",
       "      <th>...</th>\n",
       "      <th>293</th>\n",
       "      <th>294</th>\n",
       "      <th>295</th>\n",
       "      <th>296</th>\n",
       "      <th>297</th>\n",
       "      <th>298</th>\n",
       "      <th>299</th>\n",
       "      <th>300</th>\n",
       "      <th>301</th>\n",
       "      <th>302</th>\n",
       "    </tr>\n",
       "  </thead>\n",
       "  <tbody>\n",
       "    <tr>\n",
       "      <th>age</th>\n",
       "      <td>63.0</td>\n",
       "      <td>37.0</td>\n",
       "      <td>41.0</td>\n",
       "      <td>56.0</td>\n",
       "      <td>57.0</td>\n",
       "      <td>57.0</td>\n",
       "      <td>56.0</td>\n",
       "      <td>44.0</td>\n",
       "      <td>52.0</td>\n",
       "      <td>57.0</td>\n",
       "      <td>...</td>\n",
       "      <td>67.0</td>\n",
       "      <td>44.0</td>\n",
       "      <td>63.0</td>\n",
       "      <td>63.0</td>\n",
       "      <td>59.0</td>\n",
       "      <td>57.0</td>\n",
       "      <td>45.0</td>\n",
       "      <td>68.0</td>\n",
       "      <td>57.0</td>\n",
       "      <td>57.0</td>\n",
       "    </tr>\n",
       "    <tr>\n",
       "      <th>sex</th>\n",
       "      <td>1.0</td>\n",
       "      <td>1.0</td>\n",
       "      <td>0.0</td>\n",
       "      <td>1.0</td>\n",
       "      <td>0.0</td>\n",
       "      <td>1.0</td>\n",
       "      <td>0.0</td>\n",
       "      <td>1.0</td>\n",
       "      <td>1.0</td>\n",
       "      <td>1.0</td>\n",
       "      <td>...</td>\n",
       "      <td>1.0</td>\n",
       "      <td>1.0</td>\n",
       "      <td>1.0</td>\n",
       "      <td>0.0</td>\n",
       "      <td>1.0</td>\n",
       "      <td>0.0</td>\n",
       "      <td>1.0</td>\n",
       "      <td>1.0</td>\n",
       "      <td>1.0</td>\n",
       "      <td>0.0</td>\n",
       "    </tr>\n",
       "    <tr>\n",
       "      <th>cp</th>\n",
       "      <td>3.0</td>\n",
       "      <td>2.0</td>\n",
       "      <td>1.0</td>\n",
       "      <td>1.0</td>\n",
       "      <td>0.0</td>\n",
       "      <td>0.0</td>\n",
       "      <td>1.0</td>\n",
       "      <td>1.0</td>\n",
       "      <td>2.0</td>\n",
       "      <td>2.0</td>\n",
       "      <td>...</td>\n",
       "      <td>2.0</td>\n",
       "      <td>0.0</td>\n",
       "      <td>0.0</td>\n",
       "      <td>0.0</td>\n",
       "      <td>0.0</td>\n",
       "      <td>0.0</td>\n",
       "      <td>3.0</td>\n",
       "      <td>0.0</td>\n",
       "      <td>0.0</td>\n",
       "      <td>1.0</td>\n",
       "    </tr>\n",
       "    <tr>\n",
       "      <th>trestbps</th>\n",
       "      <td>145.0</td>\n",
       "      <td>130.0</td>\n",
       "      <td>130.0</td>\n",
       "      <td>120.0</td>\n",
       "      <td>120.0</td>\n",
       "      <td>140.0</td>\n",
       "      <td>140.0</td>\n",
       "      <td>120.0</td>\n",
       "      <td>172.0</td>\n",
       "      <td>150.0</td>\n",
       "      <td>...</td>\n",
       "      <td>152.0</td>\n",
       "      <td>120.0</td>\n",
       "      <td>140.0</td>\n",
       "      <td>124.0</td>\n",
       "      <td>164.0</td>\n",
       "      <td>140.0</td>\n",
       "      <td>110.0</td>\n",
       "      <td>144.0</td>\n",
       "      <td>130.0</td>\n",
       "      <td>130.0</td>\n",
       "    </tr>\n",
       "    <tr>\n",
       "      <th>chol</th>\n",
       "      <td>233.0</td>\n",
       "      <td>250.0</td>\n",
       "      <td>204.0</td>\n",
       "      <td>236.0</td>\n",
       "      <td>354.0</td>\n",
       "      <td>192.0</td>\n",
       "      <td>294.0</td>\n",
       "      <td>263.0</td>\n",
       "      <td>199.0</td>\n",
       "      <td>168.0</td>\n",
       "      <td>...</td>\n",
       "      <td>212.0</td>\n",
       "      <td>169.0</td>\n",
       "      <td>187.0</td>\n",
       "      <td>197.0</td>\n",
       "      <td>176.0</td>\n",
       "      <td>241.0</td>\n",
       "      <td>264.0</td>\n",
       "      <td>193.0</td>\n",
       "      <td>131.0</td>\n",
       "      <td>236.0</td>\n",
       "    </tr>\n",
       "    <tr>\n",
       "      <th>fbs</th>\n",
       "      <td>1.0</td>\n",
       "      <td>0.0</td>\n",
       "      <td>0.0</td>\n",
       "      <td>0.0</td>\n",
       "      <td>0.0</td>\n",
       "      <td>0.0</td>\n",
       "      <td>0.0</td>\n",
       "      <td>0.0</td>\n",
       "      <td>1.0</td>\n",
       "      <td>0.0</td>\n",
       "      <td>...</td>\n",
       "      <td>0.0</td>\n",
       "      <td>0.0</td>\n",
       "      <td>0.0</td>\n",
       "      <td>0.0</td>\n",
       "      <td>1.0</td>\n",
       "      <td>0.0</td>\n",
       "      <td>0.0</td>\n",
       "      <td>1.0</td>\n",
       "      <td>0.0</td>\n",
       "      <td>0.0</td>\n",
       "    </tr>\n",
       "    <tr>\n",
       "      <th>restecg</th>\n",
       "      <td>0.0</td>\n",
       "      <td>1.0</td>\n",
       "      <td>0.0</td>\n",
       "      <td>1.0</td>\n",
       "      <td>1.0</td>\n",
       "      <td>1.0</td>\n",
       "      <td>0.0</td>\n",
       "      <td>1.0</td>\n",
       "      <td>1.0</td>\n",
       "      <td>1.0</td>\n",
       "      <td>...</td>\n",
       "      <td>0.0</td>\n",
       "      <td>1.0</td>\n",
       "      <td>0.0</td>\n",
       "      <td>1.0</td>\n",
       "      <td>0.0</td>\n",
       "      <td>1.0</td>\n",
       "      <td>1.0</td>\n",
       "      <td>1.0</td>\n",
       "      <td>1.0</td>\n",
       "      <td>0.0</td>\n",
       "    </tr>\n",
       "    <tr>\n",
       "      <th>thalach</th>\n",
       "      <td>150.0</td>\n",
       "      <td>187.0</td>\n",
       "      <td>172.0</td>\n",
       "      <td>178.0</td>\n",
       "      <td>163.0</td>\n",
       "      <td>148.0</td>\n",
       "      <td>153.0</td>\n",
       "      <td>173.0</td>\n",
       "      <td>162.0</td>\n",
       "      <td>174.0</td>\n",
       "      <td>...</td>\n",
       "      <td>150.0</td>\n",
       "      <td>144.0</td>\n",
       "      <td>144.0</td>\n",
       "      <td>136.0</td>\n",
       "      <td>90.0</td>\n",
       "      <td>123.0</td>\n",
       "      <td>132.0</td>\n",
       "      <td>141.0</td>\n",
       "      <td>115.0</td>\n",
       "      <td>174.0</td>\n",
       "    </tr>\n",
       "    <tr>\n",
       "      <th>exang</th>\n",
       "      <td>0.0</td>\n",
       "      <td>0.0</td>\n",
       "      <td>0.0</td>\n",
       "      <td>0.0</td>\n",
       "      <td>1.0</td>\n",
       "      <td>0.0</td>\n",
       "      <td>0.0</td>\n",
       "      <td>0.0</td>\n",
       "      <td>0.0</td>\n",
       "      <td>0.0</td>\n",
       "      <td>...</td>\n",
       "      <td>0.0</td>\n",
       "      <td>1.0</td>\n",
       "      <td>1.0</td>\n",
       "      <td>1.0</td>\n",
       "      <td>0.0</td>\n",
       "      <td>1.0</td>\n",
       "      <td>0.0</td>\n",
       "      <td>0.0</td>\n",
       "      <td>1.0</td>\n",
       "      <td>0.0</td>\n",
       "    </tr>\n",
       "    <tr>\n",
       "      <th>oldpeak</th>\n",
       "      <td>2.3</td>\n",
       "      <td>3.5</td>\n",
       "      <td>1.4</td>\n",
       "      <td>0.8</td>\n",
       "      <td>0.6</td>\n",
       "      <td>0.4</td>\n",
       "      <td>1.3</td>\n",
       "      <td>0.0</td>\n",
       "      <td>0.5</td>\n",
       "      <td>1.6</td>\n",
       "      <td>...</td>\n",
       "      <td>0.8</td>\n",
       "      <td>2.8</td>\n",
       "      <td>4.0</td>\n",
       "      <td>0.0</td>\n",
       "      <td>1.0</td>\n",
       "      <td>0.2</td>\n",
       "      <td>1.2</td>\n",
       "      <td>3.4</td>\n",
       "      <td>1.2</td>\n",
       "      <td>0.0</td>\n",
       "    </tr>\n",
       "    <tr>\n",
       "      <th>slope</th>\n",
       "      <td>0.0</td>\n",
       "      <td>0.0</td>\n",
       "      <td>2.0</td>\n",
       "      <td>2.0</td>\n",
       "      <td>2.0</td>\n",
       "      <td>1.0</td>\n",
       "      <td>1.0</td>\n",
       "      <td>2.0</td>\n",
       "      <td>2.0</td>\n",
       "      <td>2.0</td>\n",
       "      <td>...</td>\n",
       "      <td>1.0</td>\n",
       "      <td>0.0</td>\n",
       "      <td>2.0</td>\n",
       "      <td>1.0</td>\n",
       "      <td>1.0</td>\n",
       "      <td>1.0</td>\n",
       "      <td>1.0</td>\n",
       "      <td>1.0</td>\n",
       "      <td>1.0</td>\n",
       "      <td>1.0</td>\n",
       "    </tr>\n",
       "    <tr>\n",
       "      <th>ca</th>\n",
       "      <td>0.0</td>\n",
       "      <td>0.0</td>\n",
       "      <td>0.0</td>\n",
       "      <td>0.0</td>\n",
       "      <td>0.0</td>\n",
       "      <td>0.0</td>\n",
       "      <td>0.0</td>\n",
       "      <td>0.0</td>\n",
       "      <td>0.0</td>\n",
       "      <td>0.0</td>\n",
       "      <td>...</td>\n",
       "      <td>0.0</td>\n",
       "      <td>0.0</td>\n",
       "      <td>2.0</td>\n",
       "      <td>0.0</td>\n",
       "      <td>2.0</td>\n",
       "      <td>0.0</td>\n",
       "      <td>0.0</td>\n",
       "      <td>2.0</td>\n",
       "      <td>1.0</td>\n",
       "      <td>1.0</td>\n",
       "    </tr>\n",
       "    <tr>\n",
       "      <th>thal</th>\n",
       "      <td>1.0</td>\n",
       "      <td>2.0</td>\n",
       "      <td>2.0</td>\n",
       "      <td>2.0</td>\n",
       "      <td>2.0</td>\n",
       "      <td>1.0</td>\n",
       "      <td>2.0</td>\n",
       "      <td>3.0</td>\n",
       "      <td>3.0</td>\n",
       "      <td>2.0</td>\n",
       "      <td>...</td>\n",
       "      <td>3.0</td>\n",
       "      <td>1.0</td>\n",
       "      <td>3.0</td>\n",
       "      <td>2.0</td>\n",
       "      <td>1.0</td>\n",
       "      <td>3.0</td>\n",
       "      <td>3.0</td>\n",
       "      <td>3.0</td>\n",
       "      <td>3.0</td>\n",
       "      <td>2.0</td>\n",
       "    </tr>\n",
       "    <tr>\n",
       "      <th>target</th>\n",
       "      <td>1.0</td>\n",
       "      <td>1.0</td>\n",
       "      <td>1.0</td>\n",
       "      <td>1.0</td>\n",
       "      <td>1.0</td>\n",
       "      <td>1.0</td>\n",
       "      <td>1.0</td>\n",
       "      <td>1.0</td>\n",
       "      <td>1.0</td>\n",
       "      <td>1.0</td>\n",
       "      <td>...</td>\n",
       "      <td>0.0</td>\n",
       "      <td>0.0</td>\n",
       "      <td>0.0</td>\n",
       "      <td>0.0</td>\n",
       "      <td>0.0</td>\n",
       "      <td>0.0</td>\n",
       "      <td>0.0</td>\n",
       "      <td>0.0</td>\n",
       "      <td>0.0</td>\n",
       "      <td>0.0</td>\n",
       "    </tr>\n",
       "  </tbody>\n",
       "</table>\n",
       "<p>14 rows × 303 columns</p>\n",
       "</div>"
      ],
      "text/plain": [
       "            0      1      2      3      4      5      6      7      8    \\\n",
       "age        63.0   37.0   41.0   56.0   57.0   57.0   56.0   44.0   52.0   \n",
       "sex         1.0    1.0    0.0    1.0    0.0    1.0    0.0    1.0    1.0   \n",
       "cp          3.0    2.0    1.0    1.0    0.0    0.0    1.0    1.0    2.0   \n",
       "trestbps  145.0  130.0  130.0  120.0  120.0  140.0  140.0  120.0  172.0   \n",
       "chol      233.0  250.0  204.0  236.0  354.0  192.0  294.0  263.0  199.0   \n",
       "fbs         1.0    0.0    0.0    0.0    0.0    0.0    0.0    0.0    1.0   \n",
       "restecg     0.0    1.0    0.0    1.0    1.0    1.0    0.0    1.0    1.0   \n",
       "thalach   150.0  187.0  172.0  178.0  163.0  148.0  153.0  173.0  162.0   \n",
       "exang       0.0    0.0    0.0    0.0    1.0    0.0    0.0    0.0    0.0   \n",
       "oldpeak     2.3    3.5    1.4    0.8    0.6    0.4    1.3    0.0    0.5   \n",
       "slope       0.0    0.0    2.0    2.0    2.0    1.0    1.0    2.0    2.0   \n",
       "ca          0.0    0.0    0.0    0.0    0.0    0.0    0.0    0.0    0.0   \n",
       "thal        1.0    2.0    2.0    2.0    2.0    1.0    2.0    3.0    3.0   \n",
       "target      1.0    1.0    1.0    1.0    1.0    1.0    1.0    1.0    1.0   \n",
       "\n",
       "            9    ...    293    294    295    296    297    298    299    300  \\\n",
       "age        57.0  ...   67.0   44.0   63.0   63.0   59.0   57.0   45.0   68.0   \n",
       "sex         1.0  ...    1.0    1.0    1.0    0.0    1.0    0.0    1.0    1.0   \n",
       "cp          2.0  ...    2.0    0.0    0.0    0.0    0.0    0.0    3.0    0.0   \n",
       "trestbps  150.0  ...  152.0  120.0  140.0  124.0  164.0  140.0  110.0  144.0   \n",
       "chol      168.0  ...  212.0  169.0  187.0  197.0  176.0  241.0  264.0  193.0   \n",
       "fbs         0.0  ...    0.0    0.0    0.0    0.0    1.0    0.0    0.0    1.0   \n",
       "restecg     1.0  ...    0.0    1.0    0.0    1.0    0.0    1.0    1.0    1.0   \n",
       "thalach   174.0  ...  150.0  144.0  144.0  136.0   90.0  123.0  132.0  141.0   \n",
       "exang       0.0  ...    0.0    1.0    1.0    1.0    0.0    1.0    0.0    0.0   \n",
       "oldpeak     1.6  ...    0.8    2.8    4.0    0.0    1.0    0.2    1.2    3.4   \n",
       "slope       2.0  ...    1.0    0.0    2.0    1.0    1.0    1.0    1.0    1.0   \n",
       "ca          0.0  ...    0.0    0.0    2.0    0.0    2.0    0.0    0.0    2.0   \n",
       "thal        2.0  ...    3.0    1.0    3.0    2.0    1.0    3.0    3.0    3.0   \n",
       "target      1.0  ...    0.0    0.0    0.0    0.0    0.0    0.0    0.0    0.0   \n",
       "\n",
       "            301    302  \n",
       "age        57.0   57.0  \n",
       "sex         1.0    0.0  \n",
       "cp          0.0    1.0  \n",
       "trestbps  130.0  130.0  \n",
       "chol      131.0  236.0  \n",
       "fbs         0.0    0.0  \n",
       "restecg     1.0    0.0  \n",
       "thalach   115.0  174.0  \n",
       "exang       1.0    0.0  \n",
       "oldpeak     1.2    0.0  \n",
       "slope       1.0    1.0  \n",
       "ca          1.0    1.0  \n",
       "thal        3.0    2.0  \n",
       "target      0.0    0.0  \n",
       "\n",
       "[14 rows x 303 columns]"
      ]
     },
     "execution_count": 415,
     "metadata": {},
     "output_type": "execute_result"
    }
   ],
   "source": [
    "# Having a look at the f rows of our datsets.\n",
    "df.transpose()"
   ]
  },
  {
   "cell_type": "code",
   "execution_count": 416,
   "metadata": {},
   "outputs": [
    {
     "data": {
      "text/plain": [
       "age         0\n",
       "sex         0\n",
       "cp          0\n",
       "trestbps    0\n",
       "chol        0\n",
       "fbs         0\n",
       "restecg     0\n",
       "thalach     0\n",
       "exang       0\n",
       "oldpeak     0\n",
       "slope       0\n",
       "ca          0\n",
       "thal        0\n",
       "target      0\n",
       "dtype: int64"
      ]
     },
     "execution_count": 416,
     "metadata": {},
     "output_type": "execute_result"
    }
   ],
   "source": [
    "# A check on the null values (if any)\n",
    "df.isnull().sum()"
   ]
  },
  {
   "cell_type": "code",
   "execution_count": 417,
   "metadata": {},
   "outputs": [
    {
     "data": {
      "text/plain": [
       "Text(0.5, 1.0, 'Sex Distribution')"
      ]
     },
     "execution_count": 417,
     "metadata": {},
     "output_type": "execute_result"
    },
    {
     "data": {
      "image/png": "[encoded data removed]",
      "text/plain": [
       "<Figure size 432x288 with 1 Axes>"
      ]
     },
     "metadata": {},
     "output_type": "display_data"
    }
   ],
   "source": [
    "# Sex distribution of all patients\n",
    "labels_dict_sex = {0:'Female',1:'Male'}\n",
    "labels_sex = data['sex'].value_counts().rename(index=labels_dict_sex).index\n",
    "values_sex = data['sex'].value_counts().values\n",
    "colors_sex = ['#007ED6','#7CDDDD']\n",
    "plt.pie(values_sex,explode=None,labels=labels_sex,colors=colors_sex,shadow=False,\n",
    "        startangle=90,autopct='%.2f%%')\n",
    "plt.axis('equal')\n",
    "plt.tight_layout()\n",
    "plt.title('Sex Distribution')"
   ]
  },
  {
   "cell_type": "code",
   "execution_count": 418,
   "metadata": {},
   "outputs": [
    {
     "name": "stderr",
     "output_type": "stream",
     "text": [
      "C:\\Users\\Abhay\\.conda\\envs\\Tensorflow\\lib\\site-packages\\seaborn\\distributions.py:2551: FutureWarning:\n",
      "\n",
      "`distplot` is a deprecated function and will be removed in a future version. Please adapt your code to use either `displot` (a figure-level function with similar flexibility) or `histplot` (an axes-level function for histograms).\n",
      "\n"
     ]
    },
    {
     "data": {
      "text/plain": [
       "Text(0.5, 1.0, 'Age Distribution')"
      ]
     },
     "execution_count": 418,
     "metadata": {},
     "output_type": "execute_result"
    },
    {
     "data": {
      "image/png": "[encoded data removed]",
      "text/plain": [
       "<Figure size 432x288 with 1 Axes>"
      ]
     },
     "metadata": {},
     "output_type": "display_data"
    }
   ],
   "source": [
    "# Histograph for chest pain type distribution \n",
    "sns.distplot(data['age'],hist=True,kde=True, \n",
    "             color = 'darkblue', \n",
    "             hist_kws={'edgecolor':'black'},\n",
    "             kde_kws={'linewidth': 4})\n",
    "plt.title('Age Distribution')"
   ]
  },
  {
   "cell_type": "code",
   "execution_count": 419,
   "metadata": {},
   "outputs": [
    {
     "data": {
      "text/plain": [
       "Text(0.5, 1.0, 'Chest_pain_type Distribution')"
      ]
     },
     "execution_count": 419,
     "metadata": {},
     "output_type": "execute_result"
    },
    {
     "data": {
      "image/png": "[encoded data removed]",
      "text/plain": [
       "<Figure size 432x288 with 1 Axes>"
      ]
     },
     "metadata": {},
     "output_type": "display_data"
    }
   ],
   "source": [
    "# Bar graph for chest pain type distribution\n",
    "data['cp'].replace(0,'Type 1',inplace=True)\n",
    "data['cp'].replace(1,'Type 2',inplace=True)\n",
    "data['cp'].replace(2,'Type 3',inplace=True)\n",
    "data['cp'].replace(3,'Type 4',inplace=True)\n",
    "sns.countplot(x=data['cp'],hue=data['sex'])\n",
    "plt.title('Chest_pain_type Distribution')"
   ]
  },
  {
   "cell_type": "code",
   "execution_count": 420,
   "metadata": {},
   "outputs": [
    {
     "data": {
      "text/plain": [
       "Text(0.5, 1.0, 'Target Distribution')"
      ]
     },
     "execution_count": 420,
     "metadata": {},
     "output_type": "execute_result"
    },
    {
     "data": {
      "image/png": "[encoded data removed]",
      "text/plain": [
       "<Figure size 432x288 with 1 Axes>"
      ]
     },
     "metadata": {},
     "output_type": "display_data"
    }
   ],
   "source": [
    "# Pie plot for target distribution\n",
    "labels_dict_target = {0:'No Disease',1:'Disease'}\n",
    "labels_target = data['target'].value_counts().rename(index=labels_dict_target).index\n",
    "values_target = data['target'].value_counts().values\n",
    "colors_target = ['#FF7300','#007ED6']\n",
    "plt.pie(values_target,explode=None,labels=labels_target,colors=colors_target,shadow=False,\n",
    "        startangle=90,autopct='%.2f%%')\n",
    "plt.axis('equal')\n",
    "plt.tight_layout()\n",
    "plt.title('Target Distribution')"
   ]
  },
  {
   "cell_type": "code",
   "execution_count": 421,
   "metadata": {
    "scrolled": true
   },
   "outputs": [
    {
     "data": {
      "application/vnd.plotly.v1+json": {
       "config": {
        "plotlyServerURL": "https://plot.ly"
       },
       "data": [
        {
         "autobinx": false,
         "histnorm": "probability density",
         "legendgroup": "serum_cholesterol",
         "marker": {
          "color": "#007ED6"
         },
         "name": "serum_cholesterol",
         "opacity": 0.7,
         "type": "histogram",
         "x": [
          233,
          250,
          204,
          236,
          354,
          192,
          294,
          263,
          199,
          168,
          239,
          275,
          266,
          211,
          283,
          219,
          340,
          226,
          247,
          239,
          234,
          233,
          226,
          243,
          199,
          302,
          212,
          175,
          417,
          197,
          198,
          177,
          219,
          273,
          213,
          177,
          304,
          232,
          269,
          360,
          308,
          245,
          208,
          264,
          321,
          325,
          235,
          257,
          216,
          234,
          256,
          302,
          231,
          141,
          252,
          201,
          222,
          260,
          182,
          303,
          265,
          309,
          186,
          203,
          211,
          183,
          222,
          234,
          220,
          209,
          258,
          227,
          204,
          261,
          213,
          250,
          245,
          221,
          205,
          240,
          250,
          308,
          318,
          298,
          265,
          564,
          277,
          197,
          214,
          248,
          255,
          207,
          223,
          288,
          160,
          226,
          394,
          233,
          315,
          246,
          244,
          270,
          195,
          240,
          196,
          211,
          234,
          236,
          244,
          254,
          325,
          126,
          313,
          211,
          262,
          215,
          214,
          193,
          204,
          243,
          303,
          271,
          268,
          267,
          199,
          210,
          204,
          277,
          196,
          269,
          201,
          271,
          295,
          235,
          306,
          269,
          178,
          208,
          201,
          263,
          295,
          303,
          209,
          223,
          197,
          245,
          242,
          240,
          226,
          180,
          228,
          149,
          227,
          278,
          220,
          197,
          253,
          192,
          220,
          221,
          240,
          342,
          157,
          175,
          175,
          286,
          229,
          268,
          254,
          203,
          256,
          229,
          284,
          224,
          206,
          167,
          230,
          335,
          177,
          276,
          353,
          225,
          330,
          230,
          243,
          290,
          253,
          266,
          233,
          172,
          305,
          216,
          188,
          282,
          185,
          326,
          231,
          254,
          267,
          248,
          197,
          258,
          270,
          274,
          164,
          255,
          239,
          258,
          188,
          177,
          229,
          260,
          219,
          307,
          249,
          341,
          263,
          330,
          254,
          256,
          407,
          217,
          282,
          288,
          239,
          174,
          281,
          198,
          288,
          309,
          243,
          289,
          289,
          246,
          322,
          299,
          300,
          293,
          304,
          282,
          269,
          249,
          212,
          274,
          184,
          274,
          409,
          246,
          283,
          254,
          298,
          247,
          294,
          299,
          273,
          309,
          259,
          200,
          244,
          231,
          228,
          230,
          282,
          269,
          206,
          212,
          327,
          149,
          286,
          283,
          249,
          234,
          237,
          234,
          275,
          212,
          218,
          261,
          319,
          166,
          315,
          204,
          218,
          223,
          207,
          311,
          204,
          232,
          335,
          205,
          203,
          318,
          225,
          212,
          169,
          187,
          197,
          176,
          241,
          264,
          193,
          131,
          236
         ],
         "xaxis": "x",
         "xbins": {
          "end": 564,
          "size": 10,
          "start": 126
         },
         "yaxis": "y"
        },
        {
         "legendgroup": "serum_cholesterol",
         "marker": {
          "color": "#007ED6"
         },
         "mode": "lines",
         "name": "serum_cholesterol",
         "showlegend": false,
         "type": "scatter",
         "x": [
          126,
          126.876,
          127.752,
          128.628,
          129.504,
          130.38,
          131.256,
          132.132,
          133.008,
          133.88400000000001,
          134.76,
          135.636,
          136.512,
          137.388,
          138.264,
          139.14,
          140.016,
          140.892,
          141.768,
          142.644,
          143.52,
          144.39600000000002,
          145.272,
          146.148,
          147.024,
          147.9,
          148.776,
          149.652,
          150.528,
          151.404,
          152.28,
          153.156,
          154.032,
          154.90800000000002,
          155.784,
          156.66,
          157.536,
          158.412,
          159.288,
          160.164,
          161.04,
          161.916,
          162.792,
          163.668,
          164.54399999999998,
          165.42000000000002,
          166.296,
          167.172,
          168.048,
          168.924,
          169.8,
          170.676,
          171.552,
          172.428,
          173.304,
          174.18,
          175.05599999999998,
          175.93200000000002,
          176.808,
          177.684,
          178.56,
          179.436,
          180.312,
          181.188,
          182.064,
          182.94,
          183.816,
          184.692,
          185.56799999999998,
          186.44400000000002,
          187.32,
          188.196,
          189.072,
          189.948,
          190.824,
          191.7,
          192.576,
          193.452,
          194.328,
          195.204,
          196.07999999999998,
          196.95600000000002,
          197.832,
          198.708,
          199.584,
          200.45999999999998,
          201.336,
          202.212,
          203.088,
          203.964,
          204.84,
          205.716,
          206.59199999999998,
          207.46800000000002,
          208.344,
          209.22,
          210.096,
          210.97199999999998,
          211.848,
          212.724,
          213.6,
          214.476,
          215.352,
          216.228,
          217.10399999999998,
          217.98000000000002,
          218.856,
          219.732,
          220.608,
          221.48399999999998,
          222.36,
          223.236,
          224.112,
          224.988,
          225.864,
          226.74,
          227.61599999999999,
          228.49200000000002,
          229.368,
          230.244,
          231.12,
          231.99599999999998,
          232.872,
          233.748,
          234.624,
          235.5,
          236.376,
          237.252,
          238.128,
          239.00400000000002,
          239.88,
          240.756,
          241.632,
          242.50799999999998,
          243.38400000000001,
          244.26,
          245.136,
          246.012,
          246.888,
          247.764,
          248.64,
          249.51600000000002,
          250.392,
          251.268,
          252.144,
          253.01999999999998,
          253.89600000000002,
          254.772,
          255.648,
          256.524,
          257.4,
          258.276,
          259.152,
          260.028,
          260.904,
          261.78,
          262.656,
          263.53200000000004,
          264.408,
          265.284,
          266.15999999999997,
          267.036,
          267.91200000000003,
          268.788,
          269.664,
          270.53999999999996,
          271.416,
          272.29200000000003,
          273.168,
          274.044,
          274.91999999999996,
          275.796,
          276.672,
          277.548,
          278.424,
          279.3,
          280.176,
          281.052,
          281.928,
          282.804,
          283.68,
          284.55600000000004,
          285.432,
          286.308,
          287.18399999999997,
          288.06,
          288.93600000000004,
          289.812,
          290.688,
          291.56399999999996,
          292.44,
          293.31600000000003,
          294.192,
          295.068,
          295.94399999999996,
          296.82,
          297.696,
          298.572,
          299.448,
          300.324,
          301.2,
          302.076,
          302.952,
          303.828,
          304.704,
          305.58000000000004,
          306.456,
          307.332,
          308.20799999999997,
          309.084,
          309.96000000000004,
          310.836,
          311.712,
          312.58799999999997,
          313.464,
          314.34000000000003,
          315.216,
          316.092,
          316.96799999999996,
          317.844,
          318.72,
          319.596,
          320.472,
          321.348,
          322.224,
          323.1,
          323.976,
          324.852,
          325.728,
          326.60400000000004,
          327.48,
          328.356,
          329.23199999999997,
          330.108,
          330.98400000000004,
          331.86,
          332.736,
          333.61199999999997,
          334.488,
          335.36400000000003,
          336.24,
          337.116,
          337.99199999999996,
          338.868,
          339.744,
          340.62,
          341.496,
          342.372,
          343.248,
          344.124,
          345,
          345.876,
          346.752,
          347.628,
          348.504,
          349.38,
          350.256,
          351.132,
          352.00800000000004,
          352.884,
          353.76,
          354.63599999999997,
          355.512,
          356.38800000000003,
          357.264,
          358.14,
          359.01599999999996,
          359.892,
          360.76800000000003,
          361.644,
          362.52,
          363.39599999999996,
          364.272,
          365.148,
          366.024,
          366.9,
          367.776,
          368.652,
          369.528,
          370.404,
          371.28,
          372.156,
          373.03200000000004,
          373.908,
          374.784,
          375.65999999999997,
          376.536,
          377.41200000000003,
          378.288,
          379.164,
          380.03999999999996,
          380.916,
          381.79200000000003,
          382.668,
          383.544,
          384.42,
          385.296,
          386.172,
          387.048,
          387.924,
          388.8,
          389.676,
          390.552,
          391.428,
          392.304,
          393.18,
          394.056,
          394.932,
          395.808,
          396.684,
          397.56,
          398.436,
          399.312,
          400.188,
          401.064,
          401.94,
          402.816,
          403.692,
          404.568,
          405.444,
          406.32,
          407.196,
          408.072,
          408.948,
          409.824,
          410.7,
          411.576,
          412.452,
          413.328,
          414.204,
          415.08,
          415.956,
          416.832,
          417.708,
          418.584,
          419.46,
          420.336,
          421.212,
          422.088,
          422.964,
          423.84,
          424.716,
          425.592,
          426.468,
          427.344,
          428.22,
          429.096,
          429.972,
          430.848,
          431.724,
          432.6,
          433.476,
          434.352,
          435.228,
          436.104,
          436.98,
          437.856,
          438.732,
          439.608,
          440.484,
          441.36,
          442.236,
          443.112,
          443.988,
          444.864,
          445.74,
          446.616,
          447.492,
          448.368,
          449.244,
          450.12,
          450.996,
          451.872,
          452.748,
          453.624,
          454.5,
          455.376,
          456.252,
          457.128,
          458.004,
          458.88,
          459.756,
          460.632,
          461.508,
          462.384,
          463.26,
          464.136,
          465.012,
          465.888,
          466.764,
          467.64,
          468.516,
          469.392,
          470.268,
          471.144,
          472.02,
          472.896,
          473.772,
          474.648,
          475.524,
          476.4,
          477.276,
          478.152,
          479.028,
          479.904,
          480.78,
          481.656,
          482.532,
          483.408,
          484.284,
          485.16,
          486.036,
          486.912,
          487.788,
          488.664,
          489.54,
          490.416,
          491.292,
          492.168,
          493.044,
          493.92,
          494.796,
          495.672,
          496.548,
          497.424,
          498.3,
          499.176,
          500.052,
          500.928,
          501.804,
          502.68,
          503.556,
          504.432,
          505.308,
          506.184,
          507.06,
          507.936,
          508.812,
          509.688,
          510.564,
          511.44,
          512.316,
          513.192,
          514.068,
          514.944,
          515.8199999999999,
          516.696,
          517.572,
          518.448,
          519.3240000000001,
          520.2,
          521.076,
          521.952,
          522.828,
          523.704,
          524.5799999999999,
          525.456,
          526.332,
          527.2080000000001,
          528.0840000000001,
          528.96,
          529.836,
          530.712,
          531.588,
          532.4639999999999,
          533.3399999999999,
          534.216,
          535.092,
          535.9680000000001,
          536.844,
          537.72,
          538.596,
          539.472,
          540.348,
          541.2239999999999,
          542.1,
          542.976,
          543.852,
          544.7280000000001,
          545.604,
          546.48,
          547.356,
          548.232,
          549.108,
          549.9839999999999,
          550.86,
          551.736,
          552.6120000000001,
          553.488,
          554.364,
          555.24,
          556.116,
          556.992,
          557.8679999999999,
          558.744,
          559.62,
          560.496,
          561.3720000000001,
          562.248,
          563.124
         ],
         "xaxis": "x",
         "y": [
          0.00032345758155982626,
          0.00033872217664405725,
          0.00035445905450977826,
          0.0003706967632080767,
          0.00038746765990881754,
          0.000404807956652734,
          0.000422757717573408,
          0.00044136080524695,
          0.0004606647744875305,
          0.0004807207126205483,
          0.0005015830260260835,
          0.0005233091735465099,
          0.000545959348186186,
          0.0005695961093898214,
          0.0005942839690596273,
          0.0006200889353492092,
          0.0006470780191418974,
          0.0006753187089690076,
          0.0007048784209337785,
          0.0007358239309620615,
          0.0007682207973823778,
          0.0008021327824252468,
          0.0008376212817036045,
          0.000874744771070561,
          0.0009135582804261265,
          0.0009541129040400585,
          0.0009964553567544784,
          0.0010406275850113385,
          0.001086666441003494,
          0.0011346034273666287,
          0.0011844645187105733,
          0.0012362700649377282,
          0.0012900347797253568,
          0.0013457678157782983,
          0.0014034729265172048,
          0.0014631487117922983,
          0.0015247889430484564,
          0.0015883829611667874,
          0.0016539161380293647,
          0.001721370390761066,
          0.0017907247356628122,
          0.0018619558671316317,
          0.0019350387454328106,
          0.002009947176111421,
          0.0020866543631630954,
          0.002165133417876787,
          0.002245357805554338,
          0.002327301713129386,
          0.0024109403220622626,
          0.0024962499727737455,
          0.0025832082092760544,
          0.0026717936955243378,
          0.0027619859982889452,
          0.002853765234963143,
          0.002947111588583521,
          0.0030420046963480665,
          0.0031384229219569757,
          0.0032363425260531035,
          0.003335736752778544,
          0.0034365748538686975,
          0.003538821074654681,
          0.003642433628731135,
          0.003747363689771134,
          0.0038535544299524733,
          0.003960940134640685,
          0.00406944542231569,
          0.0041789845972186575,
          0.004289461159847586,
          0.004400767497285051,
          0.004512784771466002,
          0.0046253830189799455,
          0.004738421470964702,
          0.004851749096221174,
          0.0049652053650115395,
          0.005078621225255741,
          0.005191820277180972,
          0.0053046201270729254,
          0.005416833895788768,
          0.0055282718532734705,
          0.005638743146609799,
          0.005748057586247621,
          0.0058560274530928625,
          0.005962469288158751,
          0.0060672056265291185,
          0.006170066638462685,
          0.006270891642553574,
          0.006369530458902145,
          0.006465844574156985,
          0.006559708094954295,
          0.006651008471568884,
          0.006739646979353241,
          0.006825538951608117,
          0.0069086137637277625,
          0.006988814574616792,
          0.007066097837308523,
          0.007140432596260894,
          0.007211799593809573,
          0.007280190212585057,
          0.007345605284235524,
          0.007408053797451365,
          0.0074675515399994785,
          0.007524119710211148,
          0.007577783533126892,
          0.0076285709153062495,
          0.007676511170218625,
          0.007721633843218254,
          0.007763967661476514,
          0.007803539630017406,
          0.007840374290313385,
          0.007874493152894638,
          0.007905914310256277,
          0.007934652231168553,
          0.007960717732451906,
          0.007984118119514091,
          0.008004857482586836,
          0.008022937131759196,
          0.008038356150676823,
          0.008051112046234469,
          0.008061201469784014,
          0.00806862098434053,
          0.008073367851997965,
          0.008075440816247422,
          0.008074840855084024,
          0.008071571882637154,
          0.00806564137948424,
          0.00805706093472546,
          0.008045846686201067,
          0.008032019648819048,
          0.008015605924714828,
          0.007996636792773423,
          0.007975148678796605,
          0.007951183011187246,
          0.007924785970352764,
          0.007896008143011127,
          0.007864904095142197,
          0.007831531879403731,
          0.007795952494378793,
          0.007758229314010866,
          0.007718427506001195,
          0.007676613457792439,
          0.007632854228061017,
          0.007587217040421582,
          0.007539768834353899,
          0.007490575886255007,
          0.0074397035110622695,
          0.007387215852161529,
          0.007333175764368701,
          0.007277644791737245,
          0.007220683238881651,
          0.007162350331503243,
          0.007102704458941196,
          0.007041803488922772,
          0.006979705142324734,
          0.006916467413742052,
          0.006852149022043814,
          0.006786809873919208,
          0.006720511522710644,
          0.006653317604611155,
          0.006585294234577085,
          0.006516510345065363,
          0.006447037951930417,
          0.006376952333475161,
          0.006306332110706326,
          0.0062352592192407305,
          0.006163818765991938,
          0.006092098766664974,
          0.006020189763132861,
          0.005948184322885535,
          0.005876176425852838,
          0.005804260746933602,
          0.005732531845434777,
          0.0056610832752697834,
          0.005590006632116225,
          0.005519390555730806,
          0.00544931970721381,
          0.005379873742164408,
          0.005311126301340855,
          0.005243144040616149,
          0.005175985721692538,
          0.005109701384209403,
          0.0050443316185666024,
          0.004979906957013889,
          0.0049164473983669965,
          0.004853962079149214,
          0.0047924491010825805,
          0.004731895521729335,
          0.004672277511784887,
          0.004613560679123505,
          0.004555700556277274,
          0.0044986432446664885,
          0.004442326205675676,
          0.004386679185658367,
          0.004331625259227642,
          0.004277081972810867,
          0.004222962568472793,
          0.004169177266485067,
          0.004115634584077841,
          0.0040622426672705814,
          0.004008910612655271,
          0.003955549756489653,
          0.0039020749094357474,
          0.003848405516717977,
          0.0037944667253355636,
          0.0037401903421926414,
          0.003685515669545892,
          0.0036303902069449783,
          0.0035747702117821735,
          0.003518621113597585,
          0.003461917780328062,
          0.0034046446376649253,
          0.00334679564552616,
          0.003288374138286134,
          0.003229392537780654,
          0.0031698719501689764,
          0.0031098416594460207,
          0.0030493385317315737,
          0.002988406345401307,
          0.002927095062663389,
          0.002865460058332383,
          0.0028035613213268267,
          0.0027414626438474034,
          0.0026792308123165507,
          0.0026169348130208477,
          0.0025546450640454993,
          0.0024924326835773438,
          0.002430368803034153,
          0.0023685239318075577,
          0.002306967378735856,
          0.002245766733799739,
          0.0021849874120010797,
          0.00212469225997813,
          0.0020649412246597563,
          0.002005791082186732,
          0.0019472952244436572,
          0.001889503499855646,
          0.0018324621046071994,
          0.0017762135201277694,
          0.0017207964925440666,
          0.0016662460498026639,
          0.0016125935522949568,
          0.0015598667730425517,
          0.0015080900037975813,
          0.001457284183751874,
          0.0014074670479040372,
          0.0013586532924812066,
          0.00131085475513064,
          0.0012640806078684104,
          0.0012183375609858757,
          0.0011736300762601618,
          0.001129960587889993,
          0.0010873297295835502,
          0.0010457365661656229,
          0.0010051788279570306,
          0.0009656531460216723,
          0.0009271552861903576,
          0.0008896803795726136,
          0.0008532231470737911,
          0.0008177781152630294,
          0.0007833398208031698,
          0.0007499030005708915,
          0.0007174627645767742,
          0.0006860147488490563,
          0.0006555552455782456,
          0.0006260813080348178,
          0.0005975908280680164,
          0.0005700825843662753,
          0.0005435562601012914,
          0.0005180124290778194,
          0.0004934525100574801,
          0.00046987868950202683,
          0.0004472938135741915,
          0.0004257012508254938,
          0.0004051047275736977,
          0.00038550813851224167,
          0.00036691533558473745,
          0.0003493298985869715,
          0.0003327548913155815,
          0.0003171926073583672,
          0.00030264430981055213,
          0.00028910996930129885,
          0.00027658800472528204,
          0.00026507503099823114,
          0.0002545656179978679,
          0.0002450520646203581,
          0.00023652419158637304,
          0.000228969156280756,
          0.0002223712925172992,
          0.00021671197769715004,
          0.00021196952938798812,
          0.0002081191329027887,
          0.0002051328010123385,
          0.0002029793664941073,
          0.0002016245078094399,
          0.0002010308078174306,
          0.0002011578450816539,
          0.00020196231700752196,
          0.00020339819376412484,
          0.0002054169016939803,
          0.0002079675346946979,
          0.00021099709186458136,
          0.00021445073953515036,
          0.0002182720956625266,
          0.00022240353441148987,
          0.00022678650863590738,
          0.00023136188783286256,
          0.00023607030902178246,
          0.00024085253787182114,
          0.00024564983726983584,
          0.00025040434038789807,
          0.00025505942517548886,
          0.00025956008707070475,
          0.0002638533066018882,
          0.00026788840844193043,
          0.00027161740838912215,
          0.00027499534468824,
          0.0002779805900813861,
          0.00028053514099752463,
          0.000282624880359816,
          0.0002842198106168934,
          0.00028529425379309316,
          0.0002858270156066294,
          0.000285801511025236,
          0.00028520584901522923,
          0.0002840328746894371,
          0.0002822801675669072,
          0.0002799499952154518,
          0.00027704922214760275,
          0.0002735891744702378,
          0.00026958546143531354,
          0.0002650577556899197,
          0.00026002953466361373,
          0.00025452778614479325,
          0.00024858268167093613,
          0.00024222722187580662,
          0.00023549685838717506,
          0.00022842909723976219,
          0.0002210630890505021,
          0.00021343921138940148,
          0.00020559864886449792,
          0.00019758297642137387,
          0.00018943375123680006,
          0.00018119211836554054,
          0.00017289843498464964,
          0.00016459191767891136,
          0.00015631031673436654,
          0.000148089620866086,
          0.00013996379521475692,
          0.00013196455481838263,
          0.00012412117511540933,
          0.00011646034037863352,
          0.00010900603032996424,
          0.00010177944455846971,
          9.479896377075871e-05,
          8.80801463552806e-05,
          8.163575825018512e-05,
          7.547583367599649e-05,
          6.960776393553873e-05,
          6.403641119818063e-05,
          5.876424397557648e-05,
          5.379149086158906e-05,
          4.911630904816173e-05,
          4.47349641380193e-05,
          4.0642017849221445e-05,
          3.683052033954478e-05,
          3.3292204063218904e-05,
          3.0017676300775877e-05,
          2.699660776633381e-05,
          2.4217914986980943e-05,
          2.1669934457577573e-05,
          1.9340586893048382e-05,
          1.7217530221377866e-05,
          1.5288300276952842e-05,
          1.3540438459327293e-05,
          1.1961605911430236e-05,
          1.0539684039212592e-05,
          9.26286143814065e-06,
          8.11970750817067e-06,
          7.099233226212587e-06,
          6.1909397027471395e-06,
          5.384855277200961e-06,
          4.671562005571419e-06,
          4.0422124649131705e-06,
          3.4885378444646846e-06,
          3.002848314578499e-06,
          2.5780266647319363e-06,
          2.2075161834088895e-06,
          1.8853037183388673e-06,
          1.6058988082608453e-06,
          1.364309719772319e-06,
          1.1560171575475008e-06,
          9.76946345697323e-07,
          8.234381045210155e-07,
          6.922194723498138e-07,
          5.803743483277788e-07,
          4.853145602741748e-07,
          4.047516934186574e-07,
          3.3666995173269106e-07,
          2.793002644966598e-07,
          2.310957971155201e-07,
          1.9070897730411618e-07,
          1.5697010570672566e-07,
          1.2886758374705345e-07,
          1.0552976085312533e-07,
          8.620837789792041e-08,
          7.026356339670382e-08,
          5.715032330941117e-08,
          4.64064537808128e-08,
          3.764179836546184e-08,
          3.0528766779694106e-08,
          2.479403055914659e-08,
          2.0211311756095538e-08,
          1.6595183590044745e-08,
          1.3795806400398305e-08,
          1.1694528006670568e-08,
          1.0200284356480999e-08,
          9.246743862948978e-09,
          8.790146858322143e-09,
          8.807799902641965e-09,
          9.297193089533612e-09,
          1.0275716807280292e-08,
          1.1780962475902183e-08,
          1.3871599430910343e-08,
          1.6628827205230217e-08,
          2.0158408814137045e-08,
          2.459329611009021e-08,
          3.0096862672756207e-08,
          3.686676285154312e-08,
          4.513943728966534e-08,
          5.519528532549594e-08,
          6.736452287547322e-08,
          8.203374053487226e-08,
          9.96531704704757e-08,
          1.2074466201228272e-07,
          1.4591035448605803e-07,
          1.7584202159808545e-07,
          2.1133104446066454e-07,
          2.5327895005760603e-07,
          3.027084285865797e-07,
          3.607747167568822e-07,
          4.287772049421932e-07,
          5.081710943775154e-07,
          6.005788967655662e-07,
          7.078015332756986e-07,
          8.318287536853142e-07,
          9.748485601869467e-07,
          1.1392552851791883e-06,
          1.3276559393389952e-06,
          1.5428744167372944e-06,
          1.7879531191310861e-06,
          2.066151543355177e-06,
          2.3809413655188225e-06,
          2.735997555076862e-06,
          3.1351850623435827e-06,
          3.58254064612222e-06,
          4.082249445144576e-06,
          4.638615949048792e-06,
          5.256029092481282e-06,
          5.938921280037214e-06,
          6.691721250188295e-06,
          7.5188008026271255e-06,
          8.424415544604661e-06,
          9.412639956280604e-06,
          1.0487297230697643e-05,
          1.1651884507956555e-05,
          1.2909494292169406e-05,
          1.4262733009888495e-05,
          1.5713637835567834e-05,
          1.726359306840018e-05,
          1.891324749052074e-05,
          2.066243426378487e-05,
          2.251009502590622e-05,
          2.4454209921528487e-05,
          2.6491735345081075e-05,
          2.8618551175789464e-05,
          3.082941924744543e-05,
          3.3117954713884556e-05,
          3.5476611843974123e-05,
          3.7896685606906694e-05,
          4.036833019064119e-05,
          4.288059533571964e-05,
          4.542148106712594e-05,
          4.797801107340166e-05,
          5.053632462133665e-05,
          5.3081786513811886e-05,
          5.559911420644333e-05,
          5.807252080508304e-05,
          6.0485872281033e-05,
          6.282285687441542e-05,
          6.506716431883978e-05,
          6.720267222240113e-05,
          6.921363669037488e-05,
          7.108488408219062e-05,
          7.280200066634683e-05,
          7.435151687738264e-05,
          7.572108289255536e-05,
          7.689963233418005e-05,
          7.787753106637234e-05,
          7.864670828970464e-05,
          7.920076743952983e-05,
          7.953507475690691e-05
         ],
         "yaxis": "y"
        }
       ],
       "layout": {
        "barmode": "overlay",
        "hovermode": "closest",
        "legend": {
         "traceorder": "reversed"
        },
        "template": {
         "data": {
          "bar": [
           {
            "error_x": {
             "color": "#2a3f5f"
            },
            "error_y": {
             "color": "#2a3f5f"
            },
            "marker": {
             "line": {
              "color": "#E5ECF6",
              "width": 0.5
             }
            },
            "type": "bar"
           }
          ],
          "barpolar": [
           {
            "marker": {
             "line": {
              "color": "#E5ECF6",
              "width": 0.5
             }
            },
            "type": "barpolar"
           }
          ],
          "carpet": [
           {
            "aaxis": {
             "endlinecolor": "#2a3f5f",
             "gridcolor": "white",
             "linecolor": "white",
             "minorgridcolor": "white",
             "startlinecolor": "#2a3f5f"
            },
            "baxis": {
             "endlinecolor": "#2a3f5f",
             "gridcolor": "white",
             "linecolor": "white",
             "minorgridcolor": "white",
             "startlinecolor": "#2a3f5f"
            },
            "type": "carpet"
           }
          ],
          "choropleth": [
           {
            "colorbar": {
             "outlinewidth": 0,
             "ticks": ""
            },
            "type": "choropleth"
           }
          ],
          "contour": [
           {
            "colorbar": {
             "outlinewidth": 0,
             "ticks": ""
            },
            "colorscale": [
             [
              0,
              "#0d0887"
             ],
             [
              0.1111111111111111,
              "#46039f"
             ],
             [
              0.2222222222222222,
              "#7201a8"
             ],
             [
              0.3333333333333333,
              "#9c179e"
             ],
             [
              0.4444444444444444,
              "#bd3786"
             ],
             [
              0.5555555555555556,
              "#d8576b"
             ],
             [
              0.6666666666666666,
              "#ed7953"
             ],
             [
              0.7777777777777778,
              "#fb9f3a"
             ],
             [
              0.8888888888888888,
              "#fdca26"
             ],
             [
              1,
              "#f0f921"
             ]
            ],
            "type": "contour"
           }
          ],
          "contourcarpet": [
           {
            "colorbar": {
             "outlinewidth": 0,
             "ticks": ""
            },
            "type": "contourcarpet"
           }
          ],
          "heatmap": [
           {
            "colorbar": {
             "outlinewidth": 0,
             "ticks": ""
            },
            "colorscale": [
             [
              0,
              "#0d0887"
             ],
             [
              0.1111111111111111,
              "#46039f"
             ],
             [
              0.2222222222222222,
              "#7201a8"
             ],
             [
              0.3333333333333333,
              "#9c179e"
             ],
             [
              0.4444444444444444,
              "#bd3786"
             ],
             [
              0.5555555555555556,
              "#d8576b"
             ],
             [
              0.6666666666666666,
              "#ed7953"
             ],
             [
              0.7777777777777778,
              "#fb9f3a"
             ],
             [
              0.8888888888888888,
              "#fdca26"
             ],
             [
              1,
              "#f0f921"
             ]
            ],
            "type": "heatmap"
           }
          ],
          "heatmapgl": [
           {
            "colorbar": {
             "outlinewidth": 0,
             "ticks": ""
            },
            "colorscale": [
             [
              0,
              "#0d0887"
             ],
             [
              0.1111111111111111,
              "#46039f"
             ],
             [
              0.2222222222222222,
              "#7201a8"
             ],
             [
              0.3333333333333333,
              "#9c179e"
             ],
             [
              0.4444444444444444,
              "#bd3786"
             ],
             [
              0.5555555555555556,
              "#d8576b"
             ],
             [
              0.6666666666666666,
              "#ed7953"
             ],
             [
              0.7777777777777778,
              "#fb9f3a"
             ],
             [
              0.8888888888888888,
              "#fdca26"
             ],
             [
              1,
              "#f0f921"
             ]
            ],
            "type": "heatmapgl"
           }
          ],
          "histogram": [
           {
            "marker": {
             "colorbar": {
              "outlinewidth": 0,
              "ticks": ""
             }
            },
            "type": "histogram"
           }
          ],
          "histogram2d": [
           {
            "colorbar": {
             "outlinewidth": 0,
             "ticks": ""
            },
            "colorscale": [
             [
              0,
              "#0d0887"
             ],
             [
              0.1111111111111111,
              "#46039f"
             ],
             [
              0.2222222222222222,
              "#7201a8"
             ],
             [
              0.3333333333333333,
              "#9c179e"
             ],
             [
              0.4444444444444444,
              "#bd3786"
             ],
             [
              0.5555555555555556,
              "#d8576b"
             ],
             [
              0.6666666666666666,
              "#ed7953"
             ],
             [
              0.7777777777777778,
              "#fb9f3a"
             ],
             [
              0.8888888888888888,
              "#fdca26"
             ],
             [
              1,
              "#f0f921"
             ]
            ],
            "type": "histogram2d"
           }
          ],
          "histogram2dcontour": [
           {
            "colorbar": {
             "outlinewidth": 0,
             "ticks": ""
            },
            "colorscale": [
             [
              0,
              "#0d0887"
             ],
             [
              0.1111111111111111,
              "#46039f"
             ],
             [
              0.2222222222222222,
              "#7201a8"
             ],
             [
              0.3333333333333333,
              "#9c179e"
             ],
             [
              0.4444444444444444,
              "#bd3786"
             ],
             [
              0.5555555555555556,
              "#d8576b"
             ],
             [
              0.6666666666666666,
              "#ed7953"
             ],
             [
              0.7777777777777778,
              "#fb9f3a"
             ],
             [
              0.8888888888888888,
              "#fdca26"
             ],
             [
              1,
              "#f0f921"
             ]
            ],
            "type": "histogram2dcontour"
           }
          ],
          "mesh3d": [
           {
            "colorbar": {
             "outlinewidth": 0,
             "ticks": ""
            },
            "type": "mesh3d"
           }
          ],
          "parcoords": [
           {
            "line": {
             "colorbar": {
              "outlinewidth": 0,
              "ticks": ""
             }
            },
            "type": "parcoords"
           }
          ],
          "pie": [
           {
            "automargin": true,
            "type": "pie"
           }
          ],
          "scatter": [
           {
            "marker": {
             "colorbar": {
              "outlinewidth": 0,
              "ticks": ""
             }
            },
            "type": "scatter"
           }
          ],
          "scatter3d": [
           {
            "line": {
             "colorbar": {
              "outlinewidth": 0,
              "ticks": ""
             }
            },
            "marker": {
             "colorbar": {
              "outlinewidth": 0,
              "ticks": ""
             }
            },
            "type": "scatter3d"
           }
          ],
          "scattercarpet": [
           {
            "marker": {
             "colorbar": {
              "outlinewidth": 0,
              "ticks": ""
             }
            },
            "type": "scattercarpet"
           }
          ],
          "scattergeo": [
           {
            "marker": {
             "colorbar": {
              "outlinewidth": 0,
              "ticks": ""
             }
            },
            "type": "scattergeo"
           }
          ],
          "scattergl": [
           {
            "marker": {
             "colorbar": {
              "outlinewidth": 0,
              "ticks": ""
             }
            },
            "type": "scattergl"
           }
          ],
          "scattermapbox": [
           {
            "marker": {
             "colorbar": {
              "outlinewidth": 0,
              "ticks": ""
             }
            },
            "type": "scattermapbox"
           }
          ],
          "scatterpolar": [
           {
            "marker": {
             "colorbar": {
              "outlinewidth": 0,
              "ticks": ""
             }
            },
            "type": "scatterpolar"
           }
          ],
          "scatterpolargl": [
           {
            "marker": {
             "colorbar": {
              "outlinewidth": 0,
              "ticks": ""
             }
            },
            "type": "scatterpolargl"
           }
          ],
          "scatterternary": [
           {
            "marker": {
             "colorbar": {
              "outlinewidth": 0,
              "ticks": ""
             }
            },
            "type": "scatterternary"
           }
          ],
          "surface": [
           {
            "colorbar": {
             "outlinewidth": 0,
             "ticks": ""
            },
            "colorscale": [
             [
              0,
              "#0d0887"
             ],
             [
              0.1111111111111111,
              "#46039f"
             ],
             [
              0.2222222222222222,
              "#7201a8"
             ],
             [
              0.3333333333333333,
              "#9c179e"
             ],
             [
              0.4444444444444444,
              "#bd3786"
             ],
             [
              0.5555555555555556,
              "#d8576b"
             ],
             [
              0.6666666666666666,
              "#ed7953"
             ],
             [
              0.7777777777777778,
              "#fb9f3a"
             ],
             [
              0.8888888888888888,
              "#fdca26"
             ],
             [
              1,
              "#f0f921"
             ]
            ],
            "type": "surface"
           }
          ],
          "table": [
           {
            "cells": {
             "fill": {
              "color": "#EBF0F8"
             },
             "line": {
              "color": "white"
             }
            },
            "header": {
             "fill": {
              "color": "#C8D4E3"
             },
             "line": {
              "color": "white"
             }
            },
            "type": "table"
           }
          ]
         },
         "layout": {
          "annotationdefaults": {
           "arrowcolor": "#2a3f5f",
           "arrowhead": 0,
           "arrowwidth": 1
          },
          "coloraxis": {
           "colorbar": {
            "outlinewidth": 0,
            "ticks": ""
           }
          },
          "colorscale": {
           "diverging": [
            [
             0,
             "#8e0152"
            ],
            [
             0.1,
             "#c51b7d"
            ],
            [
             0.2,
             "#de77ae"
            ],
            [
             0.3,
             "#f1b6da"
            ],
            [
             0.4,
             "#fde0ef"
            ],
            [
             0.5,
             "#f7f7f7"
            ],
            [
             0.6,
             "#e6f5d0"
            ],
            [
             0.7,
             "#b8e186"
            ],
            [
             0.8,
             "#7fbc41"
            ],
            [
             0.9,
             "#4d9221"
            ],
            [
             1,
             "#276419"
            ]
           ],
           "sequential": [
            [
             0,
             "#0d0887"
            ],
            [
             0.1111111111111111,
             "#46039f"
            ],
            [
             0.2222222222222222,
             "#7201a8"
            ],
            [
             0.3333333333333333,
             "#9c179e"
            ],
            [
             0.4444444444444444,
             "#bd3786"
            ],
            [
             0.5555555555555556,
             "#d8576b"
            ],
            [
             0.6666666666666666,
             "#ed7953"
            ],
            [
             0.7777777777777778,
             "#fb9f3a"
            ],
            [
             0.8888888888888888,
             "#fdca26"
            ],
            [
             1,
             "#f0f921"
            ]
           ],
           "sequentialminus": [
            [
             0,
             "#0d0887"
            ],
            [
             0.1111111111111111,
             "#46039f"
            ],
            [
             0.2222222222222222,
             "#7201a8"
            ],
            [
             0.3333333333333333,
             "#9c179e"
            ],
            [
             0.4444444444444444,
             "#bd3786"
            ],
            [
             0.5555555555555556,
             "#d8576b"
            ],
            [
             0.6666666666666666,
             "#ed7953"
            ],
            [
             0.7777777777777778,
             "#fb9f3a"
            ],
            [
             0.8888888888888888,
             "#fdca26"
            ],
            [
             1,
             "#f0f921"
            ]
           ]
          },
          "colorway": [
           "#636efa",
           "#EF553B",
           "#00cc96",
           "#ab63fa",
           "#FFA15A",
           "#19d3f3",
           "#FF6692",
           "#B6E880",
           "#FF97FF",
           "#FECB52"
          ],
          "font": {
           "color": "#2a3f5f"
          },
          "geo": {
           "bgcolor": "white",
           "lakecolor": "white",
           "landcolor": "#E5ECF6",
           "showlakes": true,
           "showland": true,
           "subunitcolor": "white"
          },
          "hoverlabel": {
           "align": "left"
          },
          "hovermode": "closest",
          "mapbox": {
           "style": "light"
          },
          "paper_bgcolor": "white",
          "plot_bgcolor": "#E5ECF6",
          "polar": {
           "angularaxis": {
            "gridcolor": "white",
            "linecolor": "white",
            "ticks": ""
           },
           "bgcolor": "#E5ECF6",
           "radialaxis": {
            "gridcolor": "white",
            "linecolor": "white",
            "ticks": ""
           }
          },
          "scene": {
           "xaxis": {
            "backgroundcolor": "#E5ECF6",
            "gridcolor": "white",
            "gridwidth": 2,
            "linecolor": "white",
            "showbackground": true,
            "ticks": "",
            "zerolinecolor": "white"
           },
           "yaxis": {
            "backgroundcolor": "#E5ECF6",
            "gridcolor": "white",
            "gridwidth": 2,
            "linecolor": "white",
            "showbackground": true,
            "ticks": "",
            "zerolinecolor": "white"
           },
           "zaxis": {
            "backgroundcolor": "#E5ECF6",
            "gridcolor": "white",
            "gridwidth": 2,
            "linecolor": "white",
            "showbackground": true,
            "ticks": "",
            "zerolinecolor": "white"
           }
          },
          "shapedefaults": {
           "line": {
            "color": "#2a3f5f"
           }
          },
          "ternary": {
           "aaxis": {
            "gridcolor": "white",
            "linecolor": "white",
            "ticks": ""
           },
           "baxis": {
            "gridcolor": "white",
            "linecolor": "white",
            "ticks": ""
           },
           "bgcolor": "#E5ECF6",
           "caxis": {
            "gridcolor": "white",
            "linecolor": "white",
            "ticks": ""
           }
          },
          "title": {
           "x": 0.05
          },
          "xaxis": {
           "automargin": true,
           "gridcolor": "white",
           "linecolor": "white",
           "ticks": "",
           "title": {
            "standoff": 15
           },
           "zerolinecolor": "white",
           "zerolinewidth": 2
          },
          "yaxis": {
           "automargin": true,
           "gridcolor": "white",
           "linecolor": "white",
           "ticks": "",
           "title": {
            "standoff": 15
           },
           "zerolinecolor": "white",
           "zerolinewidth": 2
          }
         }
        },
        "title": {
         "text": "Serum Cholesterol Distribution"
        },
        "width": 700,
        "xaxis": {
         "anchor": "y2",
         "domain": [
          0,
          1
         ],
         "zeroline": false
        },
        "yaxis": {
         "anchor": "free",
         "domain": [
          0,
          1
         ],
         "position": 0
        }
       }
      },
      "text/html": [
       "<div>                            <div id=\"dc4caa2c-fb2f-4be9-984e-7c0b8dae243a\" class=\"plotly-graph-div\" style=\"height:525px; width:700px;\"></div>            <script type=\"text/javascript\">                require([\"plotly\"], function(Plotly) {                    window.PLOTLYENV=window.PLOTLYENV || {};                                    if (document.getElementById(\"dc4caa2c-fb2f-4be9-984e-7c0b8dae243a\")) {                    Plotly.newPlot(                        \"dc4caa2c-fb2f-4be9-984e-7c0b8dae243a\",                        [{\"autobinx\": false, \"histnorm\": \"probability density\", \"legendgroup\": \"serum_cholesterol\", \"marker\": {\"color\": \"#007ED6\"}, \"name\": \"serum_cholesterol\", \"opacity\": 0.7, \"type\": \"histogram\", \"x\": [233, 250, 204, 236, 354, 192, 294, 263, 199, 168, 239, 275, 266, 211, 283, 219, 340, 226, 247, 239, 234, 233, 226, 243, 199, 302, 212, 175, 417, 197, 198, 177, 219, 273, 213, 177, 304, 232, 269, 360, 308, 245, 208, 264, 321, 325, 235, 257, 216, 234, 256, 302, 231, 141, 252, 201, 222, 260, 182, 303, 265, 309, 186, 203, 211, 183, 222, 234, 220, 209, 258, 227, 204, 261, 213, 250, 245, 221, 205, 240, 250, 308, 318, 298, 265, 564, 277, 197, 214, 248, 255, 207, 223, 288, 160, 226, 394, 233, 315, 246, 244, 270, 195, 240, 196, 211, 234, 236, 244, 254, 325, 126, 313, 211, 262, 215, 214, 193, 204, 243, 303, 271, 268, 267, 199, 210, 204, 277, 196, 269, 201, 271, 295, 235, 306, 269, 178, 208, 201, 263, 295, 303, 209, 223, 197, 245, 242, 240, 226, 180, 228, 149, 227, 278, 220, 197, 253, 192, 220, 221, 240, 342, 157, 175, 175, 286, 229, 268, 254, 203, 256, 229, 284, 224, 206, 167, 230, 335, 177, 276, 353, 225, 330, 230, 243, 290, 253, 266, 233, 172, 305, 216, 188, 282, 185, 326, 231, 254, 267, 248, 197, 258, 270, 274, 164, 255, 239, 258, 188, 177, 229, 260, 219, 307, 249, 341, 263, 330, 254, 256, 407, 217, 282, 288, 239, 174, 281, 198, 288, 309, 243, 289, 289, 246, 322, 299, 300, 293, 304, 282, 269, 249, 212, 274, 184, 274, 409, 246, 283, 254, 298, 247, 294, 299, 273, 309, 259, 200, 244, 231, 228, 230, 282, 269, 206, 212, 327, 149, 286, 283, 249, 234, 237, 234, 275, 212, 218, 261, 319, 166, 315, 204, 218, 223, 207, 311, 204, 232, 335, 205, 203, 318, 225, 212, 169, 187, 197, 176, 241, 264, 193, 131, 236], \"xaxis\": \"x\", \"xbins\": {\"end\": 564.0, \"size\": 10, \"start\": 126.0}, \"yaxis\": \"y\"}, {\"legendgroup\": \"serum_cholesterol\", \"marker\": {\"color\": \"#007ED6\"}, \"mode\": \"lines\", \"name\": \"serum_cholesterol\", \"showlegend\": false, \"type\": \"scatter\", \"x\": [126.0, 126.876, 127.752, 128.628, 129.504, 130.38, 131.256, 132.132, 133.008, 133.88400000000001, 134.76, 135.636, 136.512, 137.388, 138.264, 139.14, 140.016, 140.892, 141.768, 142.644, 143.52, 144.39600000000002, 145.272, 146.148, 147.024, 147.9, 148.776, 149.652, 150.528, 151.404, 152.28, 153.156, 154.032, 154.90800000000002, 155.784, 156.66, 157.536, 158.412, 159.288, 160.164, 161.04, 161.916, 162.792, 163.668, 164.54399999999998, 165.42000000000002, 166.296, 167.172, 168.048, 168.924, 169.8, 170.676, 171.552, 172.428, 173.304, 174.18, 175.05599999999998, 175.93200000000002, 176.808, 177.684, 178.56, 179.436, 180.312, 181.188, 182.064, 182.94, 183.816, 184.692, 185.56799999999998, 186.44400000000002, 187.32, 188.196, 189.072, 189.948, 190.824, 191.7, 192.576, 193.452, 194.328, 195.204, 196.07999999999998, 196.95600000000002, 197.832, 198.708, 199.584, 200.45999999999998, 201.336, 202.212, 203.088, 203.964, 204.84, 205.716, 206.59199999999998, 207.46800000000002, 208.344, 209.22, 210.096, 210.97199999999998, 211.848, 212.724, 213.6, 214.476, 215.352, 216.228, 217.10399999999998, 217.98000000000002, 218.856, 219.732, 220.608, 221.48399999999998, 222.36, 223.236, 224.112, 224.988, 225.864, 226.74, 227.61599999999999, 228.49200000000002, 229.368, 230.244, 231.12, 231.99599999999998, 232.872, 233.748, 234.624, 235.5, 236.376, 237.252, 238.128, 239.00400000000002, 239.88, 240.756, 241.632, 242.50799999999998, 243.38400000000001, 244.26, 245.136, 246.012, 246.888, 247.764, 248.64, 249.51600000000002, 250.392, 251.268, 252.144, 253.01999999999998, 253.89600000000002, 254.772, 255.648, 256.524, 257.4, 258.276, 259.152, 260.028, 260.904, 261.78, 262.656, 263.53200000000004, 264.408, 265.284, 266.15999999999997, 267.036, 267.91200000000003, 268.788, 269.664, 270.53999999999996, 271.416, 272.29200000000003, 273.168, 274.044, 274.91999999999996, 275.796, 276.672, 277.548, 278.424, 279.3, 280.176, 281.052, 281.928, 282.804, 283.68, 284.55600000000004, 285.432, 286.308, 287.18399999999997, 288.06, 288.93600000000004, 289.812, 290.688, 291.56399999999996, 292.44, 293.31600000000003, 294.192, 295.068, 295.94399999999996, 296.82, 297.696, 298.572, 299.448, 300.324, 301.2, 302.076, 302.952, 303.828, 304.704, 305.58000000000004, 306.456, 307.332, 308.20799999999997, 309.084, 309.96000000000004, 310.836, 311.712, 312.58799999999997, 313.464, 314.34000000000003, 315.216, 316.092, 316.96799999999996, 317.844, 318.72, 319.596, 320.472, 321.348, 322.224, 323.1, 323.976, 324.852, 325.728, 326.60400000000004, 327.48, 328.356, 329.23199999999997, 330.108, 330.98400000000004, 331.86, 332.736, 333.61199999999997, 334.488, 335.36400000000003, 336.24, 337.116, 337.99199999999996, 338.868, 339.744, 340.62, 341.496, 342.372, 343.248, 344.124, 345.0, 345.876, 346.752, 347.628, 348.504, 349.38, 350.256, 351.132, 352.00800000000004, 352.884, 353.76, 354.63599999999997, 355.512, 356.38800000000003, 357.264, 358.14, 359.01599999999996, 359.892, 360.76800000000003, 361.644, 362.52, 363.39599999999996, 364.272, 365.148, 366.024, 366.9, 367.776, 368.652, 369.528, 370.404, 371.28, 372.156, 373.03200000000004, 373.908, 374.784, 375.65999999999997, 376.536, 377.41200000000003, 378.288, 379.164, 380.03999999999996, 380.916, 381.79200000000003, 382.668, 383.544, 384.42, 385.296, 386.172, 387.048, 387.924, 388.8, 389.676, 390.552, 391.428, 392.304, 393.18, 394.056, 394.932, 395.808, 396.684, 397.56, 398.436, 399.312, 400.188, 401.064, 401.94, 402.816, 403.692, 404.568, 405.444, 406.32, 407.196, 408.072, 408.948, 409.824, 410.7, 411.576, 412.452, 413.328, 414.204, 415.08, 415.956, 416.832, 417.708, 418.584, 419.46, 420.336, 421.212, 422.088, 422.964, 423.84, 424.716, 425.592, 426.468, 427.344, 428.22, 429.096, 429.972, 430.848, 431.724, 432.6, 433.476, 434.352, 435.228, 436.104, 436.98, 437.856, 438.732, 439.608, 440.484, 441.36, 442.236, 443.112, 443.988, 444.864, 445.74, 446.616, 447.492, 448.368, 449.244, 450.12, 450.996, 451.872, 452.748, 453.624, 454.5, 455.376, 456.252, 457.128, 458.004, 458.88, 459.756, 460.632, 461.508, 462.384, 463.26, 464.136, 465.012, 465.888, 466.764, 467.64, 468.516, 469.392, 470.268, 471.144, 472.02, 472.896, 473.772, 474.648, 475.524, 476.4, 477.276, 478.152, 479.028, 479.904, 480.78, 481.656, 482.532, 483.408, 484.284, 485.16, 486.036, 486.912, 487.788, 488.664, 489.54, 490.416, 491.292, 492.168, 493.044, 493.92, 494.796, 495.672, 496.548, 497.424, 498.3, 499.176, 500.052, 500.928, 501.804, 502.68, 503.556, 504.432, 505.308, 506.184, 507.06, 507.936, 508.812, 509.688, 510.564, 511.44, 512.316, 513.192, 514.068, 514.944, 515.8199999999999, 516.696, 517.572, 518.448, 519.3240000000001, 520.2, 521.076, 521.952, 522.828, 523.704, 524.5799999999999, 525.456, 526.332, 527.2080000000001, 528.0840000000001, 528.96, 529.836, 530.712, 531.588, 532.4639999999999, 533.3399999999999, 534.216, 535.092, 535.9680000000001, 536.844, 537.72, 538.596, 539.472, 540.348, 541.2239999999999, 542.1, 542.976, 543.852, 544.7280000000001, 545.604, 546.48, 547.356, 548.232, 549.108, 549.9839999999999, 550.86, 551.736, 552.6120000000001, 553.488, 554.364, 555.24, 556.116, 556.992, 557.8679999999999, 558.744, 559.62, 560.496, 561.3720000000001, 562.248, 563.124], \"xaxis\": \"x\", \"y\": [0.00032345758155982626, 0.00033872217664405725, 0.00035445905450977826, 0.0003706967632080767, 0.00038746765990881754, 0.000404807956652734, 0.000422757717573408, 0.00044136080524695, 0.0004606647744875305, 0.0004807207126205483, 0.0005015830260260835, 0.0005233091735465099, 0.000545959348186186, 0.0005695961093898214, 0.0005942839690596273, 0.0006200889353492092, 0.0006470780191418974, 0.0006753187089690076, 0.0007048784209337785, 0.0007358239309620615, 0.0007682207973823778, 0.0008021327824252468, 0.0008376212817036045, 0.000874744771070561, 0.0009135582804261265, 0.0009541129040400585, 0.0009964553567544784, 0.0010406275850113385, 0.001086666441003494, 0.0011346034273666287, 0.0011844645187105733, 0.0012362700649377282, 0.0012900347797253568, 0.0013457678157782983, 0.0014034729265172048, 0.0014631487117922983, 0.0015247889430484564, 0.0015883829611667874, 0.0016539161380293647, 0.001721370390761066, 0.0017907247356628122, 0.0018619558671316317, 0.0019350387454328106, 0.002009947176111421, 0.0020866543631630954, 0.002165133417876787, 0.002245357805554338, 0.002327301713129386, 0.0024109403220622626, 0.0024962499727737455, 0.0025832082092760544, 0.0026717936955243378, 0.0027619859982889452, 0.002853765234963143, 0.002947111588583521, 0.0030420046963480665, 0.0031384229219569757, 0.0032363425260531035, 0.003335736752778544, 0.0034365748538686975, 0.003538821074654681, 0.003642433628731135, 0.003747363689771134, 0.0038535544299524733, 0.003960940134640685, 0.00406944542231569, 0.0041789845972186575, 0.004289461159847586, 0.004400767497285051, 0.004512784771466002, 0.0046253830189799455, 0.004738421470964702, 0.004851749096221174, 0.0049652053650115395, 0.005078621225255741, 0.005191820277180972, 0.0053046201270729254, 0.005416833895788768, 0.0055282718532734705, 0.005638743146609799, 0.005748057586247621, 0.0058560274530928625, 0.005962469288158751, 0.0060672056265291185, 0.006170066638462685, 0.006270891642553574, 0.006369530458902145, 0.006465844574156985, 0.006559708094954295, 0.006651008471568884, 0.006739646979353241, 0.006825538951608117, 0.0069086137637277625, 0.006988814574616792, 0.007066097837308523, 0.007140432596260894, 0.007211799593809573, 0.007280190212585057, 0.007345605284235524, 0.007408053797451365, 0.0074675515399994785, 0.007524119710211148, 0.007577783533126892, 0.0076285709153062495, 0.007676511170218625, 0.007721633843218254, 0.007763967661476514, 0.007803539630017406, 0.007840374290313385, 0.007874493152894638, 0.007905914310256277, 0.007934652231168553, 0.007960717732451906, 0.007984118119514091, 0.008004857482586836, 0.008022937131759196, 0.008038356150676823, 0.008051112046234469, 0.008061201469784014, 0.00806862098434053, 0.008073367851997965, 0.008075440816247422, 0.008074840855084024, 0.008071571882637154, 0.00806564137948424, 0.00805706093472546, 0.008045846686201067, 0.008032019648819048, 0.008015605924714828, 0.007996636792773423, 0.007975148678796605, 0.007951183011187246, 0.007924785970352764, 0.007896008143011127, 0.007864904095142197, 0.007831531879403731, 0.007795952494378793, 0.007758229314010866, 0.007718427506001195, 0.007676613457792439, 0.007632854228061017, 0.007587217040421582, 0.007539768834353899, 0.007490575886255007, 0.0074397035110622695, 0.007387215852161529, 0.007333175764368701, 0.007277644791737245, 0.007220683238881651, 0.007162350331503243, 0.007102704458941196, 0.007041803488922772, 0.006979705142324734, 0.006916467413742052, 0.006852149022043814, 0.006786809873919208, 0.006720511522710644, 0.006653317604611155, 0.006585294234577085, 0.006516510345065363, 0.006447037951930417, 0.006376952333475161, 0.006306332110706326, 0.0062352592192407305, 0.006163818765991938, 0.006092098766664974, 0.006020189763132861, 0.005948184322885535, 0.005876176425852838, 0.005804260746933602, 0.005732531845434777, 0.0056610832752697834, 0.005590006632116225, 0.005519390555730806, 0.00544931970721381, 0.005379873742164408, 0.005311126301340855, 0.005243144040616149, 0.005175985721692538, 0.005109701384209403, 0.0050443316185666024, 0.004979906957013889, 0.0049164473983669965, 0.004853962079149214, 0.0047924491010825805, 0.004731895521729335, 0.004672277511784887, 0.004613560679123505, 0.004555700556277274, 0.0044986432446664885, 0.004442326205675676, 0.004386679185658367, 0.004331625259227642, 0.004277081972810867, 0.004222962568472793, 0.004169177266485067, 0.004115634584077841, 0.0040622426672705814, 0.004008910612655271, 0.003955549756489653, 0.0039020749094357474, 0.003848405516717977, 0.0037944667253355636, 0.0037401903421926414, 0.003685515669545892, 0.0036303902069449783, 0.0035747702117821735, 0.003518621113597585, 0.003461917780328062, 0.0034046446376649253, 0.00334679564552616, 0.003288374138286134, 0.003229392537780654, 0.0031698719501689764, 0.0031098416594460207, 0.0030493385317315737, 0.002988406345401307, 0.002927095062663389, 0.002865460058332383, 0.0028035613213268267, 0.0027414626438474034, 0.0026792308123165507, 0.0026169348130208477, 0.0025546450640454993, 0.0024924326835773438, 0.002430368803034153, 0.0023685239318075577, 0.002306967378735856, 0.002245766733799739, 0.0021849874120010797, 0.00212469225997813, 0.0020649412246597563, 0.002005791082186732, 0.0019472952244436572, 0.001889503499855646, 0.0018324621046071994, 0.0017762135201277694, 0.0017207964925440666, 0.0016662460498026639, 0.0016125935522949568, 0.0015598667730425517, 0.0015080900037975813, 0.001457284183751874, 0.0014074670479040372, 0.0013586532924812066, 0.00131085475513064, 0.0012640806078684104, 0.0012183375609858757, 0.0011736300762601618, 0.001129960587889993, 0.0010873297295835502, 0.0010457365661656229, 0.0010051788279570306, 0.0009656531460216723, 0.0009271552861903576, 0.0008896803795726136, 0.0008532231470737911, 0.0008177781152630294, 0.0007833398208031698, 0.0007499030005708915, 0.0007174627645767742, 0.0006860147488490563, 0.0006555552455782456, 0.0006260813080348178, 0.0005975908280680164, 0.0005700825843662753, 0.0005435562601012914, 0.0005180124290778194, 0.0004934525100574801, 0.00046987868950202683, 0.0004472938135741915, 0.0004257012508254938, 0.0004051047275736977, 0.00038550813851224167, 0.00036691533558473745, 0.0003493298985869715, 0.0003327548913155815, 0.0003171926073583672, 0.00030264430981055213, 0.00028910996930129885, 0.00027658800472528204, 0.00026507503099823114, 0.0002545656179978679, 0.0002450520646203581, 0.00023652419158637304, 0.000228969156280756, 0.0002223712925172992, 0.00021671197769715004, 0.00021196952938798812, 0.0002081191329027887, 0.0002051328010123385, 0.0002029793664941073, 0.0002016245078094399, 0.0002010308078174306, 0.0002011578450816539, 0.00020196231700752196, 0.00020339819376412484, 0.0002054169016939803, 0.0002079675346946979, 0.00021099709186458136, 0.00021445073953515036, 0.0002182720956625266, 0.00022240353441148987, 0.00022678650863590738, 0.00023136188783286256, 0.00023607030902178246, 0.00024085253787182114, 0.00024564983726983584, 0.00025040434038789807, 0.00025505942517548886, 0.00025956008707070475, 0.0002638533066018882, 0.00026788840844193043, 0.00027161740838912215, 0.00027499534468824, 0.0002779805900813861, 0.00028053514099752463, 0.000282624880359816, 0.0002842198106168934, 0.00028529425379309316, 0.0002858270156066294, 0.000285801511025236, 0.00028520584901522923, 0.0002840328746894371, 0.0002822801675669072, 0.0002799499952154518, 0.00027704922214760275, 0.0002735891744702378, 0.00026958546143531354, 0.0002650577556899197, 0.00026002953466361373, 0.00025452778614479325, 0.00024858268167093613, 0.00024222722187580662, 0.00023549685838717506, 0.00022842909723976219, 0.0002210630890505021, 0.00021343921138940148, 0.00020559864886449792, 0.00019758297642137387, 0.00018943375123680006, 0.00018119211836554054, 0.00017289843498464964, 0.00016459191767891136, 0.00015631031673436654, 0.000148089620866086, 0.00013996379521475692, 0.00013196455481838263, 0.00012412117511540933, 0.00011646034037863352, 0.00010900603032996424, 0.00010177944455846971, 9.479896377075871e-05, 8.80801463552806e-05, 8.163575825018512e-05, 7.547583367599649e-05, 6.960776393553873e-05, 6.403641119818063e-05, 5.876424397557648e-05, 5.379149086158906e-05, 4.911630904816173e-05, 4.47349641380193e-05, 4.0642017849221445e-05, 3.683052033954478e-05, 3.3292204063218904e-05, 3.0017676300775877e-05, 2.699660776633381e-05, 2.4217914986980943e-05, 2.1669934457577573e-05, 1.9340586893048382e-05, 1.7217530221377866e-05, 1.5288300276952842e-05, 1.3540438459327293e-05, 1.1961605911430236e-05, 1.0539684039212592e-05, 9.26286143814065e-06, 8.11970750817067e-06, 7.099233226212587e-06, 6.1909397027471395e-06, 5.384855277200961e-06, 4.671562005571419e-06, 4.0422124649131705e-06, 3.4885378444646846e-06, 3.002848314578499e-06, 2.5780266647319363e-06, 2.2075161834088895e-06, 1.8853037183388673e-06, 1.6058988082608453e-06, 1.364309719772319e-06, 1.1560171575475008e-06, 9.76946345697323e-07, 8.234381045210155e-07, 6.922194723498138e-07, 5.803743483277788e-07, 4.853145602741748e-07, 4.047516934186574e-07, 3.3666995173269106e-07, 2.793002644966598e-07, 2.310957971155201e-07, 1.9070897730411618e-07, 1.5697010570672566e-07, 1.2886758374705345e-07, 1.0552976085312533e-07, 8.620837789792041e-08, 7.026356339670382e-08, 5.715032330941117e-08, 4.64064537808128e-08, 3.764179836546184e-08, 3.0528766779694106e-08, 2.479403055914659e-08, 2.0211311756095538e-08, 1.6595183590044745e-08, 1.3795806400398305e-08, 1.1694528006670568e-08, 1.0200284356480999e-08, 9.246743862948978e-09, 8.790146858322143e-09, 8.807799902641965e-09, 9.297193089533612e-09, 1.0275716807280292e-08, 1.1780962475902183e-08, 1.3871599430910343e-08, 1.6628827205230217e-08, 2.0158408814137045e-08, 2.459329611009021e-08, 3.0096862672756207e-08, 3.686676285154312e-08, 4.513943728966534e-08, 5.519528532549594e-08, 6.736452287547322e-08, 8.203374053487226e-08, 9.96531704704757e-08, 1.2074466201228272e-07, 1.4591035448605803e-07, 1.7584202159808545e-07, 2.1133104446066454e-07, 2.5327895005760603e-07, 3.027084285865797e-07, 3.607747167568822e-07, 4.287772049421932e-07, 5.081710943775154e-07, 6.005788967655662e-07, 7.078015332756986e-07, 8.318287536853142e-07, 9.748485601869467e-07, 1.1392552851791883e-06, 1.3276559393389952e-06, 1.5428744167372944e-06, 1.7879531191310861e-06, 2.066151543355177e-06, 2.3809413655188225e-06, 2.735997555076862e-06, 3.1351850623435827e-06, 3.58254064612222e-06, 4.082249445144576e-06, 4.638615949048792e-06, 5.256029092481282e-06, 5.938921280037214e-06, 6.691721250188295e-06, 7.5188008026271255e-06, 8.424415544604661e-06, 9.412639956280604e-06, 1.0487297230697643e-05, 1.1651884507956555e-05, 1.2909494292169406e-05, 1.4262733009888495e-05, 1.5713637835567834e-05, 1.726359306840018e-05, 1.891324749052074e-05, 2.066243426378487e-05, 2.251009502590622e-05, 2.4454209921528487e-05, 2.6491735345081075e-05, 2.8618551175789464e-05, 3.082941924744543e-05, 3.3117954713884556e-05, 3.5476611843974123e-05, 3.7896685606906694e-05, 4.036833019064119e-05, 4.288059533571964e-05, 4.542148106712594e-05, 4.797801107340166e-05, 5.053632462133665e-05, 5.3081786513811886e-05, 5.559911420644333e-05, 5.807252080508304e-05, 6.0485872281033e-05, 6.282285687441542e-05, 6.506716431883978e-05, 6.720267222240113e-05, 6.921363669037488e-05, 7.108488408219062e-05, 7.280200066634683e-05, 7.435151687738264e-05, 7.572108289255536e-05, 7.689963233418005e-05, 7.787753106637234e-05, 7.864670828970464e-05, 7.920076743952983e-05, 7.953507475690691e-05], \"yaxis\": \"y\"}],                        {\"barmode\": \"overlay\", \"hovermode\": \"closest\", \"legend\": {\"traceorder\": \"reversed\"}, \"template\": {\"data\": {\"bar\": [{\"error_x\": {\"color\": \"#2a3f5f\"}, \"error_y\": {\"color\": \"#2a3f5f\"}, \"marker\": {\"line\": {\"color\": \"#E5ECF6\", \"width\": 0.5}}, \"type\": \"bar\"}], \"barpolar\": [{\"marker\": {\"line\": {\"color\": \"#E5ECF6\", \"width\": 0.5}}, \"type\": \"barpolar\"}], \"carpet\": [{\"aaxis\": {\"endlinecolor\": \"#2a3f5f\", \"gridcolor\": \"white\", \"linecolor\": \"white\", \"minorgridcolor\": \"white\", \"startlinecolor\": \"#2a3f5f\"}, \"baxis\": {\"endlinecolor\": \"#2a3f5f\", \"gridcolor\": \"white\", \"linecolor\": \"white\", \"minorgridcolor\": \"white\", \"startlinecolor\": \"#2a3f5f\"}, \"type\": \"carpet\"}], \"choropleth\": [{\"colorbar\": {\"outlinewidth\": 0, \"ticks\": \"\"}, \"type\": \"choropleth\"}], \"contour\": [{\"colorbar\": {\"outlinewidth\": 0, \"ticks\": \"\"}, \"colorscale\": [[0.0, \"#0d0887\"], [0.1111111111111111, \"#46039f\"], [0.2222222222222222, \"#7201a8\"], [0.3333333333333333, \"#9c179e\"], [0.4444444444444444, \"#bd3786\"], [0.5555555555555556, \"#d8576b\"], [0.6666666666666666, \"#ed7953\"], [0.7777777777777778, \"#fb9f3a\"], [0.8888888888888888, \"#fdca26\"], [1.0, \"#f0f921\"]], \"type\": \"contour\"}], \"contourcarpet\": [{\"colorbar\": {\"outlinewidth\": 0, \"ticks\": \"\"}, \"type\": \"contourcarpet\"}], \"heatmap\": [{\"colorbar\": {\"outlinewidth\": 0, \"ticks\": \"\"}, \"colorscale\": [[0.0, \"#0d0887\"], [0.1111111111111111, \"#46039f\"], [0.2222222222222222, \"#7201a8\"], [0.3333333333333333, \"#9c179e\"], [0.4444444444444444, \"#bd3786\"], [0.5555555555555556, \"#d8576b\"], [0.6666666666666666, \"#ed7953\"], [0.7777777777777778, \"#fb9f3a\"], [0.8888888888888888, \"#fdca26\"], [1.0, \"#f0f921\"]], \"type\": \"heatmap\"}], \"heatmapgl\": [{\"colorbar\": {\"outlinewidth\": 0, \"ticks\": \"\"}, \"colorscale\": [[0.0, \"#0d0887\"], [0.1111111111111111, \"#46039f\"], [0.2222222222222222, \"#7201a8\"], [0.3333333333333333, \"#9c179e\"], [0.4444444444444444, \"#bd3786\"], [0.5555555555555556, \"#d8576b\"], [0.6666666666666666, \"#ed7953\"], [0.7777777777777778, \"#fb9f3a\"], [0.8888888888888888, \"#fdca26\"], [1.0, \"#f0f921\"]], \"type\": \"heatmapgl\"}], \"histogram\": [{\"marker\": {\"colorbar\": {\"outlinewidth\": 0, \"ticks\": \"\"}}, \"type\": \"histogram\"}], \"histogram2d\": [{\"colorbar\": {\"outlinewidth\": 0, \"ticks\": \"\"}, \"colorscale\": [[0.0, \"#0d0887\"], [0.1111111111111111, \"#46039f\"], [0.2222222222222222, \"#7201a8\"], [0.3333333333333333, \"#9c179e\"], [0.4444444444444444, \"#bd3786\"], [0.5555555555555556, \"#d8576b\"], [0.6666666666666666, \"#ed7953\"], [0.7777777777777778, \"#fb9f3a\"], [0.8888888888888888, \"#fdca26\"], [1.0, \"#f0f921\"]], \"type\": \"histogram2d\"}], \"histogram2dcontour\": [{\"colorbar\": {\"outlinewidth\": 0, \"ticks\": \"\"}, \"colorscale\": [[0.0, \"#0d0887\"], [0.1111111111111111, \"#46039f\"], [0.2222222222222222, \"#7201a8\"], [0.3333333333333333, \"#9c179e\"], [0.4444444444444444, \"#bd3786\"], [0.5555555555555556, \"#d8576b\"], [0.6666666666666666, \"#ed7953\"], [0.7777777777777778, \"#fb9f3a\"], [0.8888888888888888, \"#fdca26\"], [1.0, \"#f0f921\"]], \"type\": \"histogram2dcontour\"}], \"mesh3d\": [{\"colorbar\": {\"outlinewidth\": 0, \"ticks\": \"\"}, \"type\": \"mesh3d\"}], \"parcoords\": [{\"line\": {\"colorbar\": {\"outlinewidth\": 0, \"ticks\": \"\"}}, \"type\": \"parcoords\"}], \"pie\": [{\"automargin\": true, \"type\": \"pie\"}], \"scatter\": [{\"marker\": {\"colorbar\": {\"outlinewidth\": 0, \"ticks\": \"\"}}, \"type\": \"scatter\"}], \"scatter3d\": [{\"line\": {\"colorbar\": {\"outlinewidth\": 0, \"ticks\": \"\"}}, \"marker\": {\"colorbar\": {\"outlinewidth\": 0, \"ticks\": \"\"}}, \"type\": \"scatter3d\"}], \"scattercarpet\": [{\"marker\": {\"colorbar\": {\"outlinewidth\": 0, \"ticks\": \"\"}}, \"type\": \"scattercarpet\"}], \"scattergeo\": [{\"marker\": {\"colorbar\": {\"outlinewidth\": 0, \"ticks\": \"\"}}, \"type\": \"scattergeo\"}], \"scattergl\": [{\"marker\": {\"colorbar\": {\"outlinewidth\": 0, \"ticks\": \"\"}}, \"type\": \"scattergl\"}], \"scattermapbox\": [{\"marker\": {\"colorbar\": {\"outlinewidth\": 0, \"ticks\": \"\"}}, \"type\": \"scattermapbox\"}], \"scatterpolar\": [{\"marker\": {\"colorbar\": {\"outlinewidth\": 0, \"ticks\": \"\"}}, \"type\": \"scatterpolar\"}], \"scatterpolargl\": [{\"marker\": {\"colorbar\": {\"outlinewidth\": 0, \"ticks\": \"\"}}, \"type\": \"scatterpolargl\"}], \"scatterternary\": [{\"marker\": {\"colorbar\": {\"outlinewidth\": 0, \"ticks\": \"\"}}, \"type\": \"scatterternary\"}], \"surface\": [{\"colorbar\": {\"outlinewidth\": 0, \"ticks\": \"\"}, \"colorscale\": [[0.0, \"#0d0887\"], [0.1111111111111111, \"#46039f\"], [0.2222222222222222, \"#7201a8\"], [0.3333333333333333, \"#9c179e\"], [0.4444444444444444, \"#bd3786\"], [0.5555555555555556, \"#d8576b\"], [0.6666666666666666, \"#ed7953\"], [0.7777777777777778, \"#fb9f3a\"], [0.8888888888888888, \"#fdca26\"], [1.0, \"#f0f921\"]], \"type\": \"surface\"}], \"table\": [{\"cells\": {\"fill\": {\"color\": \"#EBF0F8\"}, \"line\": {\"color\": \"white\"}}, \"header\": {\"fill\": {\"color\": \"#C8D4E3\"}, \"line\": {\"color\": \"white\"}}, \"type\": \"table\"}]}, \"layout\": {\"annotationdefaults\": {\"arrowcolor\": \"#2a3f5f\", \"arrowhead\": 0, \"arrowwidth\": 1}, \"coloraxis\": {\"colorbar\": {\"outlinewidth\": 0, \"ticks\": \"\"}}, \"colorscale\": {\"diverging\": [[0, \"#8e0152\"], [0.1, \"#c51b7d\"], [0.2, \"#de77ae\"], [0.3, \"#f1b6da\"], [0.4, \"#fde0ef\"], [0.5, \"#f7f7f7\"], [0.6, \"#e6f5d0\"], [0.7, \"#b8e186\"], [0.8, \"#7fbc41\"], [0.9, \"#4d9221\"], [1, \"#276419\"]], \"sequential\": [[0.0, \"#0d0887\"], [0.1111111111111111, \"#46039f\"], [0.2222222222222222, \"#7201a8\"], [0.3333333333333333, \"#9c179e\"], [0.4444444444444444, \"#bd3786\"], [0.5555555555555556, \"#d8576b\"], [0.6666666666666666, \"#ed7953\"], [0.7777777777777778, \"#fb9f3a\"], [0.8888888888888888, \"#fdca26\"], [1.0, \"#f0f921\"]], \"sequentialminus\": [[0.0, \"#0d0887\"], [0.1111111111111111, \"#46039f\"], [0.2222222222222222, \"#7201a8\"], [0.3333333333333333, \"#9c179e\"], [0.4444444444444444, \"#bd3786\"], [0.5555555555555556, \"#d8576b\"], [0.6666666666666666, \"#ed7953\"], [0.7777777777777778, \"#fb9f3a\"], [0.8888888888888888, \"#fdca26\"], [1.0, \"#f0f921\"]]}, \"colorway\": [\"#636efa\", \"#EF553B\", \"#00cc96\", \"#ab63fa\", \"#FFA15A\", \"#19d3f3\", \"#FF6692\", \"#B6E880\", \"#FF97FF\", \"#FECB52\"], \"font\": {\"color\": \"#2a3f5f\"}, \"geo\": {\"bgcolor\": \"white\", \"lakecolor\": \"white\", \"landcolor\": \"#E5ECF6\", \"showlakes\": true, \"showland\": true, \"subunitcolor\": \"white\"}, \"hoverlabel\": {\"align\": \"left\"}, \"hovermode\": \"closest\", \"mapbox\": {\"style\": \"light\"}, \"paper_bgcolor\": \"white\", \"plot_bgcolor\": \"#E5ECF6\", \"polar\": {\"angularaxis\": {\"gridcolor\": \"white\", \"linecolor\": \"white\", \"ticks\": \"\"}, \"bgcolor\": \"#E5ECF6\", \"radialaxis\": {\"gridcolor\": \"white\", \"linecolor\": \"white\", \"ticks\": \"\"}}, \"scene\": {\"xaxis\": {\"backgroundcolor\": \"#E5ECF6\", \"gridcolor\": \"white\", \"gridwidth\": 2, \"linecolor\": \"white\", \"showbackground\": true, \"ticks\": \"\", \"zerolinecolor\": \"white\"}, \"yaxis\": {\"backgroundcolor\": \"#E5ECF6\", \"gridcolor\": \"white\", \"gridwidth\": 2, \"linecolor\": \"white\", \"showbackground\": true, \"ticks\": \"\", \"zerolinecolor\": \"white\"}, \"zaxis\": {\"backgroundcolor\": \"#E5ECF6\", \"gridcolor\": \"white\", \"gridwidth\": 2, \"linecolor\": \"white\", \"showbackground\": true, \"ticks\": \"\", \"zerolinecolor\": \"white\"}}, \"shapedefaults\": {\"line\": {\"color\": \"#2a3f5f\"}}, \"ternary\": {\"aaxis\": {\"gridcolor\": \"white\", \"linecolor\": \"white\", \"ticks\": \"\"}, \"baxis\": {\"gridcolor\": \"white\", \"linecolor\": \"white\", \"ticks\": \"\"}, \"bgcolor\": \"#E5ECF6\", \"caxis\": {\"gridcolor\": \"white\", \"linecolor\": \"white\", \"ticks\": \"\"}}, \"title\": {\"x\": 0.05}, \"xaxis\": {\"automargin\": true, \"gridcolor\": \"white\", \"linecolor\": \"white\", \"ticks\": \"\", \"title\": {\"standoff\": 15}, \"zerolinecolor\": \"white\", \"zerolinewidth\": 2}, \"yaxis\": {\"automargin\": true, \"gridcolor\": \"white\", \"linecolor\": \"white\", \"ticks\": \"\", \"title\": {\"standoff\": 15}, \"zerolinecolor\": \"white\", \"zerolinewidth\": 2}}}, \"title\": {\"text\": \"Serum Cholesterol Distribution\"}, \"width\": 700, \"xaxis\": {\"anchor\": \"y2\", \"domain\": [0.0, 1.0], \"zeroline\": false}, \"yaxis\": {\"anchor\": \"free\", \"domain\": [0.0, 1], \"position\": 0.0}},                        {\"responsive\": true}                    ).then(function(){\n",
       "                            \n",
       "var gd = document.getElementById('dc4caa2c-fb2f-4be9-984e-7c0b8dae243a');\n",
       "var x = new MutationObserver(function (mutations, observer) {{\n",
       "        var display = window.getComputedStyle(gd).display;\n",
       "        if (!display || display === 'none') {{\n",
       "            console.log([gd, 'removed!']);\n",
       "            Plotly.purge(gd);\n",
       "            observer.disconnect();\n",
       "        }}\n",
       "}});\n",
       "\n",
       "// Listen for the removal of the full notebook cells\n",
       "var notebookContainer = gd.closest('#notebook-container');\n",
       "if (notebookContainer) {{\n",
       "    x.observe(notebookContainer, {childList: true});\n",
       "}}\n",
       "\n",
       "// Listen for the clearing of the current output cell\n",
       "var outputEl = gd.closest('.output');\n",
       "if (outputEl) {{\n",
       "    x.observe(outputEl, {childList: true});\n",
       "}}\n",
       "\n",
       "                        })                };                });            </script>        </div>"
      ]
     },
     "metadata": {},
     "output_type": "display_data"
    }
   ],
   "source": [
    "# The distribution of Serum Cholesterol\n",
    "hist_data = [data['chol']]\n",
    "group_labels = ['serum_cholesterol'] \n",
    "colors = ['#007ED6']\n",
    "fig = ff.create_distplot(hist_data, group_labels=group_labels, colors=colors,\n",
    "                         bin_size=10, show_rug=False)\n",
    "fig.update_layout(width=700, title_text='Serum Cholesterol Distribution')\n",
    "fig.show()"
   ]
  },
  {
   "cell_type": "code",
   "execution_count": 422,
   "metadata": {},
   "outputs": [
    {
     "data": {
      "image/png": "[encoded data removed]",
      "text/plain": [
       "<Figure size 432x288 with 1 Axes>"
      ]
     },
     "metadata": {},
     "output_type": "display_data"
    }
   ],
   "source": [
    "ch1 = data[data[\"target\"] == 1][\"chol\"]\n",
    "\n",
    "bar_width = 0.25\n",
    "plt.hist(ch1, color = \"red\", bins=25, rwidth=1, label=\"Disease\")\n",
    "plt.title(\"Distribution of Cholesterol\")\n",
    "plt.xlabel(\"Cholesterol\")\n",
    "plt.ylabel(\"Frequency\")\n",
    "plt.legend()\n",
    "plt.show() "
   ]
  },
  {
   "cell_type": "markdown",
   "metadata": {},
   "source": [
    "### Creating a dummy variables."
   ]
  },
  {
   "cell_type": "code",
   "execution_count": 423,
   "metadata": {},
   "outputs": [],
   "source": [
    "a = pd.get_dummies(df['cp'], prefix = \"cp\") # cp is a categorical variable, we turn it into a dummy variables.\n",
    "b = pd.get_dummies(df['thal'], prefix = \"thal\") # thal is a categorical variable, we turn it into a dummy variables.\n",
    "c = pd.get_dummies(df['slope'], prefix = \"slope\") # slope is a categorical variable, we turn it into a dummy variables."
   ]
  },
  {
   "cell_type": "code",
   "execution_count": 424,
   "metadata": {},
   "outputs": [
    {
     "data": {
      "text/html": [
       "<div>\n",
       "<style scoped>\n",
       "    .dataframe tbody tr th:only-of-type {\n",
       "        vertical-align: middle;\n",
       "    }\n",
       "\n",
       "    .dataframe tbody tr th {\n",
       "        vertical-align: top;\n",
       "    }\n",
       "\n",
       "    .dataframe thead th {\n",
       "        text-align: right;\n",
       "    }\n",
       "</style>\n",
       "<table border=\"1\" class=\"dataframe\">\n",
       "  <thead>\n",
       "    <tr style=\"text-align: right;\">\n",
       "      <th></th>\n",
       "      <th>age</th>\n",
       "      <th>sex</th>\n",
       "      <th>cp</th>\n",
       "      <th>trestbps</th>\n",
       "      <th>chol</th>\n",
       "      <th>fbs</th>\n",
       "      <th>restecg</th>\n",
       "      <th>thalach</th>\n",
       "      <th>exang</th>\n",
       "      <th>oldpeak</th>\n",
       "      <th>...</th>\n",
       "      <th>cp_1</th>\n",
       "      <th>cp_2</th>\n",
       "      <th>cp_3</th>\n",
       "      <th>thal_0</th>\n",
       "      <th>thal_1</th>\n",
       "      <th>thal_2</th>\n",
       "      <th>thal_3</th>\n",
       "      <th>slope_0</th>\n",
       "      <th>slope_1</th>\n",
       "      <th>slope_2</th>\n",
       "    </tr>\n",
       "  </thead>\n",
       "  <tbody>\n",
       "    <tr>\n",
       "      <th>0</th>\n",
       "      <td>63</td>\n",
       "      <td>1</td>\n",
       "      <td>3</td>\n",
       "      <td>145</td>\n",
       "      <td>233</td>\n",
       "      <td>1</td>\n",
       "      <td>0</td>\n",
       "      <td>150</td>\n",
       "      <td>0</td>\n",
       "      <td>2.3</td>\n",
       "      <td>...</td>\n",
       "      <td>0</td>\n",
       "      <td>0</td>\n",
       "      <td>1</td>\n",
       "      <td>0</td>\n",
       "      <td>1</td>\n",
       "      <td>0</td>\n",
       "      <td>0</td>\n",
       "      <td>1</td>\n",
       "      <td>0</td>\n",
       "      <td>0</td>\n",
       "    </tr>\n",
       "    <tr>\n",
       "      <th>1</th>\n",
       "      <td>37</td>\n",
       "      <td>1</td>\n",
       "      <td>2</td>\n",
       "      <td>130</td>\n",
       "      <td>250</td>\n",
       "      <td>0</td>\n",
       "      <td>1</td>\n",
       "      <td>187</td>\n",
       "      <td>0</td>\n",
       "      <td>3.5</td>\n",
       "      <td>...</td>\n",
       "      <td>0</td>\n",
       "      <td>1</td>\n",
       "      <td>0</td>\n",
       "      <td>0</td>\n",
       "      <td>0</td>\n",
       "      <td>1</td>\n",
       "      <td>0</td>\n",
       "      <td>1</td>\n",
       "      <td>0</td>\n",
       "      <td>0</td>\n",
       "    </tr>\n",
       "    <tr>\n",
       "      <th>2</th>\n",
       "      <td>41</td>\n",
       "      <td>0</td>\n",
       "      <td>1</td>\n",
       "      <td>130</td>\n",
       "      <td>204</td>\n",
       "      <td>0</td>\n",
       "      <td>0</td>\n",
       "      <td>172</td>\n",
       "      <td>0</td>\n",
       "      <td>1.4</td>\n",
       "      <td>...</td>\n",
       "      <td>1</td>\n",
       "      <td>0</td>\n",
       "      <td>0</td>\n",
       "      <td>0</td>\n",
       "      <td>0</td>\n",
       "      <td>1</td>\n",
       "      <td>0</td>\n",
       "      <td>0</td>\n",
       "      <td>0</td>\n",
       "      <td>1</td>\n",
       "    </tr>\n",
       "    <tr>\n",
       "      <th>3</th>\n",
       "      <td>56</td>\n",
       "      <td>1</td>\n",
       "      <td>1</td>\n",
       "      <td>120</td>\n",
       "      <td>236</td>\n",
       "      <td>0</td>\n",
       "      <td>1</td>\n",
       "      <td>178</td>\n",
       "      <td>0</td>\n",
       "      <td>0.8</td>\n",
       "      <td>...</td>\n",
       "      <td>1</td>\n",
       "      <td>0</td>\n",
       "      <td>0</td>\n",
       "      <td>0</td>\n",
       "      <td>0</td>\n",
       "      <td>1</td>\n",
       "      <td>0</td>\n",
       "      <td>0</td>\n",
       "      <td>0</td>\n",
       "      <td>1</td>\n",
       "    </tr>\n",
       "    <tr>\n",
       "      <th>4</th>\n",
       "      <td>57</td>\n",
       "      <td>0</td>\n",
       "      <td>0</td>\n",
       "      <td>120</td>\n",
       "      <td>354</td>\n",
       "      <td>0</td>\n",
       "      <td>1</td>\n",
       "      <td>163</td>\n",
       "      <td>1</td>\n",
       "      <td>0.6</td>\n",
       "      <td>...</td>\n",
       "      <td>0</td>\n",
       "      <td>0</td>\n",
       "      <td>0</td>\n",
       "      <td>0</td>\n",
       "      <td>0</td>\n",
       "      <td>1</td>\n",
       "      <td>0</td>\n",
       "      <td>0</td>\n",
       "      <td>0</td>\n",
       "      <td>1</td>\n",
       "    </tr>\n",
       "  </tbody>\n",
       "</table>\n",
       "<p>5 rows × 25 columns</p>\n",
       "</div>"
      ],
      "text/plain": [
       "   age  sex  cp  trestbps  chol  fbs  restecg  thalach  exang  oldpeak  ...  \\\n",
       "0   63    1   3       145   233    1        0      150      0      2.3  ...   \n",
       "1   37    1   2       130   250    0        1      187      0      3.5  ...   \n",
       "2   41    0   1       130   204    0        0      172      0      1.4  ...   \n",
       "3   56    1   1       120   236    0        1      178      0      0.8  ...   \n",
       "4   57    0   0       120   354    0        1      163      1      0.6  ...   \n",
       "\n",
       "   cp_1  cp_2  cp_3  thal_0  thal_1  thal_2  thal_3  slope_0  slope_1  slope_2  \n",
       "0     0     0     1       0       1       0       0        1        0        0  \n",
       "1     0     1     0       0       0       1       0        1        0        0  \n",
       "2     1     0     0       0       0       1       0        0        0        1  \n",
       "3     1     0     0       0       0       1       0        0        0        1  \n",
       "4     0     0     0       0       0       1       0        0        0        1  \n",
       "\n",
       "[5 rows x 25 columns]"
      ]
     },
     "execution_count": 424,
     "metadata": {},
     "output_type": "execute_result"
    }
   ],
   "source": [
    "frames = [df, a, b, c] # defining the frames with a dummy variables.\n",
    "df = pd.concat(frames, axis = 1) # Using concat function to create our dataframes.\n",
    "df.head() # Having a look at the dataframe with new dummy variables."
   ]
  },
  {
   "cell_type": "code",
   "execution_count": 425,
   "metadata": {},
   "outputs": [
    {
     "data": {
      "text/html": [
       "<div>\n",
       "<style scoped>\n",
       "    .dataframe tbody tr th:only-of-type {\n",
       "        vertical-align: middle;\n",
       "    }\n",
       "\n",
       "    .dataframe tbody tr th {\n",
       "        vertical-align: top;\n",
       "    }\n",
       "\n",
       "    .dataframe thead th {\n",
       "        text-align: right;\n",
       "    }\n",
       "</style>\n",
       "<table border=\"1\" class=\"dataframe\">\n",
       "  <thead>\n",
       "    <tr style=\"text-align: right;\">\n",
       "      <th></th>\n",
       "      <th>age</th>\n",
       "      <th>sex</th>\n",
       "      <th>trestbps</th>\n",
       "      <th>chol</th>\n",
       "      <th>fbs</th>\n",
       "      <th>restecg</th>\n",
       "      <th>thalach</th>\n",
       "      <th>exang</th>\n",
       "      <th>oldpeak</th>\n",
       "      <th>ca</th>\n",
       "      <th>...</th>\n",
       "      <th>cp_1</th>\n",
       "      <th>cp_2</th>\n",
       "      <th>cp_3</th>\n",
       "      <th>thal_0</th>\n",
       "      <th>thal_1</th>\n",
       "      <th>thal_2</th>\n",
       "      <th>thal_3</th>\n",
       "      <th>slope_0</th>\n",
       "      <th>slope_1</th>\n",
       "      <th>slope_2</th>\n",
       "    </tr>\n",
       "  </thead>\n",
       "  <tbody>\n",
       "    <tr>\n",
       "      <th>0</th>\n",
       "      <td>63</td>\n",
       "      <td>1</td>\n",
       "      <td>145</td>\n",
       "      <td>233</td>\n",
       "      <td>1</td>\n",
       "      <td>0</td>\n",
       "      <td>150</td>\n",
       "      <td>0</td>\n",
       "      <td>2.3</td>\n",
       "      <td>0</td>\n",
       "      <td>...</td>\n",
       "      <td>0</td>\n",
       "      <td>0</td>\n",
       "      <td>1</td>\n",
       "      <td>0</td>\n",
       "      <td>1</td>\n",
       "      <td>0</td>\n",
       "      <td>0</td>\n",
       "      <td>1</td>\n",
       "      <td>0</td>\n",
       "      <td>0</td>\n",
       "    </tr>\n",
       "    <tr>\n",
       "      <th>1</th>\n",
       "      <td>37</td>\n",
       "      <td>1</td>\n",
       "      <td>130</td>\n",
       "      <td>250</td>\n",
       "      <td>0</td>\n",
       "      <td>1</td>\n",
       "      <td>187</td>\n",
       "      <td>0</td>\n",
       "      <td>3.5</td>\n",
       "      <td>0</td>\n",
       "      <td>...</td>\n",
       "      <td>0</td>\n",
       "      <td>1</td>\n",
       "      <td>0</td>\n",
       "      <td>0</td>\n",
       "      <td>0</td>\n",
       "      <td>1</td>\n",
       "      <td>0</td>\n",
       "      <td>1</td>\n",
       "      <td>0</td>\n",
       "      <td>0</td>\n",
       "    </tr>\n",
       "    <tr>\n",
       "      <th>2</th>\n",
       "      <td>41</td>\n",
       "      <td>0</td>\n",
       "      <td>130</td>\n",
       "      <td>204</td>\n",
       "      <td>0</td>\n",
       "      <td>0</td>\n",
       "      <td>172</td>\n",
       "      <td>0</td>\n",
       "      <td>1.4</td>\n",
       "      <td>0</td>\n",
       "      <td>...</td>\n",
       "      <td>1</td>\n",
       "      <td>0</td>\n",
       "      <td>0</td>\n",
       "      <td>0</td>\n",
       "      <td>0</td>\n",
       "      <td>1</td>\n",
       "      <td>0</td>\n",
       "      <td>0</td>\n",
       "      <td>0</td>\n",
       "      <td>1</td>\n",
       "    </tr>\n",
       "    <tr>\n",
       "      <th>3</th>\n",
       "      <td>56</td>\n",
       "      <td>1</td>\n",
       "      <td>120</td>\n",
       "      <td>236</td>\n",
       "      <td>0</td>\n",
       "      <td>1</td>\n",
       "      <td>178</td>\n",
       "      <td>0</td>\n",
       "      <td>0.8</td>\n",
       "      <td>0</td>\n",
       "      <td>...</td>\n",
       "      <td>1</td>\n",
       "      <td>0</td>\n",
       "      <td>0</td>\n",
       "      <td>0</td>\n",
       "      <td>0</td>\n",
       "      <td>1</td>\n",
       "      <td>0</td>\n",
       "      <td>0</td>\n",
       "      <td>0</td>\n",
       "      <td>1</td>\n",
       "    </tr>\n",
       "    <tr>\n",
       "      <th>4</th>\n",
       "      <td>57</td>\n",
       "      <td>0</td>\n",
       "      <td>120</td>\n",
       "      <td>354</td>\n",
       "      <td>0</td>\n",
       "      <td>1</td>\n",
       "      <td>163</td>\n",
       "      <td>1</td>\n",
       "      <td>0.6</td>\n",
       "      <td>0</td>\n",
       "      <td>...</td>\n",
       "      <td>0</td>\n",
       "      <td>0</td>\n",
       "      <td>0</td>\n",
       "      <td>0</td>\n",
       "      <td>0</td>\n",
       "      <td>1</td>\n",
       "      <td>0</td>\n",
       "      <td>0</td>\n",
       "      <td>0</td>\n",
       "      <td>1</td>\n",
       "    </tr>\n",
       "  </tbody>\n",
       "</table>\n",
       "<p>5 rows × 22 columns</p>\n",
       "</div>"
      ],
      "text/plain": [
       "   age  sex  trestbps  chol  fbs  restecg  thalach  exang  oldpeak  ca  ...  \\\n",
       "0   63    1       145   233    1        0      150      0      2.3   0  ...   \n",
       "1   37    1       130   250    0        1      187      0      3.5   0  ...   \n",
       "2   41    0       130   204    0        0      172      0      1.4   0  ...   \n",
       "3   56    1       120   236    0        1      178      0      0.8   0  ...   \n",
       "4   57    0       120   354    0        1      163      1      0.6   0  ...   \n",
       "\n",
       "   cp_1  cp_2  cp_3  thal_0  thal_1  thal_2  thal_3  slope_0  slope_1  slope_2  \n",
       "0     0     0     1       0       1       0       0        1        0        0  \n",
       "1     0     1     0       0       0       1       0        1        0        0  \n",
       "2     1     0     0       0       0       1       0        0        0        1  \n",
       "3     1     0     0       0       0       1       0        0        0        1  \n",
       "4     0     0     0       0       0       1       0        0        0        1  \n",
       "\n",
       "[5 rows x 22 columns]"
      ]
     },
     "execution_count": 425,
     "metadata": {},
     "output_type": "execute_result"
    }
   ],
   "source": [
    "df = df.drop(columns = ['cp', 'thal', 'slope']) # Dropping our categorical variables for our analysis.\n",
    "df.head()"
   ]
  },
  {
   "cell_type": "code",
   "execution_count": 426,
   "metadata": {},
   "outputs": [],
   "source": [
    "y = df.target.values\n",
    "x_data = df.drop(['target'], axis = 1)"
   ]
  },
  {
   "cell_type": "code",
   "execution_count": 427,
   "metadata": {},
   "outputs": [],
   "source": [
    "# Normalize\n",
    "x = (x_data - np.min(x_data)) / (np.max(x_data) - np.min(x_data)).values"
   ]
  },
  {
   "cell_type": "code",
   "execution_count": 428,
   "metadata": {},
   "outputs": [],
   "source": [
    "x_train, x_test, y_train, y_test = train_test_split(x,y,test_size = 0.2,random_state=0) # Training and testing  sets"
   ]
  },
  {
   "cell_type": "code",
   "execution_count": 429,
   "metadata": {},
   "outputs": [],
   "source": [
    "#transpose matrices\n",
    "x_train = x_train.T\n",
    "y_train = y_train.T\n",
    "x_test = x_test.T\n",
    "y_test = y_test.T"
   ]
  },
  {
   "cell_type": "markdown",
   "metadata": {},
   "source": [
    "### Logistic regression."
   ]
  },
  {
   "cell_type": "code",
   "execution_count": 430,
   "metadata": {},
   "outputs": [],
   "source": [
    "#initialize the data\n",
    "def initialize(dimension):\n",
    "    \n",
    "    weight = np.full((dimension,1),0.01) # weight is 0.01 and bias is 0.\n",
    "    bias = 0.0\n",
    "    return weight,bias"
   ]
  },
  {
   "cell_type": "code",
   "execution_count": 431,
   "metadata": {},
   "outputs": [],
   "source": [
    "#defining the frame Using the sigmoid function.\n",
    "def sigmoid(z):\n",
    "    \n",
    "    y_head = 1/(1+ np.exp(-z)) # A formula for sigmoid function. \n",
    "    return y_head"
   ]
  },
  {
   "cell_type": "code",
   "execution_count": 432,
   "metadata": {},
   "outputs": [
    {
     "name": "stdout",
     "output_type": "stream",
     "text": [
      "Test Accuracy 86.89%\n"
     ]
    }
   ],
   "source": [
    "# Determining the accuracy using Sklearn Logistic regression. \n",
    "# Note: We tried to reduce and increase the testing set percentages but we obtained lesser accuracies.\n",
    "# Splitting the datasets into 80% training and 20% testing provides us the maximum accuracies.\n",
    "accuracies = {}\n",
    "\n",
    "lr = LogisticRegression(random_state = 47) # Logistic regression function.\n",
    "lr.fit(x_train.T,y_train.T) # Determining accuracy using sklearn.\n",
    "acc = lr.score(x_test.T,y_test.T)*100 # Determination of accuracies.\n",
    "\n",
    "accuracies['Logistic Regression'] = acc \n",
    "print(\"Test Accuracy {:.2f}%\".format(acc)) # Having a view at our results."
   ]
  },
  {
   "cell_type": "markdown",
   "metadata": {},
   "source": [
    "#### This shows that our model works with 86.89% accuracy."
   ]
  },
  {
   "cell_type": "markdown",
   "metadata": {},
   "source": [
    "### K Nearest Neighbor "
   ]
  },
  {
   "cell_type": "code",
   "execution_count": 433,
   "metadata": {},
   "outputs": [
    {
     "name": "stdout",
     "output_type": "stream",
     "text": [
      "3 NN Score: 85.25%\n"
     ]
    }
   ],
   "source": [
    "# Determining the accuracy using K Nearest Neighbors. \n",
    "# Note: We tried to reduce and increase the value of K but we obtained lesser accuracies.\n",
    "# The highest accuracy we have obtained when we used n_neighbor (K) = 4. \n",
    "from sklearn.neighbors import KNeighborsClassifier # Using sklearn library to import KNN Classifiers.\n",
    "knn = KNeighborsClassifier(n_neighbors = 4)  # n_neighbors means k\n",
    "knn.fit(x_train.T, y_train.T) # Fitting the training sets in knn classifier. \n",
    "prediction = knn.predict(x_test.T) # Predicting the testing accuracies.\n",
    "\n",
    "print(\"{} NN Score: {:.2f}%\".format(3, knn.score(x_test.T, y_test.T)*100)) # Having a check on our results."
   ]
  },
  {
   "cell_type": "markdown",
   "metadata": {},
   "source": [
    "#### This shows that our model for KNN works with 88.52% accuracies when we use k=3,7,8."
   ]
  },
  {
   "cell_type": "markdown",
   "metadata": {},
   "source": [
    "### SVM Algorithm. "
   ]
  },
  {
   "cell_type": "code",
   "execution_count": 434,
   "metadata": {},
   "outputs": [
    {
     "name": "stdout",
     "output_type": "stream",
     "text": [
      "Test Accuracy of SVM Algorithm: 88.52%\n"
     ]
    }
   ],
   "source": [
    "# Determining the accuracy using SVM algorithm. \n",
    "# Note: We tried to reduce and increase the value of random state but we obtained same accuracies.\n",
    "from sklearn.svm import SVC # Using sklearn library to import Support vector machine algorithm.\n",
    "svm = SVC(random_state = 47) # Random state choosen to be 47.  \n",
    "svm.fit(x_train.T, y_train.T) # fitting the training sets into svm algorithm.\n",
    "\n",
    "acc = svm.score(x_test.T,y_test.T)*100 # Predicting the testing score. \n",
    "accuracies['SVM'] = acc # Determination of accuracies.\n",
    "print(\"Test Accuracy of SVM Algorithm: {:.2f}%\".format(acc)) # Having a few at our results. "
   ]
  },
  {
   "cell_type": "markdown",
   "metadata": {},
   "source": [
    "#### This shows that our model for SVM works with 88.52% accuracies."
   ]
  },
  {
   "cell_type": "markdown",
   "metadata": {},
   "source": [
    "### Naive Bayes Algorithm. "
   ]
  },
  {
   "cell_type": "code",
   "execution_count": 435,
   "metadata": {},
   "outputs": [
    {
     "name": "stdout",
     "output_type": "stream",
     "text": [
      "Accuracy of Naive Bayes: 86.89%\n"
     ]
    }
   ],
   "source": [
    "# Determining the accuracy using Naive Bayes algorithm. .\n",
    "from sklearn.naive_bayes import GaussianNB # Using sklearn library to import naive bayes algorithm.\n",
    "nb = GaussianNB() # Defining nb. \n",
    "nb.fit(x_train.T, y_train.T)  # fitting the training sets into naive bayes algorithm.\n",
    "acc = nb.score(x_test.T,y_test.T)*100 # Predicting the testing score.\n",
    "accuracies['Naive Bayes'] = acc # Determination of accuracies\n",
    "print(\"Accuracy of Naive Bayes: {:.2f}%\".format(acc))  # Having a few at our results. "
   ]
  },
  {
   "cell_type": "markdown",
   "metadata": {},
   "source": [
    "#### This shows that our model for Naive Bayes works with 86.89% accuracies."
   ]
  },
  {
   "cell_type": "markdown",
   "metadata": {},
   "source": [
    "### Decision Tree Algorithm. "
   ]
  },
  {
   "cell_type": "code",
   "execution_count": 436,
   "metadata": {},
   "outputs": [
    {
     "name": "stdout",
     "output_type": "stream",
     "text": [
      "Decision Tree Test Accuracy 78.69%\n"
     ]
    }
   ],
   "source": [
    "# Determining the accuracy using Decision Tree algorithm. \n",
    "from sklearn.tree import DecisionTreeClassifier # Using sklearn library to import Decision Tree Classifiers.\n",
    "dtc = DecisionTreeClassifier(random_state = 47) # Defining the decision tree classifiers. \n",
    "dtc.fit(x_train.T, y_train.T) # fitting the training sets into decision tree classifiers.\n",
    "acc = dtc.score(x_test.T, y_test.T)*100 # Predicting the testing score.\n",
    "accuracies['Decision Tree'] = acc # Determination of accuracies\n",
    "print(\"Decision Tree Test Accuracy {:.2f}%\".format(acc))  # Having a few at our results. "
   ]
  },
  {
   "cell_type": "markdown",
   "metadata": {},
   "source": [
    "#### This shows that our model for decision tree works with 77.05% accuracies."
   ]
  },
  {
   "cell_type": "markdown",
   "metadata": {},
   "source": [
    "### Random Forest Classifiers."
   ]
  },
  {
   "cell_type": "code",
   "execution_count": 437,
   "metadata": {},
   "outputs": [
    {
     "name": "stdout",
     "output_type": "stream",
     "text": [
      "Random Forest Algorithm Accuracy Score : 85.25%\n"
     ]
    }
   ],
   "source": [
    "# Determining the accuracies using the random forest classifiers. \n",
    "from sklearn.ensemble import RandomForestClassifier # Using sklearn library to import Random Forest Classifiers.\n",
    "rf = RandomForestClassifier(n_estimators = 100, random_state = 47) # Defining the random forest classifiers.\n",
    "rf.fit(x_train.T, y_train.T) # fitting the training sets into decision tree classifiers.\n",
    "\n",
    "acc = rf.score(x_test.T,y_test.T)*100# Predicting the testing score.\n",
    "accuracies['Random Forest'] = acc# Determination of accuracies\n",
    "print(\"Random Forest Algorithm Accuracy Score : {:.2f}%\".format(acc)) # Having a few at our results. "
   ]
  },
  {
   "cell_type": "markdown",
   "metadata": {},
   "source": [
    "#### This shows that our model for Random forest classifier works with 86.89% accuracies."
   ]
  },
  {
   "cell_type": "code",
   "execution_count": 438,
   "metadata": {},
   "outputs": [
    {
     "data": {
      "image/png": "[encoded data removed]",
      "text/plain": [
       "<Figure size 1152x360 with 1 Axes>"
      ]
     },
     "metadata": {},
     "output_type": "display_data"
    }
   ],
   "source": [
    "### Compairing all the accuracies and models.\n",
    "sns.set_style(\"whitegrid\")\n",
    "plt.figure(figsize=(16,5)) # Determining the size of the figures. \n",
    "plt.yticks(np.arange(0,100,10))\n",
    "plt.ylabel(\"Accuracy %\") # Plotting the values in the y axis labels.\n",
    "plt.xlabel(\"Algorithms\") # Plotting the values in the x axis labels.\n",
    "sns.barplot(x=list(accuracies.keys()), y=list(accuracies.values()), palette=colors) # Depicting the values using bar plot.\n",
    "plt.show() # Having a view at our plots. "
   ]
  },
  {
   "cell_type": "markdown",
   "metadata": {},
   "source": [
    "#### References...\n",
    "- https://www.hindawi.com/journals/misy/2018/3860146/\n",
    "- https://arxiv.org/ftp/arxiv/papers/1909/1909.00489.pdf\n",
    "- https://www.geeksforgeeks.org/heart-disease-prediction-using-ann/\n",
    "- https://www.groundai.com/project/on-deep-neural-networks-for-detecting-heart-disease/1"
   ]
  },
  {
   "cell_type": "code",
   "execution_count": 439,
   "metadata": {},
   "outputs": [],
   "source": [
    "#### Creation of Confusion matrix.\n",
    "y_head_lr = lr.predict(x_test.T) # Predicted values\n",
    "knn3 = KNeighborsClassifier(n_neighbors = 3) # Keeping n neighbors = 3 because we have obtained maximum accurcay.\n",
    "knn3.fit(x_train.T, y_train.T) # Fitting the model.\n",
    "y_head_knn = knn3.predict(x_test.T) # K Nearest Neighbor Y head\n",
    "y_head_svm = svm.predict(x_test.T) # Support vector machine y head.\n",
    "y_head_nb = nb.predict(x_test.T)  # Naive Bayes y head.\n",
    "y_head_dtc = dtc.predict(x_test.T)  # Decision tree y head.\n",
    "y_head_rf = rf.predict(x_test.T) # Random Forest Y head"
   ]
  },
  {
   "cell_type": "code",
   "execution_count": 440,
   "metadata": {},
   "outputs": [],
   "source": [
    "from sklearn.metrics import confusion_matrix #Importing confusion matrix from Sk Learn.\n",
    "\n",
    "cm_lr = confusion_matrix(y_test,y_head_lr) # Logistic Regression Confusion matrix\n",
    "cm_knn = confusion_matrix(y_test,y_head_knn) # KNN Confusion matrix\n",
    "cm_svm = confusion_matrix(y_test,y_head_svm) # SVM Confusion matrix\n",
    "cm_nb = confusion_matrix(y_test,y_head_nb) #Naive Bayes Confusion matrix\n",
    "cm_dtc = confusion_matrix(y_test,y_head_dtc) # Decision tree confusion matrix\n",
    "cm_rf = confusion_matrix(y_test,y_head_rf) # Random forest Confusion matrix"
   ]
  },
  {
   "cell_type": "code",
   "execution_count": 441,
   "metadata": {},
   "outputs": [
    {
     "data": {
      "text/plain": [
       "<function matplotlib.pyplot.show(close=None, block=None)>"
      ]
     },
     "execution_count": 441,
     "metadata": {},
     "output_type": "execute_result"
    },
    {
     "data": {
      "image/png": "[encoded data removed]",
      "text/plain": [
       "<Figure size 1728x864 with 1 Axes>"
      ]
     },
     "metadata": {},
     "output_type": "display_data"
    }
   ],
   "source": [
    "#Confusion matrix for logistic regression.\n",
    "plt.figure(figsize=(24,12)) # Figure Size\n",
    "plt.suptitle(\"Confusion Matrixes\",fontsize=24) # Title of the plot\n",
    "plt.subplots_adjust(wspace = 0.4, hspace= 0.4) # Adjustment of spaces \n",
    "plt.subplot(2,3,1)\n",
    "plt.title(\"Logistic Regression Confusion Matrix\") # Title of Confusion matrix\n",
    "sns.heatmap(cm_lr,annot=True,cmap=\"Blues\",fmt=\"d\",cbar=False, annot_kws={\"size\": 24}) # Display of plot.\n",
    "plt.show #Having a view at our matrix"
   ]
  },
  {
   "cell_type": "code",
   "execution_count": 442,
   "metadata": {},
   "outputs": [
    {
     "data": {
      "image/png": "[encoded data removed]",
      "text/plain": [
       "<Figure size 1728x864 with 1 Axes>"
      ]
     },
     "metadata": {},
     "output_type": "display_data"
    }
   ],
   "source": [
    "# Confusion matrix for KNN. \n",
    "plt.figure(figsize=(24,12)) # Figure Size\n",
    "plt.suptitle(\"Confusion Matrixes\",fontsize=24) # Title of the plot\n",
    "plt.subplots_adjust(wspace = 0.4, hspace= 0.4) # Adjustment of spaces \n",
    "plt.subplot(2,3,2)\n",
    "plt.title(\"K Nearest Neighbors Confusion Matrix\") # Title of Confusion matrix\n",
    "sns.heatmap(cm_knn,annot=True,cmap=\"Reds\",fmt=\"d\",cbar=False, annot_kws={\"size\": 24}) # Plot Display\n",
    "plt.show() # Having a look at the plot"
   ]
  },
  {
   "cell_type": "code",
   "execution_count": 443,
   "metadata": {},
   "outputs": [
    {
     "data": {
      "image/png": "[encoded data removed]",
      "text/plain": [
       "<Figure size 1728x864 with 1 Axes>"
      ]
     },
     "metadata": {},
     "output_type": "display_data"
    }
   ],
   "source": [
    "#Confusion matrix for Support vector machine\n",
    "plt.figure(figsize=(24,12)) # Figure Size\n",
    "plt.suptitle(\"Confusion Matrixes\",fontsize=24) # Title of the plot\n",
    "plt.subplots_adjust(wspace = 0.4, hspace= 0.4) # Adjustment of spaces \n",
    "plt.subplot(2,3,3)\n",
    "plt.title(\"Support Vector Machine Confusion Matrix\") # Plot Title\n",
    "sns.heatmap(cm_svm,annot=True,cmap=\"YlGn\",fmt=\"d\",cbar=False, annot_kws={\"size\": 24}) # Plot display\n",
    "plt.show()"
   ]
  },
  {
   "cell_type": "code",
   "execution_count": 444,
   "metadata": {},
   "outputs": [
    {
     "data": {
      "image/png": "[encoded data removed]",
      "text/plain": [
       "<Figure size 1728x864 with 1 Axes>"
      ]
     },
     "metadata": {},
     "output_type": "display_data"
    }
   ],
   "source": [
    "#Confusion matrix for Naive Bayes\n",
    "plt.figure(figsize=(24,12)) # Figure Size\n",
    "plt.suptitle(\"Confusion Matrixes\",fontsize=24) # Title of the plot\n",
    "plt.subplots_adjust(wspace = 0.4, hspace= 0.4) # Adjustment of spaces \n",
    "plt.subplot(2,3,4)\n",
    "plt.title(\"Naive Bayes Confusion Matrix\") # Plot Title\n",
    "sns.heatmap(cm_nb,annot=True,cmap=\"PuBuGn\",fmt=\"d\",cbar=False, annot_kws={\"size\": 24})\n",
    "plt.show() # Having a look at the plot"
   ]
  },
  {
   "cell_type": "code",
   "execution_count": 445,
   "metadata": {},
   "outputs": [
    {
     "data": {
      "image/png": "[encoded data removed]",
      "text/plain": [
       "<Figure size 1728x864 with 1 Axes>"
      ]
     },
     "metadata": {},
     "output_type": "display_data"
    }
   ],
   "source": [
    "#Confusion matrix for Decision tree classifier\n",
    "plt.figure(figsize=(24,12)) # Figure Size\n",
    "plt.suptitle(\"Confusion Matrixes\",fontsize=24) # Title of the plot\n",
    "plt.subplots_adjust(wspace = 0.4, hspace= 0.4) # Adjustment of spaces \n",
    "plt.subplot(2,3,5)\n",
    "plt.title(\"Decision Tree Classifier Confusion Matrix\") # Plot title.\n",
    "sns.heatmap(cm_dtc,annot=True,cmap=\"YlOrRd\",fmt=\"d\",cbar=False, annot_kws={\"size\": 24})\n",
    "plt.show() # Having a look at the plot"
   ]
  },
  {
   "cell_type": "code",
   "execution_count": 446,
   "metadata": {
    "scrolled": true
   },
   "outputs": [
    {
     "data": {
      "image/png": "[encoded data removed]",
      "text/plain": [
       "<Figure size 1728x864 with 1 Axes>"
      ]
     },
     "metadata": {},
     "output_type": "display_data"
    }
   ],
   "source": [
    "#Confusion matrix for Random Forest Classifier\n",
    "plt.figure(figsize=(24,12)) # Figure Size\n",
    "plt.suptitle(\"Confusion Matrixes\",fontsize=24) # Title of the plot\n",
    "plt.subplots_adjust(wspace = 0.4, hspace= 0.4) # Adjustment of spaces \n",
    "plt.subplot(2,3,6)\n",
    "plt.title(\"Random Forest Confusion Matrix\")\n",
    "sns.heatmap(cm_rf,annot=True,cmap=\"Greens\",fmt=\"d\",cbar=False, annot_kws={\"size\": 24})\n",
    "plt.show() # Having a look at the plot"
   ]
  },
  {
   "cell_type": "code",
   "execution_count": 447,
   "metadata": {},
   "outputs": [],
   "source": [
    "data= pd.read_csv('heart.csv')\n",
    "X = np.array(data.drop(['target'], 1))\n",
    "y = np.array(data['target'])"
   ]
  },
  {
   "cell_type": "code",
   "execution_count": 448,
   "metadata": {},
   "outputs": [],
   "source": [
    "# Generalization of all features except target\n",
    "mean = X.mean(axis=0) \n",
    "X -= mean\n",
    "std = X.std(axis=0)\n",
    "X /= std"
   ]
  },
  {
   "cell_type": "code",
   "execution_count": 449,
   "metadata": {},
   "outputs": [],
   "source": [
    "# create X and Y datasets for training\n",
    "from sklearn import model_selection\n",
    "\n",
    "X_train, X_test, y_train, y_test = model_selection.train_test_split(X, y, stratify=y, random_state=42, test_size = 0.2)"
   ]
  },
  {
   "cell_type": "code",
   "execution_count": 450,
   "metadata": {},
   "outputs": [],
   "source": [
    "# convert into binary classification problem - heart disease or no heart disease\n",
    "Y_train_binary = y_train.copy()\n",
    "Y_test_binary = y_test.copy()\n",
    "\n",
    "Y_train_binary[Y_train_binary > 0] = 1\n",
    "Y_test_binary[Y_test_binary > 0] = 1"
   ]
  },
  {
   "cell_type": "code",
   "execution_count": 451,
   "metadata": {},
   "outputs": [
    {
     "name": "stdout",
     "output_type": "stream",
     "text": [
      "Model: \"sequential_30\"\n",
      "_________________________________________________________________\n",
      "Layer (type)                 Output Shape              Param #   \n",
      "=================================================================\n",
      "dense_88 (Dense)             (None, 16)                224       \n",
      "_________________________________________________________________\n",
      "dropout_47 (Dropout)         (None, 16)                0         \n",
      "_________________________________________________________________\n",
      "dense_89 (Dense)             (None, 8)                 136       \n",
      "_________________________________________________________________\n",
      "dropout_48 (Dropout)         (None, 8)                 0         \n",
      "_________________________________________________________________\n",
      "dense_90 (Dense)             (None, 1)                 9         \n",
      "=================================================================\n",
      "Total params: 369\n",
      "Trainable params: 369\n",
      "Non-trainable params: 0\n",
      "_________________________________________________________________\n",
      "None\n"
     ]
    }
   ],
   "source": [
    "# define a new keras model for binary classification\n",
    "def create_binary_model():\n",
    "    # create model\n",
    "    model = Sequential()\n",
    "    model.add(Dense(16, input_dim=13, kernel_initializer='normal',  kernel_regularizer=regularizers.l2(0.001),activation='relu'))\n",
    "    model.add(Dropout(0.25))\n",
    "    model.add(Dense(8, kernel_initializer='normal',  kernel_regularizer=regularizers.l2(0.001),activation='relu'))\n",
    "    model.add(Dropout(0.25))\n",
    "    model.add(Dense(1, activation='sigmoid'))\n",
    "    \n",
    "    # Compile model\n",
    "    adam = Adam(lr=0.001)\n",
    "    model.compile(loss='binary_crossentropy', optimizer='rmsprop', metrics=['accuracy'])\n",
    "    return model\n",
    "\n",
    "binary_model = create_binary_model()\n",
    "\n",
    "print(binary_model.summary())"
   ]
  },
  {
   "cell_type": "code",
   "execution_count": 452,
   "metadata": {},
   "outputs": [
    {
     "name": "stdout",
     "output_type": "stream",
     "text": [
      "Train on 242 samples, validate on 61 samples\n",
      "Epoch 1/100\n",
      "242/242 [==============================] - 0s 1ms/step - loss: 0.6888 - accuracy: 0.6198 - val_loss: 0.6850 - val_accuracy: 0.7049\n",
      "Epoch 2/100\n",
      "242/242 [==============================] - 0s 181us/step - loss: 0.6796 - accuracy: 0.7190 - val_loss: 0.6736 - val_accuracy: 0.7705\n",
      "Epoch 3/100\n",
      "242/242 [==============================] - 0s 202us/step - loss: 0.6591 - accuracy: 0.7851 - val_loss: 0.6486 - val_accuracy: 0.7869\n",
      "Epoch 4/100\n",
      "242/242 [==============================] - 0s 181us/step - loss: 0.6269 - accuracy: 0.7975 - val_loss: 0.6170 - val_accuracy: 0.7869\n",
      "Epoch 5/100\n",
      "242/242 [==============================] - 0s 169us/step - loss: 0.5936 - accuracy: 0.8306 - val_loss: 0.5825 - val_accuracy: 0.7869\n",
      "Epoch 6/100\n",
      "242/242 [==============================] - 0s 169us/step - loss: 0.5577 - accuracy: 0.8306 - val_loss: 0.5442 - val_accuracy: 0.8197\n",
      "Epoch 7/100\n",
      "242/242 [==============================] - 0s 161us/step - loss: 0.4964 - accuracy: 0.8554 - val_loss: 0.5065 - val_accuracy: 0.8197\n",
      "Epoch 8/100\n",
      "242/242 [==============================] - 0s 153us/step - loss: 0.4667 - accuracy: 0.8306 - val_loss: 0.4771 - val_accuracy: 0.8033\n",
      "Epoch 9/100\n",
      "242/242 [==============================] - 0s 161us/step - loss: 0.4435 - accuracy: 0.8388 - val_loss: 0.4555 - val_accuracy: 0.7869\n",
      "Epoch 10/100\n",
      "242/242 [==============================] - 0s 177us/step - loss: 0.4290 - accuracy: 0.8430 - val_loss: 0.4379 - val_accuracy: 0.7869\n",
      "Epoch 11/100\n",
      "242/242 [==============================] - 0s 154us/step - loss: 0.4140 - accuracy: 0.8471 - val_loss: 0.4259 - val_accuracy: 0.7869\n",
      "Epoch 12/100\n",
      "242/242 [==============================] - 0s 169us/step - loss: 0.4055 - accuracy: 0.8719 - val_loss: 0.4206 - val_accuracy: 0.7869\n",
      "Epoch 13/100\n",
      "242/242 [==============================] - 0s 140us/step - loss: 0.3925 - accuracy: 0.8471 - val_loss: 0.4127 - val_accuracy: 0.7869\n",
      "Epoch 14/100\n",
      "242/242 [==============================] - 0s 157us/step - loss: 0.3821 - accuracy: 0.8306 - val_loss: 0.4054 - val_accuracy: 0.7869\n",
      "Epoch 15/100\n",
      "242/242 [==============================] - 0s 157us/step - loss: 0.3822 - accuracy: 0.8636 - val_loss: 0.4042 - val_accuracy: 0.7869\n",
      "Epoch 16/100\n",
      "242/242 [==============================] - 0s 144us/step - loss: 0.3639 - accuracy: 0.8760 - val_loss: 0.4004 - val_accuracy: 0.7869\n",
      "Epoch 17/100\n",
      "242/242 [==============================] - 0s 148us/step - loss: 0.3872 - accuracy: 0.8471 - val_loss: 0.4005 - val_accuracy: 0.7869\n",
      "Epoch 18/100\n",
      "242/242 [==============================] - 0s 161us/step - loss: 0.3819 - accuracy: 0.8636 - val_loss: 0.4009 - val_accuracy: 0.7869\n",
      "Epoch 19/100\n",
      "242/242 [==============================] - 0s 161us/step - loss: 0.3576 - accuracy: 0.8595 - val_loss: 0.4020 - val_accuracy: 0.7869\n",
      "Epoch 20/100\n",
      "242/242 [==============================] - 0s 165us/step - loss: 0.3443 - accuracy: 0.8678 - val_loss: 0.4003 - val_accuracy: 0.7869\n",
      "Epoch 21/100\n",
      "242/242 [==============================] - 0s 144us/step - loss: 0.3710 - accuracy: 0.8719 - val_loss: 0.4003 - val_accuracy: 0.7869\n",
      "Epoch 22/100\n",
      "242/242 [==============================] - 0s 144us/step - loss: 0.3347 - accuracy: 0.8636 - val_loss: 0.3984 - val_accuracy: 0.7869\n",
      "Epoch 23/100\n",
      "242/242 [==============================] - 0s 157us/step - loss: 0.3628 - accuracy: 0.8678 - val_loss: 0.3991 - val_accuracy: 0.7869\n",
      "Epoch 24/100\n",
      "242/242 [==============================] - 0s 165us/step - loss: 0.3697 - accuracy: 0.8636 - val_loss: 0.3989 - val_accuracy: 0.7869\n",
      "Epoch 25/100\n",
      "242/242 [==============================] - 0s 173us/step - loss: 0.3727 - accuracy: 0.8430 - val_loss: 0.3997 - val_accuracy: 0.8033\n",
      "Epoch 26/100\n",
      "242/242 [==============================] - 0s 161us/step - loss: 0.3505 - accuracy: 0.8760 - val_loss: 0.4013 - val_accuracy: 0.8033\n",
      "Epoch 27/100\n",
      "242/242 [==============================] - 0s 169us/step - loss: 0.3493 - accuracy: 0.8636 - val_loss: 0.4029 - val_accuracy: 0.8033\n",
      "Epoch 28/100\n",
      "242/242 [==============================] - 0s 148us/step - loss: 0.3354 - accuracy: 0.8719 - val_loss: 0.4036 - val_accuracy: 0.8033\n",
      "Epoch 29/100\n",
      "242/242 [==============================] - 0s 156us/step - loss: 0.3388 - accuracy: 0.8802 - val_loss: 0.4032 - val_accuracy: 0.8033\n",
      "Epoch 30/100\n",
      "242/242 [==============================] - 0s 150us/step - loss: 0.3358 - accuracy: 0.8678 - val_loss: 0.4030 - val_accuracy: 0.7869\n",
      "Epoch 31/100\n",
      "242/242 [==============================] - 0s 154us/step - loss: 0.3542 - accuracy: 0.8636 - val_loss: 0.3988 - val_accuracy: 0.8033\n",
      "Epoch 32/100\n",
      "242/242 [==============================] - 0s 148us/step - loss: 0.3566 - accuracy: 0.8843 - val_loss: 0.4006 - val_accuracy: 0.8033\n",
      "Epoch 33/100\n",
      "242/242 [==============================] - 0s 152us/step - loss: 0.3446 - accuracy: 0.8678 - val_loss: 0.4004 - val_accuracy: 0.8033\n",
      "Epoch 34/100\n",
      "242/242 [==============================] - 0s 157us/step - loss: 0.3425 - accuracy: 0.8760 - val_loss: 0.3999 - val_accuracy: 0.8033\n",
      "Epoch 35/100\n",
      "242/242 [==============================] - 0s 153us/step - loss: 0.3531 - accuracy: 0.8678 - val_loss: 0.4003 - val_accuracy: 0.8033\n",
      "Epoch 36/100\n",
      "242/242 [==============================] - 0s 152us/step - loss: 0.3422 - accuracy: 0.8512 - val_loss: 0.4011 - val_accuracy: 0.8033\n",
      "Epoch 37/100\n",
      "242/242 [==============================] - 0s 148us/step - loss: 0.3791 - accuracy: 0.8636 - val_loss: 0.4004 - val_accuracy: 0.8033\n",
      "Epoch 38/100\n",
      "242/242 [==============================] - 0s 132us/step - loss: 0.3362 - accuracy: 0.8802 - val_loss: 0.4019 - val_accuracy: 0.8033\n",
      "Epoch 39/100\n",
      "242/242 [==============================] - 0s 136us/step - loss: 0.3263 - accuracy: 0.8636 - val_loss: 0.4026 - val_accuracy: 0.8197\n",
      "Epoch 40/100\n",
      "242/242 [==============================] - 0s 146us/step - loss: 0.3362 - accuracy: 0.8843 - val_loss: 0.4003 - val_accuracy: 0.8197\n",
      "Epoch 41/100\n",
      "242/242 [==============================] - 0s 132us/step - loss: 0.3373 - accuracy: 0.8802 - val_loss: 0.3988 - val_accuracy: 0.8361\n",
      "Epoch 42/100\n",
      "242/242 [==============================] - 0s 128us/step - loss: 0.3224 - accuracy: 0.8802 - val_loss: 0.3971 - val_accuracy: 0.8361\n",
      "Epoch 43/100\n",
      "242/242 [==============================] - 0s 136us/step - loss: 0.3326 - accuracy: 0.8678 - val_loss: 0.3990 - val_accuracy: 0.8361\n",
      "Epoch 44/100\n",
      "242/242 [==============================] - 0s 144us/step - loss: 0.3196 - accuracy: 0.8843 - val_loss: 0.4039 - val_accuracy: 0.8361\n",
      "Epoch 45/100\n",
      "242/242 [==============================] - 0s 144us/step - loss: 0.3372 - accuracy: 0.8843 - val_loss: 0.4026 - val_accuracy: 0.8197\n",
      "Epoch 46/100\n",
      "242/242 [==============================] - 0s 144us/step - loss: 0.3501 - accuracy: 0.8678 - val_loss: 0.4033 - val_accuracy: 0.8361\n",
      "Epoch 47/100\n",
      "242/242 [==============================] - 0s 144us/step - loss: 0.3373 - accuracy: 0.8595 - val_loss: 0.4034 - val_accuracy: 0.8525\n",
      "Epoch 48/100\n",
      "242/242 [==============================] - 0s 144us/step - loss: 0.3188 - accuracy: 0.8884 - val_loss: 0.4016 - val_accuracy: 0.8525\n",
      "Epoch 49/100\n",
      "242/242 [==============================] - 0s 144us/step - loss: 0.3306 - accuracy: 0.8884 - val_loss: 0.4018 - val_accuracy: 0.8525\n",
      "Epoch 50/100\n",
      "242/242 [==============================] - 0s 148us/step - loss: 0.3373 - accuracy: 0.8636 - val_loss: 0.4019 - val_accuracy: 0.8525\n",
      "Epoch 51/100\n",
      "242/242 [==============================] - 0s 148us/step - loss: 0.3241 - accuracy: 0.8678 - val_loss: 0.3991 - val_accuracy: 0.8525\n",
      "Epoch 52/100\n",
      "242/242 [==============================] - 0s 148us/step - loss: 0.3034 - accuracy: 0.8802 - val_loss: 0.4003 - val_accuracy: 0.8525\n",
      "Epoch 53/100\n",
      "242/242 [==============================] - 0s 144us/step - loss: 0.3589 - accuracy: 0.8512 - val_loss: 0.4010 - val_accuracy: 0.8525\n",
      "Epoch 54/100\n",
      "242/242 [==============================] - 0s 161us/step - loss: 0.3039 - accuracy: 0.8926 - val_loss: 0.3998 - val_accuracy: 0.8525\n",
      "Epoch 55/100\n",
      "242/242 [==============================] - 0s 169us/step - loss: 0.3117 - accuracy: 0.8802 - val_loss: 0.4053 - val_accuracy: 0.8525\n",
      "Epoch 56/100\n",
      "242/242 [==============================] - 0s 152us/step - loss: 0.3406 - accuracy: 0.8719 - val_loss: 0.4024 - val_accuracy: 0.8525\n"
     ]
    },
    {
     "name": "stdout",
     "output_type": "stream",
     "text": [
      "Epoch 57/100\n",
      "242/242 [==============================] - 0s 140us/step - loss: 0.3213 - accuracy: 0.8802 - val_loss: 0.4034 - val_accuracy: 0.8525\n",
      "Epoch 58/100\n",
      "242/242 [==============================] - 0s 161us/step - loss: 0.3099 - accuracy: 0.8884 - val_loss: 0.4026 - val_accuracy: 0.8525\n",
      "Epoch 59/100\n",
      "242/242 [==============================] - 0s 148us/step - loss: 0.3110 - accuracy: 0.8967 - val_loss: 0.4030 - val_accuracy: 0.8525\n",
      "Epoch 60/100\n",
      "242/242 [==============================] - 0s 153us/step - loss: 0.3181 - accuracy: 0.8760 - val_loss: 0.4022 - val_accuracy: 0.8525\n",
      "Epoch 61/100\n",
      "242/242 [==============================] - 0s 157us/step - loss: 0.2971 - accuracy: 0.8884 - val_loss: 0.4044 - val_accuracy: 0.8525\n",
      "Epoch 62/100\n",
      "242/242 [==============================] - 0s 152us/step - loss: 0.3342 - accuracy: 0.8884 - val_loss: 0.4092 - val_accuracy: 0.8525\n",
      "Epoch 63/100\n",
      "242/242 [==============================] - 0s 157us/step - loss: 0.3241 - accuracy: 0.8719 - val_loss: 0.4086 - val_accuracy: 0.8525\n",
      "Epoch 64/100\n",
      "242/242 [==============================] - 0s 153us/step - loss: 0.3112 - accuracy: 0.8760 - val_loss: 0.4095 - val_accuracy: 0.8525\n",
      "Epoch 65/100\n",
      "242/242 [==============================] - 0s 157us/step - loss: 0.2935 - accuracy: 0.8926 - val_loss: 0.4083 - val_accuracy: 0.8525\n",
      "Epoch 66/100\n",
      "242/242 [==============================] - 0s 165us/step - loss: 0.3171 - accuracy: 0.8884 - val_loss: 0.4126 - val_accuracy: 0.8525\n",
      "Epoch 67/100\n",
      "242/242 [==============================] - 0s 153us/step - loss: 0.3156 - accuracy: 0.8926 - val_loss: 0.4131 - val_accuracy: 0.8525\n",
      "Epoch 68/100\n",
      "242/242 [==============================] - 0s 157us/step - loss: 0.3136 - accuracy: 0.8926 - val_loss: 0.4106 - val_accuracy: 0.8525\n",
      "Epoch 69/100\n",
      "242/242 [==============================] - 0s 155us/step - loss: 0.3029 - accuracy: 0.8595 - val_loss: 0.4117 - val_accuracy: 0.8525\n",
      "Epoch 70/100\n",
      "242/242 [==============================] - 0s 158us/step - loss: 0.3065 - accuracy: 0.8967 - val_loss: 0.4107 - val_accuracy: 0.8525\n",
      "Epoch 71/100\n",
      "242/242 [==============================] - 0s 231us/step - loss: 0.3282 - accuracy: 0.8884 - val_loss: 0.4100 - val_accuracy: 0.8525\n",
      "Epoch 72/100\n",
      "242/242 [==============================] - 0s 169us/step - loss: 0.2905 - accuracy: 0.8802 - val_loss: 0.4111 - val_accuracy: 0.8525\n",
      "Epoch 73/100\n",
      "242/242 [==============================] - 0s 181us/step - loss: 0.3107 - accuracy: 0.8884 - val_loss: 0.4081 - val_accuracy: 0.8525\n",
      "Epoch 74/100\n",
      "242/242 [==============================] - 0s 159us/step - loss: 0.3311 - accuracy: 0.8884 - val_loss: 0.4100 - val_accuracy: 0.8525\n",
      "Epoch 75/100\n",
      "242/242 [==============================] - 0s 152us/step - loss: 0.3163 - accuracy: 0.8760 - val_loss: 0.4096 - val_accuracy: 0.8525\n",
      "Epoch 76/100\n",
      "242/242 [==============================] - 0s 143us/step - loss: 0.3081 - accuracy: 0.8884 - val_loss: 0.4081 - val_accuracy: 0.8525\n",
      "Epoch 77/100\n",
      "242/242 [==============================] - 0s 161us/step - loss: 0.2968 - accuracy: 0.8884 - val_loss: 0.4118 - val_accuracy: 0.8361\n",
      "Epoch 78/100\n",
      "242/242 [==============================] - 0s 167us/step - loss: 0.3223 - accuracy: 0.8926 - val_loss: 0.4114 - val_accuracy: 0.8361\n",
      "Epoch 79/100\n",
      "242/242 [==============================] - 0s 167us/step - loss: 0.3019 - accuracy: 0.8967 - val_loss: 0.4157 - val_accuracy: 0.8525\n",
      "Epoch 80/100\n",
      "242/242 [==============================] - 0s 163us/step - loss: 0.3068 - accuracy: 0.8884 - val_loss: 0.4136 - val_accuracy: 0.8525\n",
      "Epoch 81/100\n",
      "242/242 [==============================] - 0s 179us/step - loss: 0.2887 - accuracy: 0.8884 - val_loss: 0.4132 - val_accuracy: 0.8361\n",
      "Epoch 82/100\n",
      "242/242 [==============================] - 0s 181us/step - loss: 0.3037 - accuracy: 0.8926 - val_loss: 0.4134 - val_accuracy: 0.8361\n",
      "Epoch 83/100\n",
      "242/242 [==============================] - 0s 171us/step - loss: 0.3191 - accuracy: 0.8636 - val_loss: 0.4105 - val_accuracy: 0.8361\n",
      "Epoch 84/100\n",
      "242/242 [==============================] - 0s 161us/step - loss: 0.2952 - accuracy: 0.8843 - val_loss: 0.4100 - val_accuracy: 0.8361\n",
      "Epoch 85/100\n",
      "242/242 [==============================] - 0s 173us/step - loss: 0.2968 - accuracy: 0.8843 - val_loss: 0.4097 - val_accuracy: 0.8361\n",
      "Epoch 86/100\n",
      "242/242 [==============================] - 0s 181us/step - loss: 0.2716 - accuracy: 0.9050 - val_loss: 0.4142 - val_accuracy: 0.8525\n",
      "Epoch 87/100\n",
      "242/242 [==============================] - 0s 173us/step - loss: 0.2889 - accuracy: 0.8884 - val_loss: 0.4161 - val_accuracy: 0.8525\n",
      "Epoch 88/100\n",
      "242/242 [==============================] - 0s 155us/step - loss: 0.2907 - accuracy: 0.8843 - val_loss: 0.4168 - val_accuracy: 0.8525\n",
      "Epoch 89/100\n",
      "242/242 [==============================] - 0s 164us/step - loss: 0.2870 - accuracy: 0.9256 - val_loss: 0.4226 - val_accuracy: 0.8525\n",
      "Epoch 90/100\n",
      "242/242 [==============================] - 0s 177us/step - loss: 0.2791 - accuracy: 0.8843 - val_loss: 0.4191 - val_accuracy: 0.8525\n",
      "Epoch 91/100\n",
      "242/242 [==============================] - 0s 157us/step - loss: 0.3053 - accuracy: 0.8926 - val_loss: 0.4171 - val_accuracy: 0.8361\n",
      "Epoch 92/100\n",
      "242/242 [==============================] - 0s 156us/step - loss: 0.2898 - accuracy: 0.8760 - val_loss: 0.4202 - val_accuracy: 0.8361\n",
      "Epoch 93/100\n",
      "242/242 [==============================] - 0s 173us/step - loss: 0.3119 - accuracy: 0.8884 - val_loss: 0.4217 - val_accuracy: 0.8361\n",
      "Epoch 94/100\n",
      "242/242 [==============================] - 0s 160us/step - loss: 0.2728 - accuracy: 0.9050 - val_loss: 0.4203 - val_accuracy: 0.8525\n",
      "Epoch 95/100\n",
      "242/242 [==============================] - 0s 161us/step - loss: 0.3292 - accuracy: 0.8636 - val_loss: 0.4180 - val_accuracy: 0.8361\n",
      "Epoch 96/100\n",
      "242/242 [==============================] - 0s 152us/step - loss: 0.3201 - accuracy: 0.8719 - val_loss: 0.4180 - val_accuracy: 0.8361\n",
      "Epoch 97/100\n",
      "242/242 [==============================] - 0s 161us/step - loss: 0.2703 - accuracy: 0.9050 - val_loss: 0.4162 - val_accuracy: 0.8361\n",
      "Epoch 98/100\n",
      "242/242 [==============================] - 0s 157us/step - loss: 0.2795 - accuracy: 0.9008 - val_loss: 0.4171 - val_accuracy: 0.8361\n",
      "Epoch 99/100\n",
      "242/242 [==============================] - 0s 157us/step - loss: 0.2916 - accuracy: 0.9008 - val_loss: 0.4175 - val_accuracy: 0.8361\n",
      "Epoch 100/100\n",
      "242/242 [==============================] - 0s 161us/step - loss: 0.2865 - accuracy: 0.9132 - val_loss: 0.4192 - val_accuracy: 0.8361\n"
     ]
    }
   ],
   "source": [
    "# fit the binary model on the training data\n",
    "history=binary_model.fit(X_train, Y_train_binary, validation_data=(X_test, Y_test_binary), epochs=100, batch_size=10)"
   ]
  },
  {
   "cell_type": "code",
   "execution_count": 453,
   "metadata": {},
   "outputs": [
    {
     "data": {
      "text/plain": [
       "Text(0.5, 1.0, 'Accuracy evolution')"
      ]
     },
     "execution_count": 453,
     "metadata": {},
     "output_type": "execute_result"
    },
    {
     "data": {
      "image/png": "[encoded data removed]",
      "text/plain": [
       "<Figure size 432x288 with 2 Axes>"
      ]
     },
     "metadata": {},
     "output_type": "display_data"
    }
   ],
   "source": [
    "#Plotting loss function with training set and validaton set\n",
    "plt.subplot(2, 2, 1) # First plot of the two plots\n",
    "plt.plot(history.history['loss'], label='Loss') # First input variable for line graph(loss)\n",
    "plt.plot(history.history['val_loss'], label='val_Loss') # second input variable for line graph(val_loss)\n",
    "plt.legend()\n",
    "plt.title('Loss evolution')\n",
    "\n",
    "#Plotting accuracy with training and validation set\n",
    "plt.subplot(2, 2, 2) \n",
    "plt.plot(history.history['accuracy'], label='accuracy') # First input variable for line graph(accuracy)\n",
    "plt.plot(history.history['val_accuracy'], label='val_accuracy') # second input variable for line graph(val_accuracy)\n",
    "plt.legend()\n",
    "plt.title('Accuracy evolution')"
   ]
  },
  {
   "cell_type": "code",
   "execution_count": 454,
   "metadata": {},
   "outputs": [
    {
     "name": "stdout",
     "output_type": "stream",
     "text": [
      "Results for Binary Model\n",
      "0.8360655737704918\n",
      "              precision    recall  f1-score   support\n",
      "\n",
      "           0       0.91      0.71      0.80        28\n",
      "           1       0.79      0.94      0.86        33\n",
      "\n",
      "    accuracy                           0.84        61\n",
      "   macro avg       0.85      0.83      0.83        61\n",
      "weighted avg       0.85      0.84      0.83        61\n",
      "\n"
     ]
    }
   ],
   "source": [
    "# generate classification report using predictions for binary model\n",
    "from sklearn.metrics import classification_report, accuracy_score\n",
    "# generate classification report using predictions for binary model \n",
    "binary_pred = np.round(binary_model.predict(X_test)).astype(int)\n",
    "\n",
    "print('Results for Binary Model')\n",
    "print(accuracy_score(Y_test_binary, binary_pred))\n",
    "print(classification_report(Y_test_binary, binary_pred))"
   ]
  }
 ],
 "metadata": {
  "kernelspec": {
   "display_name": "Python 3",
   "language": "python",
   "name": "python3"
  },
  "language_info": {
   "codemirror_mode": {
    "name": "ipython",
    "version": 3
   },
   "file_extension": ".py",
   "mimetype": "text/x-python",
   "name": "python",
   "nbconvert_exporter": "python",
   "pygments_lexer": "ipython3",
   "version": "3.7.9"
  }
 },
 "nbformat": 4,
 "nbformat_minor": 4
}
