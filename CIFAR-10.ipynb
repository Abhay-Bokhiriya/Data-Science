{
 "cells": [
  {
   "cell_type": "code",
   "execution_count": 1,
   "metadata": {},
   "outputs": [
    {
     "name": "stdout",
     "output_type": "stream",
     "text": [
      "Shape of x_train is (50000, 32, 32, 3)\n",
      "Shape of x_test is (10000, 32, 32, 3)\n",
      "Shape of y_train is (50000, 1)\n",
      "Shape of y_test is (10000, 1)\n"
     ]
    }
   ],
   "source": [
    "from tensorflow.keras.datasets import cifar10\n",
    "import pandas as pd\n",
    "\n",
    "(x_train, y_train), (x_test, y_test)=cifar10.load_data()\n",
    "\n",
    "print('Shape of x_train is {}'.format(x_train.shape))\n",
    "print('Shape of x_test is {}'.format(x_test.shape))\n",
    "print('Shape of y_train is {}'.format(y_train.shape))\n",
    "print('Shape of y_test is {}'.format(y_test.shape))"
   ]
  },
  {
   "cell_type": "code",
   "execution_count": 4,
   "metadata": {},
   "outputs": [],
   "source": [
    "from tensorflow.keras.utils import to_categorical\n",
    "\n",
    "# Normalizing\n",
    "x_train=x_train/255\n",
    "x_test=x_test/255\n",
    "\n",
    "#One hot encoding\n",
    "y_train_cat=to_categorical(y_train,10)\n",
    "y_test_cat=to_categorical(y_test,10)"
   ]
  },
  {
   "cell_type": "code",
   "execution_count": 5,
   "metadata": {},
   "outputs": [],
   "source": [
    "from tensorflow.keras.models import Sequential\n",
    "from tensorflow.keras.layers import Conv2D,MaxPool2D,Dense,Flatten,Dropout,Input, AveragePooling2D, Activation,Conv2D, MaxPooling2D, BatchNormalization,Concatenate\n",
    "from tensorflow.keras.callbacks import EarlyStopping, TensorBoard\n",
    "from tensorflow.keras import regularizers, optimizers\n",
    "from tensorflow.keras.preprocessing.image import ImageDataGenerator"
   ]
  },
  {
   "cell_type": "code",
   "execution_count": 6,
   "metadata": {},
   "outputs": [],
   "source": [
    "model1=Sequential()\n",
    "model1.add(Conv2D(filters=32,kernel_size=(4,4),input_shape=(32,32,3),activation='relu'))\n",
    "model1.add(MaxPool2D(pool_size=(2,2)))\n",
    "model1.add(Conv2D(filters=32,kernel_size=(4,4),input_shape=(32,32,3),activation='relu'))\n",
    "model1.add(MaxPool2D(pool_size=(2,2)))\n",
    "model1.add(Flatten())\n",
    "model1.add(Dense(256,activation='relu'))\n",
    "model1.add(Dense(10,activation='softmax'))\n",
    "model1.compile(loss='categorical_crossentropy',optimizer='adam',metrics=['accuracy'])"
   ]
  },
  {
   "cell_type": "code",
   "execution_count": 7,
   "metadata": {},
   "outputs": [
    {
     "name": "stdout",
     "output_type": "stream",
     "text": [
      "Model: \"sequential\"\n",
      "_________________________________________________________________\n",
      "Layer (type)                 Output Shape              Param #   \n",
      "=================================================================\n",
      "conv2d (Conv2D)              (None, 29, 29, 32)        1568      \n",
      "_________________________________________________________________\n",
      "max_pooling2d (MaxPooling2D) (None, 14, 14, 32)        0         \n",
      "_________________________________________________________________\n",
      "conv2d_1 (Conv2D)            (None, 11, 11, 32)        16416     \n",
      "_________________________________________________________________\n",
      "max_pooling2d_1 (MaxPooling2 (None, 5, 5, 32)          0         \n",
      "_________________________________________________________________\n",
      "flatten (Flatten)            (None, 800)               0         \n",
      "_________________________________________________________________\n",
      "dense (Dense)                (None, 256)               205056    \n",
      "_________________________________________________________________\n",
      "dense_1 (Dense)              (None, 10)                2570      \n",
      "=================================================================\n",
      "Total params: 225,610\n",
      "Trainable params: 225,610\n",
      "Non-trainable params: 0\n",
      "_________________________________________________________________\n"
     ]
    }
   ],
   "source": [
    "model1.summary()"
   ]
  },
  {
   "cell_type": "code",
   "execution_count": 8,
   "metadata": {},
   "outputs": [
    {
     "name": "stdout",
     "output_type": "stream",
     "text": [
      "Train on 50000 samples, validate on 10000 samples\n",
      "Epoch 1/20\n",
      "50000/50000 [==============================] - 33s 669us/sample - loss: 1.4890 - accuracy: 0.4636 - val_loss: 1.2634 - val_accuracy: 0.5451\n",
      "Epoch 2/20\n",
      "50000/50000 [==============================] - 34s 672us/sample - loss: 1.1718 - accuracy: 0.5874 - val_loss: 1.1435 - val_accuracy: 0.5940\n",
      "Epoch 3/20\n",
      "50000/50000 [==============================] - 32s 641us/sample - loss: 1.0334 - accuracy: 0.6373 - val_loss: 1.0537 - val_accuracy: 0.6318\n",
      "Epoch 4/20\n",
      "50000/50000 [==============================] - 31s 628us/sample - loss: 0.9241 - accuracy: 0.6782 - val_loss: 1.0149 - val_accuracy: 0.6470\n",
      "Epoch 5/20\n",
      "50000/50000 [==============================] - 31s 621us/sample - loss: 0.8302 - accuracy: 0.7091 - val_loss: 0.9639 - val_accuracy: 0.6653\n",
      "Epoch 6/20\n",
      "50000/50000 [==============================] - 31s 627us/sample - loss: 0.7564 - accuracy: 0.7364 - val_loss: 1.0214 - val_accuracy: 0.6556\n",
      "Epoch 7/20\n",
      "50000/50000 [==============================] - 31s 627us/sample - loss: 0.6751 - accuracy: 0.7641 - val_loss: 0.9781 - val_accuracy: 0.6777\n",
      "Epoch 8/20\n",
      "50000/50000 [==============================] - 33s 657us/sample - loss: 0.6074 - accuracy: 0.7872 - val_loss: 1.0068 - val_accuracy: 0.6752\n",
      "Epoch 9/20\n",
      "50000/50000 [==============================] - 32s 632us/sample - loss: 0.5414 - accuracy: 0.8114 - val_loss: 1.0060 - val_accuracy: 0.6797\n",
      "Epoch 10/20\n",
      "50000/50000 [==============================] - 31s 625us/sample - loss: 0.4841 - accuracy: 0.8286 - val_loss: 1.0664 - val_accuracy: 0.6726\n",
      "Epoch 11/20\n",
      "50000/50000 [==============================] - 32s 632us/sample - loss: 0.4273 - accuracy: 0.8488 - val_loss: 1.1732 - val_accuracy: 0.6625\n",
      "Epoch 12/20\n",
      "50000/50000 [==============================] - 32s 635us/sample - loss: 0.3765 - accuracy: 0.8671 - val_loss: 1.2516 - val_accuracy: 0.6566\n",
      "Epoch 13/20\n",
      "50000/50000 [==============================] - 32s 641us/sample - loss: 0.3300 - accuracy: 0.8845 - val_loss: 1.3446 - val_accuracy: 0.6610\n",
      "Epoch 14/20\n",
      "50000/50000 [==============================] - 32s 647us/sample - loss: 0.2904 - accuracy: 0.8974 - val_loss: 1.4517 - val_accuracy: 0.6621\n",
      "Epoch 15/20\n",
      "50000/50000 [==============================] - 32s 648us/sample - loss: 0.2530 - accuracy: 0.9101 - val_loss: 1.5750 - val_accuracy: 0.6669\n",
      "Epoch 16/20\n",
      "50000/50000 [==============================] - 33s 660us/sample - loss: 0.2283 - accuracy: 0.9198 - val_loss: 1.6593 - val_accuracy: 0.6488\n",
      "Epoch 17/20\n",
      "50000/50000 [==============================] - 33s 662us/sample - loss: 0.2044 - accuracy: 0.9274 - val_loss: 1.7810 - val_accuracy: 0.6572\n",
      "Epoch 18/20\n",
      "50000/50000 [==============================] - 33s 655us/sample - loss: 0.1843 - accuracy: 0.9341 - val_loss: 1.8152 - val_accuracy: 0.6508\n",
      "Epoch 19/20\n",
      "50000/50000 [==============================] - 32s 645us/sample - loss: 0.1746 - accuracy: 0.9381 - val_loss: 2.0038 - val_accuracy: 0.6486\n",
      "Epoch 20/20\n",
      "50000/50000 [==============================] - 33s 655us/sample - loss: 0.1522 - accuracy: 0.9468 - val_loss: 2.0798 - val_accuracy: 0.6477\n"
     ]
    }
   ],
   "source": [
    "history1=model1.fit(x_train,y_train_cat,epochs=20,validation_data=(x_test,y_test_cat))"
   ]
  },
  {
   "cell_type": "code",
   "execution_count": 9,
   "metadata": {},
   "outputs": [
    {
     "name": "stdout",
     "output_type": "stream",
     "text": [
      "Train on 50000 samples, validate on 10000 samples\n",
      "Epoch 1/20\n",
      "50000/50000 [==============================] - 38s 760us/sample - loss: 1.5670 - accuracy: 0.4309 - val_loss: 1.3218 - val_accuracy: 0.5351\n",
      "Epoch 2/20\n",
      "50000/50000 [==============================] - 36s 729us/sample - loss: 1.2733 - accuracy: 0.5483 - val_loss: 1.1254 - val_accuracy: 0.6058\n",
      "Epoch 3/20\n",
      "50000/50000 [==============================] - 37s 730us/sample - loss: 1.1434 - accuracy: 0.5959 - val_loss: 1.0828 - val_accuracy: 0.6188\n",
      "Epoch 4/20\n",
      "50000/50000 [==============================] - 36s 728us/sample - loss: 1.0613 - accuracy: 0.6266 - val_loss: 1.0032 - val_accuracy: 0.6532\n",
      "Epoch 5/20\n",
      "50000/50000 [==============================] - 36s 726us/sample - loss: 0.9930 - accuracy: 0.6533 - val_loss: 1.0123 - val_accuracy: 0.6490\n",
      "Epoch 6/20\n",
      "50000/50000 [==============================] - 37s 745us/sample - loss: 0.9321 - accuracy: 0.6734 - val_loss: 0.9327 - val_accuracy: 0.6772\n",
      "Epoch 7/20\n",
      "50000/50000 [==============================] - 37s 736us/sample - loss: 0.8878 - accuracy: 0.6876 - val_loss: 0.9519 - val_accuracy: 0.6680\n",
      "Epoch 8/20\n",
      "50000/50000 [==============================] - 37s 741us/sample - loss: 0.8510 - accuracy: 0.7022 - val_loss: 0.8804 - val_accuracy: 0.7021\n",
      "Epoch 9/20\n",
      "50000/50000 [==============================] - 37s 746us/sample - loss: 0.8191 - accuracy: 0.7145 - val_loss: 0.9031 - val_accuracy: 0.6907\n",
      "Epoch 10/20\n",
      "50000/50000 [==============================] - 37s 742us/sample - loss: 0.7905 - accuracy: 0.7218 - val_loss: 0.8925 - val_accuracy: 0.6934\n",
      "Epoch 11/20\n",
      "50000/50000 [==============================] - 36s 725us/sample - loss: 0.7558 - accuracy: 0.7351 - val_loss: 0.8691 - val_accuracy: 0.6987\n",
      "Epoch 12/20\n",
      "50000/50000 [==============================] - 36s 721us/sample - loss: 0.7398 - accuracy: 0.7422 - val_loss: 0.8910 - val_accuracy: 0.6963\n",
      "Epoch 13/20\n",
      "50000/50000 [==============================] - 36s 722us/sample - loss: 0.7165 - accuracy: 0.7484 - val_loss: 0.8730 - val_accuracy: 0.7025\n",
      "Epoch 14/20\n",
      "50000/50000 [==============================] - 36s 721us/sample - loss: 0.6951 - accuracy: 0.7560 - val_loss: 0.8866 - val_accuracy: 0.6954\n",
      "Epoch 15/20\n",
      "50000/50000 [==============================] - 36s 724us/sample - loss: 0.6721 - accuracy: 0.7621 - val_loss: 0.8771 - val_accuracy: 0.7070\n",
      "Epoch 16/20\n",
      "50000/50000 [==============================] - 36s 721us/sample - loss: 0.6613 - accuracy: 0.7696 - val_loss: 0.8755 - val_accuracy: 0.7040\n",
      "Epoch 17/20\n",
      "50000/50000 [==============================] - 37s 732us/sample - loss: 0.6456 - accuracy: 0.7726 - val_loss: 0.9080 - val_accuracy: 0.6997\n",
      "Epoch 18/20\n",
      "50000/50000 [==============================] - 36s 725us/sample - loss: 0.6309 - accuracy: 0.7780 - val_loss: 0.9117 - val_accuracy: 0.6955\n",
      "Epoch 19/20\n",
      "50000/50000 [==============================] - 36s 724us/sample - loss: 0.6188 - accuracy: 0.7823 - val_loss: 0.8911 - val_accuracy: 0.7040\n",
      "Epoch 20/20\n",
      "50000/50000 [==============================] - 37s 732us/sample - loss: 0.6049 - accuracy: 0.7864 - val_loss: 0.8856 - val_accuracy: 0.7087\n"
     ]
    }
   ],
   "source": [
    "model2=Sequential()\n",
    "model2.add(Conv2D(filters=32,kernel_size=(4,4),input_shape=(32,32,3),activation='relu'))\n",
    "model2.add(MaxPool2D(pool_size=(2,2)))\n",
    "model2.add(Dropout(0.25)) # Drop 25% of the units from the layer.\n",
    "model2.add(Conv2D(filters=32,kernel_size=(4,4),input_shape=(32,32,3),activation='relu'))\n",
    "model2.add(MaxPool2D(pool_size=(2,2)))\n",
    "model2.add(Dropout(0.25))\n",
    "model2.add(Flatten())\n",
    "model2.add(Dense(256,activation='relu'))\n",
    "model2.add(Dense(10,activation='softmax'))\n",
    "model2.compile(loss='categorical_crossentropy',optimizer='adam',metrics=['accuracy'])\n",
    "# training_steps = train_generator.samples//train_generator.batch_size\n",
    "# validation_steps=test_generator.samples//test_generator.batch_size\n",
    "# model2.fit_generator(train_generator,epochs=100,steps_per_epoch=training_steps,validation_data=test_generator,validation_steps=validation_steps,callbacks=[board])\n",
    "history2=model2.fit(x_train,y_train_cat,epochs=20,validation_data=(x_test,y_test_cat))"
   ]
  },
  {
   "cell_type": "code",
   "execution_count": 15,
   "metadata": {},
   "outputs": [
    {
     "name": "stdout",
     "output_type": "stream",
     "text": [
      "Train on 50000 samples, validate on 10000 samples\n",
      "Epoch 1/20\n",
      "50000/50000 [==============================] - 231s 5ms/sample - loss: 1.5430 - accuracy: 0.4332 - val_loss: 1.3611 - val_accuracy: 0.5079\n",
      "Epoch 2/20\n",
      "50000/50000 [==============================] - 233s 5ms/sample - loss: 1.1734 - accuracy: 0.5802 - val_loss: 1.0556 - val_accuracy: 0.6171\n",
      "Epoch 3/20\n",
      "50000/50000 [==============================] - 229s 5ms/sample - loss: 1.0043 - accuracy: 0.6445 - val_loss: 0.8912 - val_accuracy: 0.6928\n",
      "Epoch 4/20\n",
      "50000/50000 [==============================] - 234s 5ms/sample - loss: 0.9020 - accuracy: 0.6809 - val_loss: 0.8676 - val_accuracy: 0.7012\n",
      "Epoch 5/20\n",
      "50000/50000 [==============================] - 238s 5ms/sample - loss: 0.8283 - accuracy: 0.7090 - val_loss: 0.7799 - val_accuracy: 0.7270\n",
      "Epoch 6/20\n",
      "50000/50000 [==============================] - 230s 5ms/sample - loss: 0.7674 - accuracy: 0.7293 - val_loss: 0.7363 - val_accuracy: 0.7460\n",
      "Epoch 7/20\n",
      "50000/50000 [==============================] - 229s 5ms/sample - loss: 0.7182 - accuracy: 0.7489 - val_loss: 0.7504 - val_accuracy: 0.7424\n",
      "Epoch 8/20\n",
      "50000/50000 [==============================] - 228s 5ms/sample - loss: 0.6789 - accuracy: 0.7610 - val_loss: 0.7287 - val_accuracy: 0.7554\n",
      "Epoch 9/20\n",
      "50000/50000 [==============================] - 229s 5ms/sample - loss: 0.6403 - accuracy: 0.7716 - val_loss: 0.7161 - val_accuracy: 0.7556\n",
      "Epoch 10/20\n",
      "50000/50000 [==============================] - 229s 5ms/sample - loss: 0.6102 - accuracy: 0.7818 - val_loss: 0.6893 - val_accuracy: 0.7673\n",
      "Epoch 11/20\n",
      "50000/50000 [==============================] - 230s 5ms/sample - loss: 0.5802 - accuracy: 0.7941 - val_loss: 0.7215 - val_accuracy: 0.7604\n",
      "Epoch 12/20\n",
      "50000/50000 [==============================] - 228s 5ms/sample - loss: 0.5545 - accuracy: 0.8035 - val_loss: 0.7553 - val_accuracy: 0.7619\n",
      "Epoch 13/20\n",
      "50000/50000 [==============================] - 231s 5ms/sample - loss: 0.5333 - accuracy: 0.8123 - val_loss: 0.7008 - val_accuracy: 0.7727\n",
      "Epoch 14/20\n",
      "50000/50000 [==============================] - 229s 5ms/sample - loss: 0.5105 - accuracy: 0.8179 - val_loss: 0.7460 - val_accuracy: 0.7594\n",
      "Epoch 15/20\n",
      "50000/50000 [==============================] - 232s 5ms/sample - loss: 0.4868 - accuracy: 0.8267 - val_loss: 0.7749 - val_accuracy: 0.7673\n",
      "Epoch 16/20\n",
      "50000/50000 [==============================] - 237s 5ms/sample - loss: 0.4683 - accuracy: 0.8333 - val_loss: 0.8197 - val_accuracy: 0.7549\n",
      "Epoch 17/20\n",
      "50000/50000 [==============================] - 242s 5ms/sample - loss: 0.4573 - accuracy: 0.8376 - val_loss: 0.7788 - val_accuracy: 0.7617\n",
      "Epoch 18/20\n",
      "50000/50000 [==============================] - 310s 6ms/sample - loss: 0.4353 - accuracy: 0.8470 - val_loss: 0.7686 - val_accuracy: 0.7679\n",
      "Epoch 19/20\n",
      "50000/50000 [==============================] - 310s 6ms/sample - loss: 0.4248 - accuracy: 0.8500 - val_loss: 0.7642 - val_accuracy: 0.7685\n",
      "Epoch 20/20\n",
      "50000/50000 [==============================] - 310s 6ms/sample - loss: 0.4191 - accuracy: 0.8532 - val_loss: 0.7708 - val_accuracy: 0.7720\n"
     ]
    }
   ],
   "source": [
    "model3 = Sequential()\n",
    "model3.add(Conv2D(filters = 64, kernel_size = (3,3), activation = 'relu', input_shape = (32,32,3)))\n",
    "model3.add(Conv2D(filters = 64, kernel_size = (3,3), activation = 'relu'))\n",
    "model3.add(MaxPool2D(2,2))\n",
    "model3.add(Dropout(0.4))\n",
    "\n",
    "\n",
    "model3.add(Conv2D(filters = 128, kernel_size = (3,3), activation = 'relu'))\n",
    "model3.add(Conv2D(filters = 128, kernel_size = (3,3), activation = 'relu'))\n",
    "model3.add(MaxPool2D(2,2))\n",
    "model3.add(Dropout(0.4))\n",
    "\n",
    "model3.add(Flatten())\n",
    "\n",
    "model3.add(Dense(units = 1024, activation = 'relu'))\n",
    "\n",
    "model3.add(Dense(units = 1024, activation = 'relu'))\n",
    "\n",
    "model3.add(Dense(units = 10, activation = 'softmax'))\n",
    "model3.compile(loss = 'categorical_crossentropy', optimizer = 'adam', metrics = ['accuracy'])\n",
    "# model3.fit_generator(train_generator,epochs=100,steps_per_epoch=training_steps,validation_data=test_generator,validation_steps=validation_steps,callbacks=[board])\n",
    "history3=model3.fit(x_train,y_train_cat,epochs=20,validation_data=(x_test,y_test_cat)) # Train for more number of epochs"
   ]
  },
  {
   "cell_type": "code",
   "execution_count": 18,
   "metadata": {},
   "outputs": [
    {
     "data": {
      "text/plain": [
       "<AxesSubplot:>"
      ]
     },
     "execution_count": 18,
     "metadata": {},
     "output_type": "execute_result"
    },
    {
     "data": {
      "image/png": "[encoded data removed]",
      "text/plain": [
       "<Figure size 432x288 with 1 Axes>"
      ]
     },
     "metadata": {
      "needs_background": "light"
     },
     "output_type": "display_data"
    }
   ],
   "source": [
    "pd.DataFrame(history3.history).plot()"
   ]
  },
  {
   "cell_type": "code",
   "execution_count": 22,
   "metadata": {},
   "outputs": [
    {
     "name": "stdout",
     "output_type": "stream",
     "text": [
      "Train on 50000 samples, validate on 10000 samples\n",
      "Epoch 1/20\n",
      "50000/50000 [==============================] - 273s 5ms/sample - loss: 1.5894 - accuracy: 0.4517 - val_loss: 1.1002 - val_accuracy: 0.6123\n",
      "Epoch 2/20\n",
      "50000/50000 [==============================] - 245s 5ms/sample - loss: 1.0636 - accuracy: 0.6245 - val_loss: 1.0809 - val_accuracy: 0.6423\n",
      "Epoch 3/20\n",
      "50000/50000 [==============================] - 249s 5ms/sample - loss: 0.8996 - accuracy: 0.6895 - val_loss: 0.7497 - val_accuracy: 0.7410\n",
      "Epoch 4/20\n",
      "50000/50000 [==============================] - 243s 5ms/sample - loss: 0.7977 - accuracy: 0.7250 - val_loss: 0.7280 - val_accuracy: 0.7482\n",
      "Epoch 5/20\n",
      "50000/50000 [==============================] - 250s 5ms/sample - loss: 0.7179 - accuracy: 0.7539 - val_loss: 0.7421 - val_accuracy: 0.7484\n",
      "Epoch 6/20\n",
      "50000/50000 [==============================] - 261s 5ms/sample - loss: 0.6643 - accuracy: 0.7724 - val_loss: 0.5932 - val_accuracy: 0.7981\n",
      "Epoch 7/20\n",
      "50000/50000 [==============================] - 276s 6ms/sample - loss: 0.6133 - accuracy: 0.7880 - val_loss: 0.5654 - val_accuracy: 0.8029\n",
      "Epoch 8/20\n",
      "50000/50000 [==============================] - 280s 6ms/sample - loss: 0.5769 - accuracy: 0.8028 - val_loss: 0.5506 - val_accuracy: 0.8120\n",
      "Epoch 9/20\n",
      "50000/50000 [==============================] - 279s 6ms/sample - loss: 0.5482 - accuracy: 0.8130 - val_loss: 0.5112 - val_accuracy: 0.8275\n",
      "Epoch 10/20\n",
      "50000/50000 [==============================] - 275s 6ms/sample - loss: 0.5145 - accuracy: 0.8244 - val_loss: 0.5360 - val_accuracy: 0.8225\n",
      "Epoch 11/20\n",
      "50000/50000 [==============================] - 277s 6ms/sample - loss: 0.4942 - accuracy: 0.8308 - val_loss: 0.4945 - val_accuracy: 0.8340\n",
      "Epoch 12/20\n",
      "50000/50000 [==============================] - 290s 6ms/sample - loss: 0.4755 - accuracy: 0.8373 - val_loss: 0.4873 - val_accuracy: 0.8372\n",
      "Epoch 13/20\n",
      "50000/50000 [==============================] - 275s 5ms/sample - loss: 0.4577 - accuracy: 0.8437 - val_loss: 0.5209 - val_accuracy: 0.8308\n",
      "Epoch 14/20\n",
      "50000/50000 [==============================] - 276s 6ms/sample - loss: 0.4388 - accuracy: 0.8506 - val_loss: 0.4890 - val_accuracy: 0.8378\n",
      "Epoch 15/20\n",
      "50000/50000 [==============================] - 273s 5ms/sample - loss: 0.4252 - accuracy: 0.8536 - val_loss: 0.5222 - val_accuracy: 0.8253\n",
      "Epoch 16/20\n",
      "50000/50000 [==============================] - 272s 5ms/sample - loss: 0.4073 - accuracy: 0.8612 - val_loss: 0.4657 - val_accuracy: 0.8443\n",
      "Epoch 17/20\n",
      "50000/50000 [==============================] - 251s 5ms/sample - loss: 0.3977 - accuracy: 0.8629 - val_loss: 0.4421 - val_accuracy: 0.8525\n",
      "Epoch 18/20\n",
      "50000/50000 [==============================] - 266s 5ms/sample - loss: 0.3890 - accuracy: 0.8674 - val_loss: 0.4534 - val_accuracy: 0.8491\n",
      "Epoch 19/20\n",
      "50000/50000 [==============================] - 257s 5ms/sample - loss: 0.3759 - accuracy: 0.8705 - val_loss: 0.4734 - val_accuracy: 0.8442\n",
      "Epoch 20/20\n",
      "50000/50000 [==============================] - 256s 5ms/sample - loss: 0.3672 - accuracy: 0.8736 - val_loss: 0.4824 - val_accuracy: 0.8412\n"
     ]
    }
   ],
   "source": [
    "model5 = Sequential()\n",
    "model5.add(Conv2D(32, (3, 3), activation='relu', kernel_initializer='he_uniform', padding='same', input_shape=(32, 32, 3)))\n",
    "model5.add(BatchNormalization())\n",
    "model5.add(Conv2D(32, (3, 3), activation='relu', kernel_initializer='he_uniform', padding='same'))\n",
    "model5.add(BatchNormalization())\n",
    "model5.add(MaxPool2D((2, 2)))\n",
    "model5.add(Dropout(0.2))\n",
    "model5.add(Conv2D(64, (3, 3), activation='relu', kernel_initializer='he_uniform', padding='same'))\n",
    "model5.add(BatchNormalization())\n",
    "model5.add(Conv2D(64, (3, 3), activation='relu', kernel_initializer='he_uniform', padding='same'))\n",
    "model5.add(BatchNormalization())\n",
    "model5.add(MaxPool2D((2, 2)))\n",
    "model5.add(Dropout(0.3))\n",
    "model5.add(Conv2D(128, (3, 3), activation='relu', kernel_initializer='he_uniform', padding='same'))\n",
    "model5.add(BatchNormalization())\n",
    "model5.add(Conv2D(128, (3, 3), activation='relu', kernel_initializer='he_uniform', padding='same'))\n",
    "model5.add(BatchNormalization())\n",
    "model5.add(MaxPool2D((2, 2)))\n",
    "model5.add(Dropout(0.4))\n",
    "model5.add(Flatten())\n",
    "model5.add(Dense(128, activation='relu', kernel_initializer='he_uniform'))\n",
    "model5.add(BatchNormalization())\n",
    "model5.add(Dropout(0.5))\n",
    "model5.add(Dense(10, activation='softmax'))\n",
    "# compile model\n",
    "# opt = SGD(lr=0.001, momentum=0.9)\n",
    "model5.compile(optimizer='adam', loss='categorical_crossentropy', metrics=['accuracy'])\n",
    "# model5.fit_generator(train_generator,epochs=200,steps_per_epoch=training_steps,validation_data=test_generator,validation_steps=validation_steps,callbacks=[board])\n",
    "history5=model5.fit(x_train,y_train_cat,epochs=20,validation_data=(x_test,y_test_cat))"
   ]
  },
  {
   "cell_type": "code",
   "execution_count": null,
   "metadata": {},
   "outputs": [],
   "source": [
    "evaluation = model5.evaluate(x_test, y_test_cat)\n",
    "print('Test Accuracy: {}'.format(evaluation[1]))"
   ]
  }
 ],
 "metadata": {
  "kernelspec": {
   "display_name": "Python 3",
   "language": "python",
   "name": "python3"
  },
  "language_info": {
   "codemirror_mode": {
    "name": "ipython",
    "version": 3
   },
   "file_extension": ".py",
   "mimetype": "text/x-python",
   "name": "python",
   "nbconvert_exporter": "python",
   "pygments_lexer": "ipython3",
   "version": "3.7.9"
  }
 },
 "nbformat": 4,
 "nbformat_minor": 4
}
