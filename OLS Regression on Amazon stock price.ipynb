{
 "cells": [
  {
   "cell_type": "code",
   "execution_count": 27,
   "metadata": {},
   "outputs": [],
   "source": [
    "import pandas as pd\n",
    "import numpy as np\n",
    "import yfinance as yf\n",
    "import statsmodels.api as sm"
   ]
  },
  {
   "cell_type": "code",
   "execution_count": 28,
   "metadata": {},
   "outputs": [],
   "source": [
    "RISKY_ASSET = 'AMZN'\n",
    "MARKET_BENCHMARK = '^GSPC'\n",
    "START_DATE = '2016-01-01'\n",
    "END_DATE = '2021-02-10'\n"
   ]
  },
  {
   "cell_type": "markdown",
   "metadata": {},
   "source": [
    "Download data from Yahoo Finance"
   ]
  },
  {
   "cell_type": "code",
   "execution_count": 29,
   "metadata": {},
   "outputs": [
    {
     "name": "stdout",
     "output_type": "stream",
     "text": [
      "Downloaded 1285 rows of data.\n"
     ]
    }
   ],
   "source": [
    "df = yf.download([RISKY_ASSET, MARKET_BENCHMARK],\n",
    "                 start=START_DATE,\n",
    "                 end=END_DATE,\n",
    "                 adjusted=True,\n",
    "                 progress=False)\n",
    "\n",
    "print(f'Downloaded {df.shape[0]} rows of data.')"
   ]
  },
  {
   "cell_type": "code",
   "execution_count": 30,
   "metadata": {
    "scrolled": true
   },
   "outputs": [
    {
     "data": {
      "text/html": [
       "<div>\n",
       "<style scoped>\n",
       "    .dataframe tbody tr th:only-of-type {\n",
       "        vertical-align: middle;\n",
       "    }\n",
       "\n",
       "    .dataframe tbody tr th {\n",
       "        vertical-align: top;\n",
       "    }\n",
       "\n",
       "    .dataframe thead tr th {\n",
       "        text-align: left;\n",
       "    }\n",
       "\n",
       "    .dataframe thead tr:last-of-type th {\n",
       "        text-align: right;\n",
       "    }\n",
       "</style>\n",
       "<table border=\"1\" class=\"dataframe\">\n",
       "  <thead>\n",
       "    <tr>\n",
       "      <th></th>\n",
       "      <th colspan=\"2\" halign=\"left\">Adj Close</th>\n",
       "      <th colspan=\"2\" halign=\"left\">Close</th>\n",
       "      <th colspan=\"2\" halign=\"left\">High</th>\n",
       "      <th colspan=\"2\" halign=\"left\">Low</th>\n",
       "      <th colspan=\"2\" halign=\"left\">Open</th>\n",
       "      <th colspan=\"2\" halign=\"left\">Volume</th>\n",
       "    </tr>\n",
       "    <tr>\n",
       "      <th></th>\n",
       "      <th>AMZN</th>\n",
       "      <th>^GSPC</th>\n",
       "      <th>AMZN</th>\n",
       "      <th>^GSPC</th>\n",
       "      <th>AMZN</th>\n",
       "      <th>^GSPC</th>\n",
       "      <th>AMZN</th>\n",
       "      <th>^GSPC</th>\n",
       "      <th>AMZN</th>\n",
       "      <th>^GSPC</th>\n",
       "      <th>AMZN</th>\n",
       "      <th>^GSPC</th>\n",
       "    </tr>\n",
       "    <tr>\n",
       "      <th>Date</th>\n",
       "      <th></th>\n",
       "      <th></th>\n",
       "      <th></th>\n",
       "      <th></th>\n",
       "      <th></th>\n",
       "      <th></th>\n",
       "      <th></th>\n",
       "      <th></th>\n",
       "      <th></th>\n",
       "      <th></th>\n",
       "      <th></th>\n",
       "      <th></th>\n",
       "    </tr>\n",
       "  </thead>\n",
       "  <tbody>\n",
       "    <tr>\n",
       "      <th>2016-01-04</th>\n",
       "      <td>636.989990</td>\n",
       "      <td>2012.660034</td>\n",
       "      <td>636.989990</td>\n",
       "      <td>2012.660034</td>\n",
       "      <td>657.719971</td>\n",
       "      <td>2038.199951</td>\n",
       "      <td>627.510010</td>\n",
       "      <td>1989.680054</td>\n",
       "      <td>656.289978</td>\n",
       "      <td>2038.199951</td>\n",
       "      <td>9314500</td>\n",
       "      <td>4304880000</td>\n",
       "    </tr>\n",
       "    <tr>\n",
       "      <th>2016-01-05</th>\n",
       "      <td>633.789978</td>\n",
       "      <td>2016.709961</td>\n",
       "      <td>633.789978</td>\n",
       "      <td>2016.709961</td>\n",
       "      <td>646.909973</td>\n",
       "      <td>2021.939941</td>\n",
       "      <td>627.650024</td>\n",
       "      <td>2004.170044</td>\n",
       "      <td>646.859985</td>\n",
       "      <td>2013.780029</td>\n",
       "      <td>5822600</td>\n",
       "      <td>3706620000</td>\n",
       "    </tr>\n",
       "    <tr>\n",
       "      <th>2016-01-06</th>\n",
       "      <td>632.650024</td>\n",
       "      <td>1990.260010</td>\n",
       "      <td>632.650024</td>\n",
       "      <td>1990.260010</td>\n",
       "      <td>639.789978</td>\n",
       "      <td>2011.709961</td>\n",
       "      <td>620.309998</td>\n",
       "      <td>1979.050049</td>\n",
       "      <td>622.000000</td>\n",
       "      <td>2011.709961</td>\n",
       "      <td>5329200</td>\n",
       "      <td>4336660000</td>\n",
       "    </tr>\n",
       "    <tr>\n",
       "      <th>2016-01-07</th>\n",
       "      <td>607.940002</td>\n",
       "      <td>1943.089966</td>\n",
       "      <td>607.940002</td>\n",
       "      <td>1943.089966</td>\n",
       "      <td>630.000000</td>\n",
       "      <td>1985.319946</td>\n",
       "      <td>605.210022</td>\n",
       "      <td>1938.829956</td>\n",
       "      <td>621.799988</td>\n",
       "      <td>1985.319946</td>\n",
       "      <td>7074900</td>\n",
       "      <td>5076590000</td>\n",
       "    </tr>\n",
       "    <tr>\n",
       "      <th>2016-01-08</th>\n",
       "      <td>607.049988</td>\n",
       "      <td>1922.030029</td>\n",
       "      <td>607.049988</td>\n",
       "      <td>1922.030029</td>\n",
       "      <td>624.140015</td>\n",
       "      <td>1960.400024</td>\n",
       "      <td>606.000000</td>\n",
       "      <td>1918.459961</td>\n",
       "      <td>619.659973</td>\n",
       "      <td>1945.969971</td>\n",
       "      <td>5512900</td>\n",
       "      <td>4664940000</td>\n",
       "    </tr>\n",
       "  </tbody>\n",
       "</table>\n",
       "</div>"
      ],
      "text/plain": [
       "             Adj Close                    Close                     High  \\\n",
       "                  AMZN        ^GSPC        AMZN        ^GSPC        AMZN   \n",
       "Date                                                                       \n",
       "2016-01-04  636.989990  2012.660034  636.989990  2012.660034  657.719971   \n",
       "2016-01-05  633.789978  2016.709961  633.789978  2016.709961  646.909973   \n",
       "2016-01-06  632.650024  1990.260010  632.650024  1990.260010  639.789978   \n",
       "2016-01-07  607.940002  1943.089966  607.940002  1943.089966  630.000000   \n",
       "2016-01-08  607.049988  1922.030029  607.049988  1922.030029  624.140015   \n",
       "\n",
       "                                Low                     Open               \\\n",
       "                  ^GSPC        AMZN        ^GSPC        AMZN        ^GSPC   \n",
       "Date                                                                        \n",
       "2016-01-04  2038.199951  627.510010  1989.680054  656.289978  2038.199951   \n",
       "2016-01-05  2021.939941  627.650024  2004.170044  646.859985  2013.780029   \n",
       "2016-01-06  2011.709961  620.309998  1979.050049  622.000000  2011.709961   \n",
       "2016-01-07  1985.319946  605.210022  1938.829956  621.799988  1985.319946   \n",
       "2016-01-08  1960.400024  606.000000  1918.459961  619.659973  1945.969971   \n",
       "\n",
       "             Volume              \n",
       "               AMZN       ^GSPC  \n",
       "Date                             \n",
       "2016-01-04  9314500  4304880000  \n",
       "2016-01-05  5822600  3706620000  \n",
       "2016-01-06  5329200  4336660000  \n",
       "2016-01-07  7074900  5076590000  \n",
       "2016-01-08  5512900  4664940000  "
      ]
     },
     "execution_count": 30,
     "metadata": {},
     "output_type": "execute_result"
    }
   ],
   "source": [
    "df.head()"
   ]
  },
  {
   "cell_type": "markdown",
   "metadata": {},
   "source": [
    "Resample to monthly data and calculate simple returns"
   ]
  },
  {
   "cell_type": "code",
   "execution_count": 31,
   "metadata": {},
   "outputs": [
    {
     "data": {
      "text/html": [
       "<div>\n",
       "<style scoped>\n",
       "    .dataframe tbody tr th:only-of-type {\n",
       "        vertical-align: middle;\n",
       "    }\n",
       "\n",
       "    .dataframe tbody tr th {\n",
       "        vertical-align: top;\n",
       "    }\n",
       "\n",
       "    .dataframe thead th {\n",
       "        text-align: right;\n",
       "    }\n",
       "</style>\n",
       "<table border=\"1\" class=\"dataframe\">\n",
       "  <thead>\n",
       "    <tr style=\"text-align: right;\">\n",
       "      <th></th>\n",
       "      <th>asset</th>\n",
       "      <th>market</th>\n",
       "    </tr>\n",
       "    <tr>\n",
       "      <th>Date</th>\n",
       "      <th></th>\n",
       "      <th></th>\n",
       "    </tr>\n",
       "  </thead>\n",
       "  <tbody>\n",
       "    <tr>\n",
       "      <th>2016-02-29</th>\n",
       "      <td>-0.058739</td>\n",
       "      <td>-0.004128</td>\n",
       "    </tr>\n",
       "    <tr>\n",
       "      <th>2016-03-31</th>\n",
       "      <td>0.074423</td>\n",
       "      <td>0.065991</td>\n",
       "    </tr>\n",
       "    <tr>\n",
       "      <th>2016-04-30</th>\n",
       "      <td>0.111094</td>\n",
       "      <td>0.002699</td>\n",
       "    </tr>\n",
       "    <tr>\n",
       "      <th>2016-05-31</th>\n",
       "      <td>0.095817</td>\n",
       "      <td>0.015325</td>\n",
       "    </tr>\n",
       "    <tr>\n",
       "      <th>2016-06-30</th>\n",
       "      <td>-0.009920</td>\n",
       "      <td>0.000911</td>\n",
       "    </tr>\n",
       "  </tbody>\n",
       "</table>\n",
       "</div>"
      ],
      "text/plain": [
       "               asset    market\n",
       "Date                          \n",
       "2016-02-29 -0.058739 -0.004128\n",
       "2016-03-31  0.074423  0.065991\n",
       "2016-04-30  0.111094  0.002699\n",
       "2016-05-31  0.095817  0.015325\n",
       "2016-06-30 -0.009920  0.000911"
      ]
     },
     "execution_count": 31,
     "metadata": {},
     "output_type": "execute_result"
    }
   ],
   "source": [
    "X = df['Adj Close'].rename(columns={RISKY_ASSET: 'asset', \n",
    "                                    MARKET_BENCHMARK: 'market'}) \\\n",
    "                    .resample('M') \\\n",
    "                   .last() \\\n",
    "                   .pct_change() \\\n",
    "                   .dropna()\n",
    "X.head()"
   ]
  },
  {
   "cell_type": "markdown",
   "metadata": {},
   "source": [
    "Calculate beta using the covariance approach: "
   ]
  },
  {
   "cell_type": "code",
   "execution_count": 32,
   "metadata": {},
   "outputs": [
    {
     "data": {
      "text/plain": [
       "1.1358559175325675"
      ]
     },
     "execution_count": 32,
     "metadata": {},
     "output_type": "execute_result"
    }
   ],
   "source": [
    "covariance = X.cov().iloc[0,1]\n",
    "benchmark_variance = X.market.var()\n",
    "beta = covariance / benchmark_variance\n",
    "beta"
   ]
  },
  {
   "cell_type": "markdown",
   "metadata": {},
   "source": [
    "<font color = 'red'>Note: </font>\n",
    "Variance refers to the spread of a data set around its mean value, while a covariance refers to the measure of the directional relationship between two random variables."
   ]
  },
  {
   "cell_type": "markdown",
   "metadata": {},
   "source": [
    "Prepare the input and estimate CAPM as a linear regression"
   ]
  },
  {
   "cell_type": "code",
   "execution_count": 24,
   "metadata": {},
   "outputs": [
    {
     "name": "stdout",
     "output_type": "stream",
     "text": [
      "                            OLS Regression Results                            \n",
      "==============================================================================\n",
      "Dep. Variable:                  asset   R-squared:                       0.382\n",
      "Model:                            OLS   Adj. R-squared:                  0.372\n",
      "Method:                 Least Squares   F-statistic:                     36.53\n",
      "Date:                Wed, 17 Feb 2021   Prob (F-statistic):           1.09e-07\n",
      "Time:                        10:42:02   Log-Likelihood:                 83.059\n",
      "No. Observations:                  61   AIC:                            -162.1\n",
      "Df Residuals:                      59   BIC:                            -157.9\n",
      "Df Model:                           1                                         \n",
      "Covariance Type:            nonrobust                                         \n",
      "==============================================================================\n",
      "                 coef    std err          t      P>|t|      [0.025      0.975]\n",
      "------------------------------------------------------------------------------\n",
      "const          0.0176      0.008      2.090      0.041       0.001       0.034\n",
      "market         1.1359      0.188      6.044      0.000       0.760       1.512\n",
      "==============================================================================\n",
      "Omnibus:                        2.537   Durbin-Watson:                   1.827\n",
      "Prob(Omnibus):                  0.281   Jarque-Bera (JB):                2.082\n",
      "Skew:                           0.452   Prob(JB):                        0.353\n",
      "Kurtosis:                       3.029   Cond. No.                         23.3\n",
      "==============================================================================\n",
      "\n",
      "Warnings:\n",
      "[1] Standard Errors assume that the covariance matrix of the errors is correctly specified.\n"
     ]
    }
   ],
   "source": [
    "# separate target\n",
    "y = X.pop('asset')\n",
    "\n",
    "# add constant\n",
    "X = sm.add_constant(X)\n",
    "\n",
    "# define and fit the regression model \n",
    "capm_model = sm.OLS(y, X).fit()\n",
    "\n",
    "# print results \n",
    "print(capm_model.summary())"
   ]
  }
 ],
 "metadata": {
  "kernelspec": {
   "display_name": "Python 3",
   "language": "python",
   "name": "python3"
  },
  "language_info": {
   "codemirror_mode": {
    "name": "ipython",
    "version": 3
   },
   "file_extension": ".py",
   "mimetype": "text/x-python",
   "name": "python",
   "nbconvert_exporter": "python",
   "pygments_lexer": "ipython3",
   "version": "3.7.6"
  }
 },
 "nbformat": 4,
 "nbformat_minor": 2
}
